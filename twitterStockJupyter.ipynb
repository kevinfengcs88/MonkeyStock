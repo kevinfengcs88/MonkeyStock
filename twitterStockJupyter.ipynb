{
 "cells": [
  {
   "cell_type": "code",
   "execution_count": 5,
   "metadata": {},
   "outputs": [
    {
     "name": "stdout",
     "output_type": "stream",
     "text": [
      "\u001b[33mDEPRECATION: Configuring installation scheme with distutils config files is deprecated and will no longer work in the near future. If you are using a Homebrew or Linuxbrew Python, please see discussion at https://github.com/Homebrew/homebrew-core/issues/76621\u001b[0m\u001b[33m\n",
      "\u001b[0mCollecting numpy\n",
      "  Using cached numpy-1.22.3-cp39-cp39-macosx_11_0_arm64.whl (12.8 MB)\n",
      "Installing collected packages: numpy\n",
      "\u001b[33m  DEPRECATION: Configuring installation scheme with distutils config files is deprecated and will no longer work in the near future. If you are using a Homebrew or Linuxbrew Python, please see discussion at https://github.com/Homebrew/homebrew-core/issues/76621\u001b[0m\u001b[33m\n",
      "\u001b[0m\u001b[33mDEPRECATION: Configuring installation scheme with distutils config files is deprecated and will no longer work in the near future. If you are using a Homebrew or Linuxbrew Python, please see discussion at https://github.com/Homebrew/homebrew-core/issues/76621\u001b[0m\u001b[33m\n",
      "\u001b[0mSuccessfully installed numpy-1.22.3\n",
      "Note: you may need to restart the kernel to use updated packages.\n"
     ]
    }
   ],
   "source": [
    "pip install numpy"
   ]
  },
  {
   "cell_type": "code",
   "execution_count": 6,
   "metadata": {},
   "outputs": [
    {
     "name": "stdout",
     "output_type": "stream",
     "text": [
      "\u001b[33mDEPRECATION: Configuring installation scheme with distutils config files is deprecated and will no longer work in the near future. If you are using a Homebrew or Linuxbrew Python, please see discussion at https://github.com/Homebrew/homebrew-core/issues/76621\u001b[0m\u001b[33m\n",
      "\u001b[0mCollecting pandas\n",
      "  Downloading pandas-1.4.2-cp39-cp39-macosx_11_0_arm64.whl (10.1 MB)\n",
      "\u001b[2K     \u001b[90m━━━━━━━━━━━━━━━━━━━━━━━━━━━━━━━━━━━━━━━━\u001b[0m \u001b[32m10.1/10.1 MB\u001b[0m \u001b[31m9.3 MB/s\u001b[0m eta \u001b[36m0:00:00\u001b[0m00:01\u001b[0m0:01\u001b[0mm\n",
      "\u001b[?25hRequirement already satisfied: numpy>=1.20.0 in /opt/homebrew/lib/python3.9/site-packages (from pandas) (1.22.3)\n",
      "Collecting pytz>=2020.1\n",
      "  Downloading pytz-2022.1-py2.py3-none-any.whl (503 kB)\n",
      "\u001b[2K     \u001b[90m━━━━━━━━━━━━━━━━━━━━━━━━━━━━━━━━━━━━━━━\u001b[0m \u001b[32m503.5/503.5 KB\u001b[0m \u001b[31m8.8 MB/s\u001b[0m eta \u001b[36m0:00:00\u001b[0ma \u001b[36m0:00:01\u001b[0m\n",
      "\u001b[?25hRequirement already satisfied: python-dateutil>=2.8.1 in /opt/homebrew/lib/python3.9/site-packages (from pandas) (2.8.2)\n",
      "Requirement already satisfied: six>=1.5 in /opt/homebrew/lib/python3.9/site-packages (from python-dateutil>=2.8.1->pandas) (1.16.0)\n",
      "Installing collected packages: pytz, pandas\n",
      "\u001b[33m  DEPRECATION: Configuring installation scheme with distutils config files is deprecated and will no longer work in the near future. If you are using a Homebrew or Linuxbrew Python, please see discussion at https://github.com/Homebrew/homebrew-core/issues/76621\u001b[0m\u001b[33m\n",
      "\u001b[0m\u001b[33m  DEPRECATION: Configuring installation scheme with distutils config files is deprecated and will no longer work in the near future. If you are using a Homebrew or Linuxbrew Python, please see discussion at https://github.com/Homebrew/homebrew-core/issues/76621\u001b[0m\u001b[33m\n",
      "\u001b[0m\u001b[33mDEPRECATION: Configuring installation scheme with distutils config files is deprecated and will no longer work in the near future. If you are using a Homebrew or Linuxbrew Python, please see discussion at https://github.com/Homebrew/homebrew-core/issues/76621\u001b[0m\u001b[33m\n",
      "\u001b[0mSuccessfully installed pandas-1.4.2 pytz-2022.1\n",
      "Note: you may need to restart the kernel to use updated packages.\n"
     ]
    }
   ],
   "source": [
    "pip install pandas"
   ]
  },
  {
   "cell_type": "code",
   "execution_count": 7,
   "metadata": {},
   "outputs": [],
   "source": [
    "import numpy as np"
   ]
  },
  {
   "cell_type": "code",
   "execution_count": 8,
   "metadata": {},
   "outputs": [],
   "source": [
    "import pandas as pd"
   ]
  },
  {
   "cell_type": "code",
   "execution_count": 9,
   "metadata": {},
   "outputs": [
    {
     "name": "stdout",
     "output_type": "stream",
     "text": [
      "\u001b[33mDEPRECATION: Configuring installation scheme with distutils config files is deprecated and will no longer work in the near future. If you are using a Homebrew or Linuxbrew Python, please see discussion at https://github.com/Homebrew/homebrew-core/issues/76621\u001b[0m\u001b[33m\n",
      "\u001b[0mCollecting nltk\n",
      "  Using cached nltk-3.7-py3-none-any.whl (1.5 MB)\n",
      "Collecting regex>=2021.8.3\n",
      "  Using cached regex-2022.3.15-cp39-cp39-macosx_11_0_arm64.whl (281 kB)\n",
      "Collecting click\n",
      "  Downloading click-8.1.2-py3-none-any.whl (96 kB)\n",
      "\u001b[2K     \u001b[90m━━━━━━━━━━━━━━━━━━━━━━━━━━━━━━━━━━━━━━━━\u001b[0m \u001b[32m96.6/96.6 KB\u001b[0m \u001b[31m2.7 MB/s\u001b[0m eta \u001b[36m0:00:00\u001b[0m\n",
      "\u001b[?25hCollecting tqdm\n",
      "  Downloading tqdm-4.63.1-py2.py3-none-any.whl (76 kB)\n",
      "\u001b[2K     \u001b[90m━━━━━━━━━━━━━━━━━━━━━━━━━━━━━━━━━━━━━━━━\u001b[0m \u001b[32m76.6/76.6 KB\u001b[0m \u001b[31m2.6 MB/s\u001b[0m eta \u001b[36m0:00:00\u001b[0m\n",
      "\u001b[?25hCollecting joblib\n",
      "  Using cached joblib-1.1.0-py2.py3-none-any.whl (306 kB)\n",
      "Installing collected packages: tqdm, regex, joblib, click, nltk\n",
      "\u001b[33m  DEPRECATION: Configuring installation scheme with distutils config files is deprecated and will no longer work in the near future. If you are using a Homebrew or Linuxbrew Python, please see discussion at https://github.com/Homebrew/homebrew-core/issues/76621\u001b[0m\u001b[33m\n",
      "\u001b[0m\u001b[33m  DEPRECATION: Configuring installation scheme with distutils config files is deprecated and will no longer work in the near future. If you are using a Homebrew or Linuxbrew Python, please see discussion at https://github.com/Homebrew/homebrew-core/issues/76621\u001b[0m\u001b[33m\n",
      "\u001b[0m\u001b[33m  DEPRECATION: Configuring installation scheme with distutils config files is deprecated and will no longer work in the near future. If you are using a Homebrew or Linuxbrew Python, please see discussion at https://github.com/Homebrew/homebrew-core/issues/76621\u001b[0m\u001b[33m\n",
      "\u001b[0m\u001b[33m  DEPRECATION: Configuring installation scheme with distutils config files is deprecated and will no longer work in the near future. If you are using a Homebrew or Linuxbrew Python, please see discussion at https://github.com/Homebrew/homebrew-core/issues/76621\u001b[0m\u001b[33m\n",
      "\u001b[0m\u001b[33m  DEPRECATION: Configuring installation scheme with distutils config files is deprecated and will no longer work in the near future. If you are using a Homebrew or Linuxbrew Python, please see discussion at https://github.com/Homebrew/homebrew-core/issues/76621\u001b[0m\u001b[33m\n",
      "\u001b[0m\u001b[33mDEPRECATION: Configuring installation scheme with distutils config files is deprecated and will no longer work in the near future. If you are using a Homebrew or Linuxbrew Python, please see discussion at https://github.com/Homebrew/homebrew-core/issues/76621\u001b[0m\u001b[33m\n",
      "\u001b[0mSuccessfully installed click-8.1.2 joblib-1.1.0 nltk-3.7 regex-2022.3.15 tqdm-4.63.1\n",
      "Note: you may need to restart the kernel to use updated packages.\n"
     ]
    }
   ],
   "source": [
    "pip install nltk"
   ]
  },
  {
   "cell_type": "code",
   "execution_count": 10,
   "metadata": {},
   "outputs": [],
   "source": [
    "import nltk"
   ]
  },
  {
   "cell_type": "code",
   "execution_count": 11,
   "metadata": {},
   "outputs": [
    {
     "name": "stdout",
     "output_type": "stream",
     "text": [
      "\u001b[33mDEPRECATION: Configuring installation scheme with distutils config files is deprecated and will no longer work in the near future. If you are using a Homebrew or Linuxbrew Python, please see discussion at https://github.com/Homebrew/homebrew-core/issues/76621\u001b[0m\u001b[33m\n",
      "\u001b[0mCollecting sklearn\n",
      "  Using cached sklearn-0.0-py2.py3-none-any.whl\n",
      "Collecting scikit-learn\n",
      "  Using cached scikit_learn-1.0.2-cp39-cp39-macosx_12_0_arm64.whl (6.9 MB)\n",
      "Collecting threadpoolctl>=2.0.0\n",
      "  Using cached threadpoolctl-3.1.0-py3-none-any.whl (14 kB)\n",
      "Collecting scipy>=1.1.0\n",
      "  Using cached scipy-1.8.0-cp39-cp39-macosx_12_0_arm64.whl (28.7 MB)\n",
      "Requirement already satisfied: numpy>=1.14.6 in /opt/homebrew/lib/python3.9/site-packages (from scikit-learn->sklearn) (1.22.3)\n",
      "Requirement already satisfied: joblib>=0.11 in /opt/homebrew/lib/python3.9/site-packages (from scikit-learn->sklearn) (1.1.0)\n",
      "Installing collected packages: threadpoolctl, scipy, scikit-learn, sklearn\n",
      "\u001b[33m  DEPRECATION: Configuring installation scheme with distutils config files is deprecated and will no longer work in the near future. If you are using a Homebrew or Linuxbrew Python, please see discussion at https://github.com/Homebrew/homebrew-core/issues/76621\u001b[0m\u001b[33m\n",
      "\u001b[0m\u001b[33m  DEPRECATION: Configuring installation scheme with distutils config files is deprecated and will no longer work in the near future. If you are using a Homebrew or Linuxbrew Python, please see discussion at https://github.com/Homebrew/homebrew-core/issues/76621\u001b[0m\u001b[33m\n",
      "\u001b[0m\u001b[33m  DEPRECATION: Configuring installation scheme with distutils config files is deprecated and will no longer work in the near future. If you are using a Homebrew or Linuxbrew Python, please see discussion at https://github.com/Homebrew/homebrew-core/issues/76621\u001b[0m\u001b[33m\n",
      "\u001b[0m\u001b[33m  DEPRECATION: Configuring installation scheme with distutils config files is deprecated and will no longer work in the near future. If you are using a Homebrew or Linuxbrew Python, please see discussion at https://github.com/Homebrew/homebrew-core/issues/76621\u001b[0m\u001b[33m\n",
      "\u001b[0m\u001b[33mDEPRECATION: Configuring installation scheme with distutils config files is deprecated and will no longer work in the near future. If you are using a Homebrew or Linuxbrew Python, please see discussion at https://github.com/Homebrew/homebrew-core/issues/76621\u001b[0m\u001b[33m\n",
      "\u001b[0mSuccessfully installed scikit-learn-1.0.2 scipy-1.8.0 sklearn-0.0 threadpoolctl-3.1.0\n",
      "Note: you may need to restart the kernel to use updated packages.\n"
     ]
    }
   ],
   "source": [
    "pip install sklearn"
   ]
  },
  {
   "cell_type": "code",
   "execution_count": 12,
   "metadata": {},
   "outputs": [],
   "source": [
    "import sklearn"
   ]
  },
  {
   "cell_type": "code",
   "execution_count": 17,
   "metadata": {},
   "outputs": [],
   "source": [
    "\n",
    "cols = ['polarity','id','date','flag','user','text']\n",
    "set_encoding = \"ISO-8859-1\"\n"
   ]
  },
  {
   "cell_type": "code",
   "execution_count": 46,
   "metadata": {},
   "outputs": [
    {
     "data": {
      "text/html": [
       "<div>\n",
       "<style scoped>\n",
       "    .dataframe tbody tr th:only-of-type {\n",
       "        vertical-align: middle;\n",
       "    }\n",
       "\n",
       "    .dataframe tbody tr th {\n",
       "        vertical-align: top;\n",
       "    }\n",
       "\n",
       "    .dataframe thead th {\n",
       "        text-align: right;\n",
       "    }\n",
       "</style>\n",
       "<table border=\"1\" class=\"dataframe\">\n",
       "  <thead>\n",
       "    <tr style=\"text-align: right;\">\n",
       "      <th></th>\n",
       "      <th>polarity</th>\n",
       "      <th>id</th>\n",
       "      <th>date</th>\n",
       "      <th>flag</th>\n",
       "      <th>user</th>\n",
       "      <th>text</th>\n",
       "    </tr>\n",
       "  </thead>\n",
       "  <tbody>\n",
       "    <tr>\n",
       "      <th>1444409</th>\n",
       "      <td>4</td>\n",
       "      <td>2062253088</td>\n",
       "      <td>Sat Jun 06 22:43:24 PDT 2009</td>\n",
       "      <td>NO_QUERY</td>\n",
       "      <td>Bennie21</td>\n",
       "      <td>@Andibee17 i know u are!</td>\n",
       "    </tr>\n",
       "    <tr>\n",
       "      <th>940839</th>\n",
       "      <td>4</td>\n",
       "      <td>1794069133</td>\n",
       "      <td>Thu May 14 04:52:08 PDT 2009</td>\n",
       "      <td>NO_QUERY</td>\n",
       "      <td>soaresart</td>\n",
       "      <td>@Beccamford I shoot portraits, weddings, bapti...</td>\n",
       "    </tr>\n",
       "    <tr>\n",
       "      <th>512838</th>\n",
       "      <td>0</td>\n",
       "      <td>2190234823</td>\n",
       "      <td>Tue Jun 16 02:08:59 PDT 2009</td>\n",
       "      <td>NO_QUERY</td>\n",
       "      <td>kantashi</td>\n",
       "      <td>SingPost lost my parcel, now i am in trouble</td>\n",
       "    </tr>\n",
       "    <tr>\n",
       "      <th>1061562</th>\n",
       "      <td>4</td>\n",
       "      <td>1963819621</td>\n",
       "      <td>Fri May 29 13:17:52 PDT 2009</td>\n",
       "      <td>NO_QUERY</td>\n",
       "      <td>amandab220</td>\n",
       "      <td>dogs are people too</td>\n",
       "    </tr>\n",
       "    <tr>\n",
       "      <th>416949</th>\n",
       "      <td>0</td>\n",
       "      <td>2061419257</td>\n",
       "      <td>Sat Jun 06 20:49:49 PDT 2009</td>\n",
       "      <td>NO_QUERY</td>\n",
       "      <td>lady_yaya09</td>\n",
       "      <td>Hola new follower. I'm currently twittering on...</td>\n",
       "    </tr>\n",
       "    <tr>\n",
       "      <th>1399630</th>\n",
       "      <td>4</td>\n",
       "      <td>2054263004</td>\n",
       "      <td>Sat Jun 06 06:57:38 PDT 2009</td>\n",
       "      <td>NO_QUERY</td>\n",
       "      <td>_MsWhite</td>\n",
       "      <td>@JasonBradbury You're Welcome!  GTX 285 Also a...</td>\n",
       "    </tr>\n",
       "    <tr>\n",
       "      <th>499328</th>\n",
       "      <td>0</td>\n",
       "      <td>2186495835</td>\n",
       "      <td>Mon Jun 15 18:55:24 PDT 2009</td>\n",
       "      <td>NO_QUERY</td>\n",
       "      <td>johnharp89</td>\n",
       "      <td>@dontstealneal the photo is from like january ...</td>\n",
       "    </tr>\n",
       "    <tr>\n",
       "      <th>1474858</th>\n",
       "      <td>4</td>\n",
       "      <td>2065792623</td>\n",
       "      <td>Sun Jun 07 09:17:59 PDT 2009</td>\n",
       "      <td>NO_QUERY</td>\n",
       "      <td>taruh_</td>\n",
       "      <td>Is goin fishin  this should be interesting.</td>\n",
       "    </tr>\n",
       "    <tr>\n",
       "      <th>911408</th>\n",
       "      <td>4</td>\n",
       "      <td>1751952411</td>\n",
       "      <td>Sat May 09 20:40:59 PDT 2009</td>\n",
       "      <td>NO_QUERY</td>\n",
       "      <td>KevinCole509</td>\n",
       "      <td>@stephenhartley Lucky...and a wife who loves me.</td>\n",
       "    </tr>\n",
       "    <tr>\n",
       "      <th>1569496</th>\n",
       "      <td>4</td>\n",
       "      <td>2188414741</td>\n",
       "      <td>Mon Jun 15 21:51:20 PDT 2009</td>\n",
       "      <td>NO_QUERY</td>\n",
       "      <td>jadeelyse</td>\n",
       "      <td>@ItsDayana just go to sleep.</td>\n",
       "    </tr>\n",
       "  </tbody>\n",
       "</table>\n",
       "</div>"
      ],
      "text/plain": [
       "         polarity          id                          date      flag  \\\n",
       "1444409         4  2062253088  Sat Jun 06 22:43:24 PDT 2009  NO_QUERY   \n",
       "940839          4  1794069133  Thu May 14 04:52:08 PDT 2009  NO_QUERY   \n",
       "512838          0  2190234823  Tue Jun 16 02:08:59 PDT 2009  NO_QUERY   \n",
       "1061562         4  1963819621  Fri May 29 13:17:52 PDT 2009  NO_QUERY   \n",
       "416949          0  2061419257  Sat Jun 06 20:49:49 PDT 2009  NO_QUERY   \n",
       "1399630         4  2054263004  Sat Jun 06 06:57:38 PDT 2009  NO_QUERY   \n",
       "499328          0  2186495835  Mon Jun 15 18:55:24 PDT 2009  NO_QUERY   \n",
       "1474858         4  2065792623  Sun Jun 07 09:17:59 PDT 2009  NO_QUERY   \n",
       "911408          4  1751952411  Sat May 09 20:40:59 PDT 2009  NO_QUERY   \n",
       "1569496         4  2188414741  Mon Jun 15 21:51:20 PDT 2009  NO_QUERY   \n",
       "\n",
       "                 user                                               text  \n",
       "1444409      Bennie21                          @Andibee17 i know u are!   \n",
       "940839      soaresart  @Beccamford I shoot portraits, weddings, bapti...  \n",
       "512838       kantashi      SingPost lost my parcel, now i am in trouble   \n",
       "1061562    amandab220                               dogs are people too   \n",
       "416949    lady_yaya09  Hola new follower. I'm currently twittering on...  \n",
       "1399630      _MsWhite  @JasonBradbury You're Welcome!  GTX 285 Also a...  \n",
       "499328     johnharp89  @dontstealneal the photo is from like january ...  \n",
       "1474858        taruh_        Is goin fishin  this should be interesting.  \n",
       "911408   KevinCole509  @stephenhartley Lucky...and a wife who loves me.   \n",
       "1569496     jadeelyse                      @ItsDayana just go to sleep.   "
      ]
     },
     "execution_count": 46,
     "metadata": {},
     "output_type": "execute_result"
    }
   ],
   "source": [
    "df = pd.read_csv('training.1600000.processed.noemoticon.csv', encoding=set_encoding, names=cols)\n",
    "#df.sample(10)"
   ]
  },
  {
   "cell_type": "code",
   "execution_count": 42,
   "metadata": {},
   "outputs": [
    {
     "data": {
      "text/plain": [
       "0"
      ]
     },
     "execution_count": 42,
     "metadata": {},
     "output_type": "execute_result"
    }
   ],
   "source": [
    "np.sum(df.isnull().any(axis=1))"
   ]
  },
  {
   "cell_type": "code",
   "execution_count": 37,
   "metadata": {},
   "outputs": [
    {
     "data": {
      "text/html": [
       "<div>\n",
       "<style scoped>\n",
       "    .dataframe tbody tr th:only-of-type {\n",
       "        vertical-align: middle;\n",
       "    }\n",
       "\n",
       "    .dataframe tbody tr th {\n",
       "        vertical-align: top;\n",
       "    }\n",
       "\n",
       "    .dataframe thead th {\n",
       "        text-align: right;\n",
       "    }\n",
       "</style>\n",
       "<table border=\"1\" class=\"dataframe\">\n",
       "  <thead>\n",
       "    <tr style=\"text-align: right;\">\n",
       "      <th></th>\n",
       "      <th>text</th>\n",
       "      <th>polarity</th>\n",
       "    </tr>\n",
       "  </thead>\n",
       "  <tbody>\n",
       "    <tr>\n",
       "      <th>503400</th>\n",
       "      <td>Damn. It. Hootsuite not loading.</td>\n",
       "      <td>0</td>\n",
       "    </tr>\n",
       "    <tr>\n",
       "      <th>337979</th>\n",
       "      <td>@TheSourceress Lol, sorry i thought you were t...</td>\n",
       "      <td>0</td>\n",
       "    </tr>\n",
       "    <tr>\n",
       "      <th>1358307</th>\n",
       "      <td>@bicoastalite omg i am so excited.  we must ch...</td>\n",
       "      <td>4</td>\n",
       "    </tr>\n",
       "    <tr>\n",
       "      <th>265350</th>\n",
       "      <td>says it's raining puppies and kittens na here ...</td>\n",
       "      <td>0</td>\n",
       "    </tr>\n",
       "    <tr>\n",
       "      <th>734281</th>\n",
       "      <td>uuuhhh, my sister woke me up for fathers day.....</td>\n",
       "      <td>0</td>\n",
       "    </tr>\n",
       "    <tr>\n",
       "      <th>552922</th>\n",
       "      <td>Wishing I was going to the Lakers parade tomor...</td>\n",
       "      <td>0</td>\n",
       "    </tr>\n",
       "    <tr>\n",
       "      <th>229098</th>\n",
       "      <td>@Saosin i just saw UP for my date movie and th...</td>\n",
       "      <td>0</td>\n",
       "    </tr>\n",
       "    <tr>\n",
       "      <th>1429789</th>\n",
       "      <td>I realy enjoy the sims 3!! I have yet to resor...</td>\n",
       "      <td>4</td>\n",
       "    </tr>\n",
       "    <tr>\n",
       "      <th>903008</th>\n",
       "      <td>Up, I slept in till 11.02 !!! Shooting a new v...</td>\n",
       "      <td>4</td>\n",
       "    </tr>\n",
       "    <tr>\n",
       "      <th>1558093</th>\n",
       "      <td>http://bit.ly/UEvTk Your dominant vibration be...</td>\n",
       "      <td>4</td>\n",
       "    </tr>\n",
       "  </tbody>\n",
       "</table>\n",
       "</div>"
      ],
      "text/plain": [
       "                                                      text  polarity\n",
       "503400                   Damn. It. Hootsuite not loading.          0\n",
       "337979   @TheSourceress Lol, sorry i thought you were t...         0\n",
       "1358307  @bicoastalite omg i am so excited.  we must ch...         4\n",
       "265350   says it's raining puppies and kittens na here ...         0\n",
       "734281   uuuhhh, my sister woke me up for fathers day.....         0\n",
       "552922   Wishing I was going to the Lakers parade tomor...         0\n",
       "229098   @Saosin i just saw UP for my date movie and th...         0\n",
       "1429789  I realy enjoy the sims 3!! I have yet to resor...         4\n",
       "903008   Up, I slept in till 11.02 !!! Shooting a new v...         4\n",
       "1558093  http://bit.ly/UEvTk Your dominant vibration be...         4"
      ]
     },
     "execution_count": 37,
     "metadata": {},
     "output_type": "execute_result"
    }
   ],
   "source": [
    "data=df[['text','polarity']]\n",
    "data.sample(10)"
   ]
  },
  {
   "cell_type": "code",
   "execution_count": 47,
   "metadata": {},
   "outputs": [],
   "source": [
    "data['polarity'] = data['polarity'].replace(4,1)\n"
   ]
  },
  {
   "cell_type": "code",
   "execution_count": 55,
   "metadata": {},
   "outputs": [
    {
     "data": {
      "text/html": [
       "<div>\n",
       "<style scoped>\n",
       "    .dataframe tbody tr th:only-of-type {\n",
       "        vertical-align: middle;\n",
       "    }\n",
       "\n",
       "    .dataframe tbody tr th {\n",
       "        vertical-align: top;\n",
       "    }\n",
       "\n",
       "    .dataframe thead th {\n",
       "        text-align: right;\n",
       "    }\n",
       "</style>\n",
       "<table border=\"1\" class=\"dataframe\">\n",
       "  <thead>\n",
       "    <tr style=\"text-align: right;\">\n",
       "      <th></th>\n",
       "      <th>text</th>\n",
       "      <th>polarity</th>\n",
       "    </tr>\n",
       "  </thead>\n",
       "  <tbody>\n",
       "    <tr>\n",
       "      <th>802209</th>\n",
       "      <td>@kirstyr77 thanks!  hope all is well with you ...</td>\n",
       "      <td>1</td>\n",
       "    </tr>\n",
       "    <tr>\n",
       "      <th>808282</th>\n",
       "      <td>lunch now. be seeing you</td>\n",
       "      <td>1</td>\n",
       "    </tr>\n",
       "    <tr>\n",
       "      <th>5460</th>\n",
       "      <td>does anyone know if networks are down in italy...</td>\n",
       "      <td>0</td>\n",
       "    </tr>\n",
       "    <tr>\n",
       "      <th>817388</th>\n",
       "      <td>i am going to try this to see if it sucks</td>\n",
       "      <td>1</td>\n",
       "    </tr>\n",
       "    <tr>\n",
       "      <th>813924</th>\n",
       "      <td>a lot of games played already  first starcraft...</td>\n",
       "      <td>1</td>\n",
       "    </tr>\n",
       "    <tr>\n",
       "      <th>4579</th>\n",
       "      <td>getting ready for a 2nd day of faith-based and...</td>\n",
       "      <td>0</td>\n",
       "    </tr>\n",
       "    <tr>\n",
       "      <th>805704</th>\n",
       "      <td>@mileycyrus good morning miley! i hope you hav...</td>\n",
       "      <td>1</td>\n",
       "    </tr>\n",
       "    <tr>\n",
       "      <th>7602</th>\n",
       "      <td>meeting for the next couple hours about automa...</td>\n",
       "      <td>0</td>\n",
       "    </tr>\n",
       "    <tr>\n",
       "      <th>10069</th>\n",
       "      <td>@jaccsparrow are you sleeping in or something,...</td>\n",
       "      <td>0</td>\n",
       "    </tr>\n",
       "    <tr>\n",
       "      <th>807128</th>\n",
       "      <td>@hippielove feeling good today i hope. feels l...</td>\n",
       "      <td>1</td>\n",
       "    </tr>\n",
       "    <tr>\n",
       "      <th>800163</th>\n",
       "      <td>@katieporrello thank you katie! heading to the...</td>\n",
       "      <td>1</td>\n",
       "    </tr>\n",
       "    <tr>\n",
       "      <th>16051</th>\n",
       "      <td>@babybird42  me would be playing wow but its n...</td>\n",
       "      <td>0</td>\n",
       "    </tr>\n",
       "    <tr>\n",
       "      <th>17543</th>\n",
       "      <td>preparing my kids with their mid term exam pro...</td>\n",
       "      <td>0</td>\n",
       "    </tr>\n",
       "    <tr>\n",
       "      <th>1743</th>\n",
       "      <td>now even more annoyed with bones. i would have...</td>\n",
       "      <td>0</td>\n",
       "    </tr>\n",
       "    <tr>\n",
       "      <th>817814</th>\n",
       "      <td>@debdoyle and i much prefer something that doe...</td>\n",
       "      <td>1</td>\n",
       "    </tr>\n",
       "    <tr>\n",
       "      <th>12772</th>\n",
       "      <td>going to coffee shop to get lots of work done ...</td>\n",
       "      <td>0</td>\n",
       "    </tr>\n",
       "    <tr>\n",
       "      <th>803980</th>\n",
       "      <td>@estar79 it wasn't me....i am looking for that...</td>\n",
       "      <td>1</td>\n",
       "    </tr>\n",
       "    <tr>\n",
       "      <th>17582</th>\n",
       "      <td>i think i'm catching a cold  even though it's ...</td>\n",
       "      <td>0</td>\n",
       "    </tr>\n",
       "    <tr>\n",
       "      <th>11881</th>\n",
       "      <td>@ohsoretro can i trade your day for mine?  tod...</td>\n",
       "      <td>0</td>\n",
       "    </tr>\n",
       "    <tr>\n",
       "      <th>808412</th>\n",
       "      <td>is looking at her lvly flowers</td>\n",
       "      <td>1</td>\n",
       "    </tr>\n",
       "  </tbody>\n",
       "</table>\n",
       "</div>"
      ],
      "text/plain": [
       "                                                     text  polarity\n",
       "802209  @kirstyr77 thanks!  hope all is well with you ...         1\n",
       "808282                          lunch now. be seeing you          1\n",
       "5460    does anyone know if networks are down in italy...         0\n",
       "817388         i am going to try this to see if it sucks          1\n",
       "813924  a lot of games played already  first starcraft...         1\n",
       "4579    getting ready for a 2nd day of faith-based and...         0\n",
       "805704  @mileycyrus good morning miley! i hope you hav...         1\n",
       "7602    meeting for the next couple hours about automa...         0\n",
       "10069   @jaccsparrow are you sleeping in or something,...         0\n",
       "807128  @hippielove feeling good today i hope. feels l...         1\n",
       "800163  @katieporrello thank you katie! heading to the...         1\n",
       "16051   @babybird42  me would be playing wow but its n...         0\n",
       "17543   preparing my kids with their mid term exam pro...         0\n",
       "1743    now even more annoyed with bones. i would have...         0\n",
       "817814  @debdoyle and i much prefer something that doe...         1\n",
       "12772   going to coffee shop to get lots of work done ...         0\n",
       "803980  @estar79 it wasn't me....i am looking for that...         1\n",
       "17582   i think i'm catching a cold  even though it's ...         0\n",
       "11881   @ohsoretro can i trade your day for mine?  tod...         0\n",
       "808412                    is looking at her lvly flowers          1"
      ]
     },
     "execution_count": 55,
     "metadata": {},
     "output_type": "execute_result"
    }
   ],
   "source": [
    "data_pos = data[data['polarity'] == 1].iloc[:int(20000)]\n",
    "data_neg = data[data['polarity'] == 0].iloc[:int(20000)]\n",
    "dataset = pd.concat([data_pos, data_neg])\n",
    "dataset['text']=dataset['text'].str.lower()\n",
    "dataset['text'].tail()\n",
    "#dataset.sample(20)"
   ]
  },
  {
   "cell_type": "code",
   "execution_count": 59,
   "metadata": {},
   "outputs": [
    {
     "name": "stderr",
     "output_type": "stream",
     "text": [
      "[nltk_data] Downloading package stopwords to\n",
      "[nltk_data]     /Users/mikebazarsky/nltk_data...\n",
      "[nltk_data]   Package stopwords is already up-to-date!\n"
     ]
    }
   ],
   "source": [
    "import nltk\n",
    "from nltk.corpus import stopwords\n",
    "nltk.download('stopwords')\n",
    "STOPWORDS = set(stopwords.words('english'))\n",
    "#print(stopwords.words('english'))"
   ]
  },
  {
   "cell_type": "code",
   "execution_count": 63,
   "metadata": {},
   "outputs": [],
   "source": [
    "def cleaning_stopwords(text):\n",
    "    return \" \".join([word for word in str(text).split() if word not in STOPWORDS])\n"
   ]
  },
  {
   "cell_type": "code",
   "execution_count": 71,
   "metadata": {},
   "outputs": [
    {
     "data": {
      "text/plain": [
       "19995    much time weekend work trip malmï¿½ frisat tod...\n",
       "19996                                     one day holidays\n",
       "19997                      feeling right hate damn humprey\n",
       "19998    geezi hv read whole book personality types emb...\n",
       "19999     threw sign donnie bent get thingee made sad face\n",
       "Name: text, dtype: object"
      ]
     },
     "execution_count": 71,
     "metadata": {},
     "output_type": "execute_result"
    }
   ],
   "source": [
    "dataset['text'] = dataset['text'].apply(lambda text: cleaning_stopwords(text))\n",
    "dataset['text'].tail()"
   ]
  },
  {
   "cell_type": "code",
   "execution_count": 68,
   "metadata": {},
   "outputs": [
    {
     "name": "stdout",
     "output_type": "stream",
     "text": [
      "!\"#$%&'()*+,-./:;<=>?@[\\]^_`{|}~\n"
     ]
    }
   ],
   "source": [
    "import string\n",
    "english_punctuations = string.punctuation\n",
    "print(english_punctuations)"
   ]
  },
  {
   "cell_type": "code",
   "execution_count": 69,
   "metadata": {},
   "outputs": [],
   "source": [
    "def cleaning_punctuations(text):\n",
    "    translator = str.maketrans('', '', english_punctuations)\n",
    "    return text.translate(translator)"
   ]
  },
  {
   "cell_type": "code",
   "execution_count": 70,
   "metadata": {},
   "outputs": [
    {
     "data": {
      "text/plain": [
       "19995    much time weekend work trip malmï¿½ frisat tod...\n",
       "19996                                     one day holidays\n",
       "19997                     feeling right  hate damn humprey\n",
       "19998    geezi hv read whole book personality types emb...\n",
       "19999     threw sign donnie bent get thingee made sad face\n",
       "Name: text, dtype: object"
      ]
     },
     "execution_count": 70,
     "metadata": {},
     "output_type": "execute_result"
    }
   ],
   "source": [
    "dataset['text']= dataset['text'].apply(lambda x: cleaning_punctuations(x))\n",
    "dataset['text'].tail()"
   ]
  },
  {
   "cell_type": "code",
   "execution_count": null,
   "metadata": {},
   "outputs": [],
   "source": []
  }
 ],
 "metadata": {
  "interpreter": {
   "hash": "b0fa6594d8f4cbf19f97940f81e996739fb7646882a419484c72d19e05852a7e"
  },
  "kernelspec": {
   "display_name": "Python 3.9.6 64-bit",
   "language": "python",
   "name": "python3"
  },
  "language_info": {
   "codemirror_mode": {
    "name": "ipython",
    "version": 3
   },
   "file_extension": ".py",
   "mimetype": "text/x-python",
   "name": "python",
   "nbconvert_exporter": "python",
   "pygments_lexer": "ipython3",
   "version": "3.9.6"
  },
  "orig_nbformat": 4
 },
 "nbformat": 4,
 "nbformat_minor": 2
}
