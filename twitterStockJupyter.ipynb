{
 "cells": [
  {
   "cell_type": "code",
   "execution_count": 253,
   "metadata": {},
   "outputs": [],
   "source": [
    "import numpy as np"
   ]
  },
  {
   "cell_type": "code",
   "execution_count": 254,
   "metadata": {},
   "outputs": [],
   "source": [
    "import pandas as pd"
   ]
  },
  {
   "cell_type": "code",
   "execution_count": 255,
   "metadata": {},
   "outputs": [],
   "source": [
    "import nltk"
   ]
  },
  {
   "cell_type": "code",
   "execution_count": 256,
   "metadata": {},
   "outputs": [],
   "source": [
    "import sklearn"
   ]
  },
  {
   "cell_type": "code",
   "execution_count": 257,
   "metadata": {},
   "outputs": [],
   "source": [
    "\n",
    "cols = ['polarity','id','date','flag','user','text']\n",
    "set_encoding = \"ISO-8859-1\"\n"
   ]
  },
  {
   "cell_type": "code",
   "execution_count": 258,
   "metadata": {},
   "outputs": [],
   "source": [
    "df = pd.read_csv('training.1600000.processed.noemoticon.csv', encoding=set_encoding, names=cols)\n",
    "#df.sample(10)"
   ]
  },
  {
   "cell_type": "code",
   "execution_count": 259,
   "metadata": {},
   "outputs": [
    {
     "data": {
      "text/plain": [
       "0"
      ]
     },
     "execution_count": 259,
     "metadata": {},
     "output_type": "execute_result"
    }
   ],
   "source": [
    "np.sum(df.isnull().any(axis=1))"
   ]
  },
  {
   "cell_type": "code",
   "execution_count": 286,
   "metadata": {},
   "outputs": [
    {
     "data": {
      "text/html": [
       "<div>\n",
       "<style scoped>\n",
       "    .dataframe tbody tr th:only-of-type {\n",
       "        vertical-align: middle;\n",
       "    }\n",
       "\n",
       "    .dataframe tbody tr th {\n",
       "        vertical-align: top;\n",
       "    }\n",
       "\n",
       "    .dataframe thead th {\n",
       "        text-align: right;\n",
       "    }\n",
       "</style>\n",
       "<table border=\"1\" class=\"dataframe\">\n",
       "  <thead>\n",
       "    <tr style=\"text-align: right;\">\n",
       "      <th></th>\n",
       "      <th>text</th>\n",
       "      <th>polarity</th>\n",
       "    </tr>\n",
       "  </thead>\n",
       "  <tbody>\n",
       "    <tr>\n",
       "      <th>311015</th>\n",
       "      <td>as expected... errors</td>\n",
       "      <td>0</td>\n",
       "    </tr>\n",
       "    <tr>\n",
       "      <th>463251</th>\n",
       "      <td>exam went gr8.... missin my friends</td>\n",
       "      <td>0</td>\n",
       "    </tr>\n",
       "    <tr>\n",
       "      <th>386423</th>\n",
       "      <td>Pussy cat has been missing for 3 days now. Fea...</td>\n",
       "      <td>0</td>\n",
       "    </tr>\n",
       "    <tr>\n",
       "      <th>1045643</th>\n",
       "      <td>@cappo goodnight</td>\n",
       "      <td>4</td>\n",
       "    </tr>\n",
       "    <tr>\n",
       "      <th>525371</th>\n",
       "      <td>@_CrC_ hells ya! But they never respond to me</td>\n",
       "      <td>0</td>\n",
       "    </tr>\n",
       "    <tr>\n",
       "      <th>1462914</th>\n",
       "      <td>Watching F1 Turkey GP at home with Beers&amp;amp;C...</td>\n",
       "      <td>4</td>\n",
       "    </tr>\n",
       "    <tr>\n",
       "      <th>1207166</th>\n",
       "      <td>ok that's was freaken awsome</td>\n",
       "      <td>4</td>\n",
       "    </tr>\n",
       "    <tr>\n",
       "      <th>25969</th>\n",
       "      <td>i want a little pet so bad</td>\n",
       "      <td>0</td>\n",
       "    </tr>\n",
       "    <tr>\n",
       "      <th>437090</th>\n",
       "      <td>@trythis__ I envy you</td>\n",
       "      <td>0</td>\n",
       "    </tr>\n",
       "    <tr>\n",
       "      <th>1293202</th>\n",
       "      <td>@DaivRawks  Yeah, I sure wasted a lot of time ...</td>\n",
       "      <td>4</td>\n",
       "    </tr>\n",
       "  </tbody>\n",
       "</table>\n",
       "</div>"
      ],
      "text/plain": [
       "                                                      text  polarity\n",
       "311015                              as expected... errors          0\n",
       "463251                exam went gr8.... missin my friends          0\n",
       "386423   Pussy cat has been missing for 3 days now. Fea...         0\n",
       "1045643                                  @cappo goodnight          4\n",
       "525371      @_CrC_ hells ya! But they never respond to me          0\n",
       "1462914  Watching F1 Turkey GP at home with Beers&amp;C...         4\n",
       "1207166                      ok that's was freaken awsome          4\n",
       "25969                          i want a little pet so bad          0\n",
       "437090                              @trythis__ I envy you          0\n",
       "1293202  @DaivRawks  Yeah, I sure wasted a lot of time ...         4"
      ]
     },
     "execution_count": 286,
     "metadata": {},
     "output_type": "execute_result"
    }
   ],
   "source": [
    "data=df[['text','polarity']]\n",
    "data.sample(10)"
   ]
  },
  {
   "cell_type": "code",
   "execution_count": 261,
   "metadata": {},
   "outputs": [
    {
     "name": "stderr",
     "output_type": "stream",
     "text": [
      "/var/folders/wt/vkwnpm091dqdlm0xqwfjxq_80000gn/T/ipykernel_56187/335142359.py:1: SettingWithCopyWarning: \n",
      "A value is trying to be set on a copy of a slice from a DataFrame.\n",
      "Try using .loc[row_indexer,col_indexer] = value instead\n",
      "\n",
      "See the caveats in the documentation: https://pandas.pydata.org/pandas-docs/stable/user_guide/indexing.html#returning-a-view-versus-a-copy\n",
      "  data['polarity'] = data['polarity'].replace(4,1)\n"
     ]
    }
   ],
   "source": [
    "data['polarity'] = data['polarity'].replace(4,1)\n"
   ]
  },
  {
   "cell_type": "code",
   "execution_count": 262,
   "metadata": {},
   "outputs": [
    {
     "data": {
      "text/plain": [
       "19995    not much time off this weekend, work trip to m...\n",
       "19996                            one more day of holidays \n",
       "19997    feeling so down right now .. i hate you damn h...\n",
       "19998    geez,i hv to read the whole book of personalit...\n",
       "19999    i threw my sign at donnie and he bent over to ...\n",
       "Name: text, dtype: object"
      ]
     },
     "execution_count": 262,
     "metadata": {},
     "output_type": "execute_result"
    }
   ],
   "source": [
    "data_pos = data[data['polarity'] == 1].iloc[:int(20000)]\n",
    "data_neg = data[data['polarity'] == 0].iloc[:int(20000)]\n",
    "dataset = pd.concat([data_pos, data_neg])\n",
    "dataset['text']=dataset['text'].str.lower()\n",
    "dataset['text'].tail()\n",
    "#dataset.sample(20)"
   ]
  },
  {
   "cell_type": "code",
   "execution_count": 263,
   "metadata": {},
   "outputs": [
    {
     "name": "stderr",
     "output_type": "stream",
     "text": [
      "[nltk_data] Downloading package stopwords to\n",
      "[nltk_data]     /Users/mikebazarsky/nltk_data...\n",
      "[nltk_data]   Package stopwords is already up-to-date!\n"
     ]
    }
   ],
   "source": [
    "import nltk\n",
    "from nltk.corpus import stopwords\n",
    "nltk.download('stopwords')\n",
    "STOPWORDS = set(stopwords.words('english'))\n",
    "#print(stopwords.words('english'))"
   ]
  },
  {
   "cell_type": "code",
   "execution_count": 264,
   "metadata": {},
   "outputs": [],
   "source": [
    "def cleaning_stopwords(text):\n",
    "    return \" \".join([word for word in str(text).split() if word not in STOPWORDS])\n"
   ]
  },
  {
   "cell_type": "code",
   "execution_count": 265,
   "metadata": {},
   "outputs": [
    {
     "data": {
      "text/plain": [
       "19995    much time weekend, work trip malmï¿½ fri-sat t...\n",
       "19996                                     one day holidays\n",
       "19997                   feeling right .. hate damn humprey\n",
       "19998    geez,i hv read whole book personality types em...\n",
       "19999     threw sign donnie bent get thingee made sad face\n",
       "Name: text, dtype: object"
      ]
     },
     "execution_count": 265,
     "metadata": {},
     "output_type": "execute_result"
    }
   ],
   "source": [
    "dataset['text'] = dataset['text'].apply(lambda text: cleaning_stopwords(text))\n",
    "dataset['text'].tail()"
   ]
  },
  {
   "cell_type": "code",
   "execution_count": 266,
   "metadata": {},
   "outputs": [
    {
     "name": "stdout",
     "output_type": "stream",
     "text": [
      "!\"#$%&'()*+,-./:;<=>?@[\\]^_`{|}~\n"
     ]
    }
   ],
   "source": [
    "import string\n",
    "english_punctuations = string.punctuation\n",
    "print(english_punctuations)"
   ]
  },
  {
   "cell_type": "code",
   "execution_count": 267,
   "metadata": {},
   "outputs": [
    {
     "data": {
      "text/plain": [
       "19995    much time weekend work trip malmï¿½ frisat tod...\n",
       "19996                                     one day holidays\n",
       "19997                     feeling right  hate damn humprey\n",
       "19998    geezi hv read whole book personality types emb...\n",
       "19999     threw sign donnie bent get thingee made sad face\n",
       "Name: text, dtype: object"
      ]
     },
     "execution_count": 267,
     "metadata": {},
     "output_type": "execute_result"
    }
   ],
   "source": [
    "#Removing punctuation\n",
    "def cleaning_punctuations(text):\n",
    "    translator = str.maketrans('', '', english_punctuations)\n",
    "    return text.translate(translator)\n",
    "dataset['text']= dataset['text'].apply(lambda x: cleaning_punctuations(x))\n",
    "dataset['text'].tail()"
   ]
  },
  {
   "cell_type": "code",
   "execution_count": 268,
   "metadata": {},
   "outputs": [
    {
     "data": {
      "text/plain": [
       "800000                   love health4uandpets u guys r best\n",
       "800001    im meeting one besties tonight cant wait  girl...\n",
       "800002    darealsunisakim thanks twitter add sunisa got ...\n",
       "800003    sick really cheap hurts much eat real food plu...\n",
       "800004                       lovesbrooklyn2 effect everyone\n",
       "Name: text, dtype: object"
      ]
     },
     "execution_count": 268,
     "metadata": {},
     "output_type": "execute_result"
    }
   ],
   "source": [
    "#Removing URLs\n",
    "import re\n",
    "dataset['text'] = dataset['text'].astype(str)\n",
    "def cleaning_URLs(data):\n",
    "    return re.sub('((www.[^s]+)|(https?://[^s]+))',' ',data)\n",
    "\n",
    "dataset['text'] = dataset['text'].apply(lambda x: cleaning_URLs(x))\n",
    "dataset['text'].head()"
   ]
  },
  {
   "cell_type": "code",
   "execution_count": 269,
   "metadata": {},
   "outputs": [
    {
     "data": {
      "text/plain": [
       "800000                    love healthuandpets u guys r best\n",
       "800001    im meeting one besties tonight cant wait  girl...\n",
       "800002    darealsunisakim thanks twitter add sunisa got ...\n",
       "800003    sick really cheap hurts much eat real food plu...\n",
       "800004                        lovesbrooklyn effect everyone\n",
       "Name: text, dtype: object"
      ]
     },
     "execution_count": 269,
     "metadata": {},
     "output_type": "execute_result"
    }
   ],
   "source": [
    "#Removing numbers\n",
    "def cleaning_numbers(data):\n",
    "    return re.sub('[0-9]+', '', data)\n",
    "dataset['text'] = dataset['text'].apply(lambda x: cleaning_numbers(x))\n",
    "dataset['text'].head()"
   ]
  },
  {
   "cell_type": "code",
   "execution_count": 270,
   "metadata": {},
   "outputs": [],
   "source": [
    "#Tokenizing\n",
    "from nltk.tokenize import RegexpTokenizer\n",
    "from nltk.stem import WordNetLemmatizer"
   ]
  },
  {
   "cell_type": "code",
   "execution_count": 271,
   "metadata": {},
   "outputs": [
    {
     "data": {
      "text/plain": [
       "800000             [love, healthuandpets, u, guys, r, best]\n",
       "800001    [im, meeting, one, besties, tonight, cant, wai...\n",
       "800002    [darealsunisakim, thanks, twitter, add, sunisa...\n",
       "800003    [sick, really, cheap, hurts, much, eat, real, ...\n",
       "800004                    [lovesbrooklyn, effect, everyone]\n",
       "Name: text, dtype: object"
      ]
     },
     "execution_count": 271,
     "metadata": {},
     "output_type": "execute_result"
    }
   ],
   "source": [
    "tokenizer = RegexpTokenizer(r'\\w+')\n",
    "dataset['text'] = dataset['text'].apply(tokenizer.tokenize)\n",
    "dataset['text'].head()"
   ]
  },
  {
   "cell_type": "code",
   "execution_count": 272,
   "metadata": {},
   "outputs": [
    {
     "data": {
      "text/plain": [
       "800000             [love, healthuandpets, u, guys, r, best]\n",
       "800001    [im, meeting, one, besties, tonight, cant, wai...\n",
       "800002    [darealsunisakim, thanks, twitter, add, sunisa...\n",
       "800003    [sick, really, cheap, hurts, much, eat, real, ...\n",
       "800004                    [lovesbrooklyn, effect, everyone]\n",
       "Name: text, dtype: object"
      ]
     },
     "execution_count": 272,
     "metadata": {},
     "output_type": "execute_result"
    }
   ],
   "source": [
    "#Stemming\n",
    "import nltk\n",
    "st = nltk.PorterStemmer()\n",
    "def stemming_on_text(data):\n",
    "    text = [st.stem(word) for word in data]\n",
    "    return data\n",
    "dataset['text']= dataset['text'].apply(lambda x: stemming_on_text(x))\n",
    "dataset['text'].head()\n"
   ]
  },
  {
   "cell_type": "code",
   "execution_count": 273,
   "metadata": {},
   "outputs": [
    {
     "data": {
      "text/plain": [
       "800000             [love, healthuandpets, u, guys, r, best]\n",
       "800001    [im, meeting, one, besties, tonight, cant, wai...\n",
       "800002    [darealsunisakim, thanks, twitter, add, sunisa...\n",
       "800003    [sick, really, cheap, hurts, much, eat, real, ...\n",
       "800004                    [lovesbrooklyn, effect, everyone]\n",
       "Name: text, dtype: object"
      ]
     },
     "execution_count": 273,
     "metadata": {},
     "output_type": "execute_result"
    }
   ],
   "source": [
    "#Lemmatizer\n",
    "lm = nltk.WordNetLemmatizer()\n",
    "def lemmatizer_on_text(data):\n",
    "    text = [lm.lemmatize(word) for word in data]\n",
    "    return data\n",
    "dataset['text'] = dataset['text'].apply(lambda x: lemmatizer_on_text(x))\n",
    "dataset['text'].head()"
   ]
  },
  {
   "cell_type": "code",
   "execution_count": 274,
   "metadata": {},
   "outputs": [],
   "source": [
    "#Separating input feature and label\n",
    "X=data.text\n",
    "y=data.polarity"
   ]
  },
  {
   "cell_type": "code",
   "execution_count": 275,
   "metadata": {},
   "outputs": [],
   "source": [
    "from sklearn.model_selection import train_test_split\n"
   ]
  },
  {
   "cell_type": "code",
   "execution_count": 276,
   "metadata": {},
   "outputs": [],
   "source": [
    "#Splitting data into Train and Test subset\n",
    "X_train, X_test, y_train, y_test = train_test_split(X,y,test_size = 0.05, random_state =935)\n"
   ]
  },
  {
   "cell_type": "code",
   "execution_count": 277,
   "metadata": {},
   "outputs": [
    {
     "ename": "KeyboardInterrupt",
     "evalue": "",
     "output_type": "error",
     "traceback": [
      "\u001b[0;31m---------------------------------------------------------------------------\u001b[0m",
      "\u001b[0;31mKeyboardInterrupt\u001b[0m                         Traceback (most recent call last)",
      "\u001b[1;32m/Users/mikebazarsky/Documents/TwitterStockBot/twitterStockJupyter.ipynb Cell 25'\u001b[0m in \u001b[0;36m<cell line: 4>\u001b[0;34m()\u001b[0m\n\u001b[1;32m      <a href='vscode-notebook-cell:/Users/mikebazarsky/Documents/TwitterStockBot/twitterStockJupyter.ipynb#ch0000038?line=1'>2</a>\u001b[0m \u001b[39mfrom\u001b[39;00m \u001b[39msklearn\u001b[39;00m\u001b[39m.\u001b[39;00m\u001b[39mfeature_extraction\u001b[39;00m\u001b[39m.\u001b[39;00m\u001b[39mtext\u001b[39;00m \u001b[39mimport\u001b[39;00m TfidfVectorizer\n\u001b[1;32m      <a href='vscode-notebook-cell:/Users/mikebazarsky/Documents/TwitterStockBot/twitterStockJupyter.ipynb#ch0000038?line=2'>3</a>\u001b[0m vectoriser \u001b[39m=\u001b[39m TfidfVectorizer(ngram_range\u001b[39m=\u001b[39m(\u001b[39m1\u001b[39m,\u001b[39m2\u001b[39m), max_features\u001b[39m=\u001b[39m\u001b[39m500000\u001b[39m)\n\u001b[0;32m----> <a href='vscode-notebook-cell:/Users/mikebazarsky/Documents/TwitterStockBot/twitterStockJupyter.ipynb#ch0000038?line=3'>4</a>\u001b[0m vectoriser\u001b[39m.\u001b[39;49mfit(X_train)\n",
      "File \u001b[0;32m/opt/homebrew/lib/python3.9/site-packages/sklearn/feature_extraction/text.py:2053\u001b[0m, in \u001b[0;36mTfidfVectorizer.fit\u001b[0;34m(self, raw_documents, y)\u001b[0m\n\u001b[1;32m   <a href='file:///opt/homebrew/lib/python3.9/site-packages/sklearn/feature_extraction/text.py?line=2050'>2051</a>\u001b[0m \u001b[39mself\u001b[39m\u001b[39m.\u001b[39m_check_params()\n\u001b[1;32m   <a href='file:///opt/homebrew/lib/python3.9/site-packages/sklearn/feature_extraction/text.py?line=2051'>2052</a>\u001b[0m \u001b[39mself\u001b[39m\u001b[39m.\u001b[39m_warn_for_unused_params()\n\u001b[0;32m-> <a href='file:///opt/homebrew/lib/python3.9/site-packages/sklearn/feature_extraction/text.py?line=2052'>2053</a>\u001b[0m X \u001b[39m=\u001b[39m \u001b[39msuper\u001b[39;49m()\u001b[39m.\u001b[39;49mfit_transform(raw_documents)\n\u001b[1;32m   <a href='file:///opt/homebrew/lib/python3.9/site-packages/sklearn/feature_extraction/text.py?line=2053'>2054</a>\u001b[0m \u001b[39mself\u001b[39m\u001b[39m.\u001b[39m_tfidf\u001b[39m.\u001b[39mfit(X)\n\u001b[1;32m   <a href='file:///opt/homebrew/lib/python3.9/site-packages/sklearn/feature_extraction/text.py?line=2054'>2055</a>\u001b[0m \u001b[39mreturn\u001b[39;00m \u001b[39mself\u001b[39m\n",
      "File \u001b[0;32m/opt/homebrew/lib/python3.9/site-packages/sklearn/feature_extraction/text.py:1347\u001b[0m, in \u001b[0;36mCountVectorizer.fit_transform\u001b[0;34m(self, raw_documents, y)\u001b[0m\n\u001b[1;32m   <a href='file:///opt/homebrew/lib/python3.9/site-packages/sklearn/feature_extraction/text.py?line=1344'>1345</a>\u001b[0m \u001b[39mif\u001b[39;00m max_features \u001b[39mis\u001b[39;00m \u001b[39mnot\u001b[39;00m \u001b[39mNone\u001b[39;00m:\n\u001b[1;32m   <a href='file:///opt/homebrew/lib/python3.9/site-packages/sklearn/feature_extraction/text.py?line=1345'>1346</a>\u001b[0m     X \u001b[39m=\u001b[39m \u001b[39mself\u001b[39m\u001b[39m.\u001b[39m_sort_features(X, vocabulary)\n\u001b[0;32m-> <a href='file:///opt/homebrew/lib/python3.9/site-packages/sklearn/feature_extraction/text.py?line=1346'>1347</a>\u001b[0m X, \u001b[39mself\u001b[39m\u001b[39m.\u001b[39mstop_words_ \u001b[39m=\u001b[39m \u001b[39mself\u001b[39;49m\u001b[39m.\u001b[39;49m_limit_features(\n\u001b[1;32m   <a href='file:///opt/homebrew/lib/python3.9/site-packages/sklearn/feature_extraction/text.py?line=1347'>1348</a>\u001b[0m     X, vocabulary, max_doc_count, min_doc_count, max_features\n\u001b[1;32m   <a href='file:///opt/homebrew/lib/python3.9/site-packages/sklearn/feature_extraction/text.py?line=1348'>1349</a>\u001b[0m )\n\u001b[1;32m   <a href='file:///opt/homebrew/lib/python3.9/site-packages/sklearn/feature_extraction/text.py?line=1349'>1350</a>\u001b[0m \u001b[39mif\u001b[39;00m max_features \u001b[39mis\u001b[39;00m \u001b[39mNone\u001b[39;00m:\n\u001b[1;32m   <a href='file:///opt/homebrew/lib/python3.9/site-packages/sklearn/feature_extraction/text.py?line=1350'>1351</a>\u001b[0m     X \u001b[39m=\u001b[39m \u001b[39mself\u001b[39m\u001b[39m.\u001b[39m_sort_features(X, vocabulary)\n",
      "File \u001b[0;32m/opt/homebrew/lib/python3.9/site-packages/sklearn/feature_extraction/text.py:1163\u001b[0m, in \u001b[0;36mCountVectorizer._limit_features\u001b[0;34m(self, X, vocabulary, high, low, limit)\u001b[0m\n\u001b[1;32m   <a href='file:///opt/homebrew/lib/python3.9/site-packages/sklearn/feature_extraction/text.py?line=1160'>1161</a>\u001b[0m     mask \u001b[39m&\u001b[39m\u001b[39m=\u001b[39m dfs \u001b[39m>\u001b[39m\u001b[39m=\u001b[39m low\n\u001b[1;32m   <a href='file:///opt/homebrew/lib/python3.9/site-packages/sklearn/feature_extraction/text.py?line=1161'>1162</a>\u001b[0m \u001b[39mif\u001b[39;00m limit \u001b[39mis\u001b[39;00m \u001b[39mnot\u001b[39;00m \u001b[39mNone\u001b[39;00m \u001b[39mand\u001b[39;00m mask\u001b[39m.\u001b[39msum() \u001b[39m>\u001b[39m limit:\n\u001b[0;32m-> <a href='file:///opt/homebrew/lib/python3.9/site-packages/sklearn/feature_extraction/text.py?line=1162'>1163</a>\u001b[0m     tfs \u001b[39m=\u001b[39m np\u001b[39m.\u001b[39masarray(X\u001b[39m.\u001b[39;49msum(axis\u001b[39m=\u001b[39;49m\u001b[39m0\u001b[39;49m))\u001b[39m.\u001b[39mravel()\n\u001b[1;32m   <a href='file:///opt/homebrew/lib/python3.9/site-packages/sklearn/feature_extraction/text.py?line=1163'>1164</a>\u001b[0m     mask_inds \u001b[39m=\u001b[39m (\u001b[39m-\u001b[39mtfs[mask])\u001b[39m.\u001b[39margsort()[:limit]\n\u001b[1;32m   <a href='file:///opt/homebrew/lib/python3.9/site-packages/sklearn/feature_extraction/text.py?line=1164'>1165</a>\u001b[0m     new_mask \u001b[39m=\u001b[39m np\u001b[39m.\u001b[39mzeros(\u001b[39mlen\u001b[39m(dfs), dtype\u001b[39m=\u001b[39m\u001b[39mbool\u001b[39m)\n",
      "File \u001b[0;32m/opt/homebrew/lib/python3.9/site-packages/scipy/sparse/_compressed.py:624\u001b[0m, in \u001b[0;36m_cs_matrix.sum\u001b[0;34m(self, axis, dtype, out)\u001b[0m\n\u001b[1;32m    <a href='file:///opt/homebrew/lib/python3.9/site-packages/scipy/sparse/_compressed.py?line=619'>620</a>\u001b[0m     \u001b[39mreturn\u001b[39;00m ret\u001b[39m.\u001b[39msum(axis\u001b[39m=\u001b[39m(), dtype\u001b[39m=\u001b[39mdtype, out\u001b[39m=\u001b[39mout)\n\u001b[1;32m    <a href='file:///opt/homebrew/lib/python3.9/site-packages/scipy/sparse/_compressed.py?line=620'>621</a>\u001b[0m \u001b[39m# spmatrix will handle the remaining situations when axis\u001b[39;00m\n\u001b[1;32m    <a href='file:///opt/homebrew/lib/python3.9/site-packages/scipy/sparse/_compressed.py?line=621'>622</a>\u001b[0m \u001b[39m# is in {None, -1, 0, 1}\u001b[39;00m\n\u001b[1;32m    <a href='file:///opt/homebrew/lib/python3.9/site-packages/scipy/sparse/_compressed.py?line=622'>623</a>\u001b[0m \u001b[39melse\u001b[39;00m:\n\u001b[0;32m--> <a href='file:///opt/homebrew/lib/python3.9/site-packages/scipy/sparse/_compressed.py?line=623'>624</a>\u001b[0m     \u001b[39mreturn\u001b[39;00m spmatrix\u001b[39m.\u001b[39;49msum(\u001b[39mself\u001b[39;49m, axis\u001b[39m=\u001b[39;49maxis, dtype\u001b[39m=\u001b[39;49mdtype, out\u001b[39m=\u001b[39;49mout)\n",
      "File \u001b[0;32m/opt/homebrew/lib/python3.9/site-packages/scipy/sparse/_base.py:1100\u001b[0m, in \u001b[0;36mspmatrix.sum\u001b[0;34m(self, axis, dtype, out)\u001b[0m\n\u001b[1;32m   <a href='file:///opt/homebrew/lib/python3.9/site-packages/scipy/sparse/_base.py?line=1096'>1097</a>\u001b[0m \u001b[39m# axis = 0 or 1 now\u001b[39;00m\n\u001b[1;32m   <a href='file:///opt/homebrew/lib/python3.9/site-packages/scipy/sparse/_base.py?line=1097'>1098</a>\u001b[0m \u001b[39mif\u001b[39;00m axis \u001b[39m==\u001b[39m \u001b[39m0\u001b[39m:\n\u001b[1;32m   <a href='file:///opt/homebrew/lib/python3.9/site-packages/scipy/sparse/_base.py?line=1098'>1099</a>\u001b[0m     \u001b[39m# sum over columns\u001b[39;00m\n\u001b[0;32m-> <a href='file:///opt/homebrew/lib/python3.9/site-packages/scipy/sparse/_base.py?line=1099'>1100</a>\u001b[0m     ret \u001b[39m=\u001b[39m \u001b[39mself\u001b[39;49m\u001b[39m.\u001b[39;49m_ascontainer(\n\u001b[1;32m   <a href='file:///opt/homebrew/lib/python3.9/site-packages/scipy/sparse/_base.py?line=1100'>1101</a>\u001b[0m         np\u001b[39m.\u001b[39;49mones((\u001b[39m1\u001b[39;49m, m), dtype\u001b[39m=\u001b[39;49mres_dtype)\n\u001b[1;32m   <a href='file:///opt/homebrew/lib/python3.9/site-packages/scipy/sparse/_base.py?line=1101'>1102</a>\u001b[0m     ) \u001b[39m@\u001b[39;49m \u001b[39mself\u001b[39;49m\n\u001b[1;32m   <a href='file:///opt/homebrew/lib/python3.9/site-packages/scipy/sparse/_base.py?line=1102'>1103</a>\u001b[0m \u001b[39melse\u001b[39;00m:\n\u001b[1;32m   <a href='file:///opt/homebrew/lib/python3.9/site-packages/scipy/sparse/_base.py?line=1103'>1104</a>\u001b[0m     \u001b[39m# sum over rows\u001b[39;00m\n\u001b[1;32m   <a href='file:///opt/homebrew/lib/python3.9/site-packages/scipy/sparse/_base.py?line=1104'>1105</a>\u001b[0m     ret \u001b[39m=\u001b[39m \u001b[39mself\u001b[39m \u001b[39m@\u001b[39m \u001b[39mself\u001b[39m\u001b[39m.\u001b[39m_ascontainer(\n\u001b[1;32m   <a href='file:///opt/homebrew/lib/python3.9/site-packages/scipy/sparse/_base.py?line=1105'>1106</a>\u001b[0m         np\u001b[39m.\u001b[39mones((n, \u001b[39m1\u001b[39m), dtype\u001b[39m=\u001b[39mres_dtype)\n\u001b[1;32m   <a href='file:///opt/homebrew/lib/python3.9/site-packages/scipy/sparse/_base.py?line=1106'>1107</a>\u001b[0m     )\n",
      "File \u001b[0;32m/opt/homebrew/lib/python3.9/site-packages/scipy/sparse/_base.py:626\u001b[0m, in \u001b[0;36mspmatrix.__rmatmul__\u001b[0;34m(self, other)\u001b[0m\n\u001b[1;32m    <a href='file:///opt/homebrew/lib/python3.9/site-packages/scipy/sparse/_base.py?line=622'>623</a>\u001b[0m \u001b[39mif\u001b[39;00m isscalarlike(other):\n\u001b[1;32m    <a href='file:///opt/homebrew/lib/python3.9/site-packages/scipy/sparse/_base.py?line=623'>624</a>\u001b[0m     \u001b[39mraise\u001b[39;00m \u001b[39mValueError\u001b[39;00m(\u001b[39m\"\u001b[39m\u001b[39mScalar operands are not allowed, \u001b[39m\u001b[39m\"\u001b[39m\n\u001b[1;32m    <a href='file:///opt/homebrew/lib/python3.9/site-packages/scipy/sparse/_base.py?line=624'>625</a>\u001b[0m                      \u001b[39m\"\u001b[39m\u001b[39muse \u001b[39m\u001b[39m'\u001b[39m\u001b[39m*\u001b[39m\u001b[39m'\u001b[39m\u001b[39m instead\u001b[39m\u001b[39m\"\u001b[39m)\n\u001b[0;32m--> <a href='file:///opt/homebrew/lib/python3.9/site-packages/scipy/sparse/_base.py?line=625'>626</a>\u001b[0m \u001b[39mreturn\u001b[39;00m \u001b[39mself\u001b[39;49m\u001b[39m.\u001b[39;49m_rmul_dispatch(other)\n",
      "File \u001b[0;32m/opt/homebrew/lib/python3.9/site-packages/scipy/sparse/_base.py:607\u001b[0m, in \u001b[0;36mspmatrix._rmul_dispatch\u001b[0;34m(self, other)\u001b[0m\n\u001b[1;32m    <a href='file:///opt/homebrew/lib/python3.9/site-packages/scipy/sparse/_base.py?line=604'>605</a>\u001b[0m \u001b[39mexcept\u001b[39;00m \u001b[39mAttributeError\u001b[39;00m:\n\u001b[1;32m    <a href='file:///opt/homebrew/lib/python3.9/site-packages/scipy/sparse/_base.py?line=605'>606</a>\u001b[0m     tr \u001b[39m=\u001b[39m np\u001b[39m.\u001b[39masarray(other)\u001b[39m.\u001b[39mtranspose()\n\u001b[0;32m--> <a href='file:///opt/homebrew/lib/python3.9/site-packages/scipy/sparse/_base.py?line=606'>607</a>\u001b[0m \u001b[39mreturn\u001b[39;00m (\u001b[39mself\u001b[39;49m\u001b[39m.\u001b[39;49mtranspose() \u001b[39m@\u001b[39;49m tr)\u001b[39m.\u001b[39mtranspose()\n",
      "File \u001b[0;32m/opt/homebrew/lib/python3.9/site-packages/scipy/sparse/_base.py:620\u001b[0m, in \u001b[0;36mspmatrix.__matmul__\u001b[0;34m(self, other)\u001b[0m\n\u001b[1;32m    <a href='file:///opt/homebrew/lib/python3.9/site-packages/scipy/sparse/_base.py?line=616'>617</a>\u001b[0m \u001b[39mif\u001b[39;00m isscalarlike(other):\n\u001b[1;32m    <a href='file:///opt/homebrew/lib/python3.9/site-packages/scipy/sparse/_base.py?line=617'>618</a>\u001b[0m     \u001b[39mraise\u001b[39;00m \u001b[39mValueError\u001b[39;00m(\u001b[39m\"\u001b[39m\u001b[39mScalar operands are not allowed, \u001b[39m\u001b[39m\"\u001b[39m\n\u001b[1;32m    <a href='file:///opt/homebrew/lib/python3.9/site-packages/scipy/sparse/_base.py?line=618'>619</a>\u001b[0m                      \u001b[39m\"\u001b[39m\u001b[39muse \u001b[39m\u001b[39m'\u001b[39m\u001b[39m*\u001b[39m\u001b[39m'\u001b[39m\u001b[39m instead\u001b[39m\u001b[39m\"\u001b[39m)\n\u001b[0;32m--> <a href='file:///opt/homebrew/lib/python3.9/site-packages/scipy/sparse/_base.py?line=619'>620</a>\u001b[0m \u001b[39mreturn\u001b[39;00m \u001b[39mself\u001b[39;49m\u001b[39m.\u001b[39;49m_mul_dispatch(other)\n",
      "File \u001b[0;32m/opt/homebrew/lib/python3.9/site-packages/scipy/sparse/_base.py:554\u001b[0m, in \u001b[0;36mspmatrix._mul_dispatch\u001b[0;34m(self, other)\u001b[0m\n\u001b[1;32m    <a href='file:///opt/homebrew/lib/python3.9/site-packages/scipy/sparse/_base.py?line=550'>551</a>\u001b[0m \u001b[39mif\u001b[39;00m other\u001b[39m.\u001b[39mshape \u001b[39m!=\u001b[39m (N,) \u001b[39mand\u001b[39;00m other\u001b[39m.\u001b[39mshape \u001b[39m!=\u001b[39m (N, \u001b[39m1\u001b[39m):\n\u001b[1;32m    <a href='file:///opt/homebrew/lib/python3.9/site-packages/scipy/sparse/_base.py?line=551'>552</a>\u001b[0m     \u001b[39mraise\u001b[39;00m \u001b[39mValueError\u001b[39;00m(\u001b[39m'\u001b[39m\u001b[39mdimension mismatch\u001b[39m\u001b[39m'\u001b[39m)\n\u001b[0;32m--> <a href='file:///opt/homebrew/lib/python3.9/site-packages/scipy/sparse/_base.py?line=553'>554</a>\u001b[0m result \u001b[39m=\u001b[39m \u001b[39mself\u001b[39;49m\u001b[39m.\u001b[39;49m_mul_vector(np\u001b[39m.\u001b[39;49mravel(other))\n\u001b[1;32m    <a href='file:///opt/homebrew/lib/python3.9/site-packages/scipy/sparse/_base.py?line=555'>556</a>\u001b[0m \u001b[39mif\u001b[39;00m \u001b[39misinstance\u001b[39m(other, np\u001b[39m.\u001b[39mmatrix):\n\u001b[1;32m    <a href='file:///opt/homebrew/lib/python3.9/site-packages/scipy/sparse/_base.py?line=556'>557</a>\u001b[0m     result \u001b[39m=\u001b[39m \u001b[39mself\u001b[39m\u001b[39m.\u001b[39m_ascontainer(result)\n",
      "File \u001b[0;32m/opt/homebrew/lib/python3.9/site-packages/scipy/sparse/_compressed.py:489\u001b[0m, in \u001b[0;36m_cs_matrix._mul_vector\u001b[0;34m(self, other)\u001b[0m\n\u001b[1;32m    <a href='file:///opt/homebrew/lib/python3.9/site-packages/scipy/sparse/_compressed.py?line=486'>487</a>\u001b[0m \u001b[39m# csr_matvec or csc_matvec\u001b[39;00m\n\u001b[1;32m    <a href='file:///opt/homebrew/lib/python3.9/site-packages/scipy/sparse/_compressed.py?line=487'>488</a>\u001b[0m fn \u001b[39m=\u001b[39m \u001b[39mgetattr\u001b[39m(_sparsetools, \u001b[39mself\u001b[39m\u001b[39m.\u001b[39mformat \u001b[39m+\u001b[39m \u001b[39m'\u001b[39m\u001b[39m_matvec\u001b[39m\u001b[39m'\u001b[39m)\n\u001b[0;32m--> <a href='file:///opt/homebrew/lib/python3.9/site-packages/scipy/sparse/_compressed.py?line=488'>489</a>\u001b[0m fn(M, N, \u001b[39mself\u001b[39;49m\u001b[39m.\u001b[39;49mindptr, \u001b[39mself\u001b[39;49m\u001b[39m.\u001b[39;49mindices, \u001b[39mself\u001b[39;49m\u001b[39m.\u001b[39;49mdata, other, result)\n\u001b[1;32m    <a href='file:///opt/homebrew/lib/python3.9/site-packages/scipy/sparse/_compressed.py?line=490'>491</a>\u001b[0m \u001b[39mreturn\u001b[39;00m result\n",
      "\u001b[0;31mKeyboardInterrupt\u001b[0m: "
     ]
    }
   ],
   "source": [
    "#Fit tf-dif vectorizer\n",
    "from sklearn.feature_extraction.text import TfidfVectorizer\n",
    "vectoriser = TfidfVectorizer(ngram_range=(1,2), max_features=500000)\n",
    "vectoriser.fit(X_train)"
   ]
  },
  {
   "cell_type": "code",
   "execution_count": null,
   "metadata": {},
   "outputs": [],
   "source": [
    "#Transform tf-dif vectorizer\n",
    "X_train = vectoriser.transform(X_train)\n",
    "X_test  = vectoriser.transform(X_test)"
   ]
  },
  {
   "cell_type": "code",
   "execution_count": null,
   "metadata": {},
   "outputs": [],
   "source": [
    "from sklearn.svm import LinearSVC\n",
    "from sklearn.naive_bayes import BernoulliNB\n",
    "from sklearn.linear_model import LogisticRegression\n",
    "from sklearn.metrics import confusion_matrix, classification_report\n"
   ]
  },
  {
   "cell_type": "code",
   "execution_count": null,
   "metadata": {},
   "outputs": [],
   "source": [
    "def model_Evaluate(model):\n",
    "    # Predict values for Test dataset\n",
    "    y_pred = model.predict(X_test)\n",
    "    # Print the evaluation metrics for the dataset.\n",
    "    print(classification_report(y_test, y_pred))\n",
    "    # Compute and plot the Confusion matrix\n",
    "    cf_matrix = confusion_matrix(y_test, y_pred)"
   ]
  },
  {
   "cell_type": "code",
   "execution_count": null,
   "metadata": {},
   "outputs": [
    {
     "name": "stdout",
     "output_type": "stream",
     "text": [
      "              precision    recall  f1-score   support\n",
      "\n",
      "           0       0.81      0.79      0.80     39983\n",
      "           1       0.80      0.81      0.80     40017\n",
      "\n",
      "    accuracy                           0.80     80000\n",
      "   macro avg       0.80      0.80      0.80     80000\n",
      "weighted avg       0.80      0.80      0.80     80000\n",
      "\n"
     ]
    }
   ],
   "source": [
    "BNBmodel = BernoulliNB()\n",
    "BNBmodel.fit(X_train, y_train)\n",
    "model_Evaluate(BNBmodel)\n",
    "y_pred1 = BNBmodel.predict(X_test)"
   ]
  },
  {
   "cell_type": "code",
   "execution_count": null,
   "metadata": {},
   "outputs": [
    {
     "name": "stdout",
     "output_type": "stream",
     "text": [
      "              precision    recall  f1-score   support\n",
      "\n",
      "           0       0.82      0.81      0.82     39983\n",
      "           1       0.81      0.82      0.82     40017\n",
      "\n",
      "    accuracy                           0.82     80000\n",
      "   macro avg       0.82      0.82      0.82     80000\n",
      "weighted avg       0.82      0.82      0.82     80000\n",
      "\n"
     ]
    }
   ],
   "source": [
    "SVCmodel = LinearSVC()\n",
    "SVCmodel.fit(X_train, y_train)\n",
    "model_Evaluate(SVCmodel)\n",
    "y_pred2 = SVCmodel.predict(X_test)"
   ]
  },
  {
   "cell_type": "code",
   "execution_count": null,
   "metadata": {},
   "outputs": [
    {
     "name": "stdout",
     "output_type": "stream",
     "text": [
      "              precision    recall  f1-score   support\n",
      "\n",
      "           0       0.83      0.82      0.83     39983\n",
      "           1       0.82      0.83      0.83     40017\n",
      "\n",
      "    accuracy                           0.83     80000\n",
      "   macro avg       0.83      0.83      0.83     80000\n",
      "weighted avg       0.83      0.83      0.83     80000\n",
      "\n"
     ]
    }
   ],
   "source": [
    "LRmodel = LogisticRegression(C = 2, max_iter = 1000, n_jobs=-1)\n",
    "LRmodel.fit(X_train, y_train)\n",
    "model_Evaluate(LRmodel)\n",
    "y_pred3 = LRmodel.predict(X_test)"
   ]
  },
  {
   "cell_type": "code",
   "execution_count": null,
   "metadata": {},
   "outputs": [],
   "source": [
    "import requests"
   ]
  },
  {
   "cell_type": "code",
   "execution_count": null,
   "metadata": {},
   "outputs": [
    {
     "name": "stdout",
     "output_type": "stream",
     "text": [
      "<Response [200]>\n",
      "b'[]'\n"
     ]
    }
   ],
   "source": [
    "token = 'pk_62e14354ce4f41b5bbb10e69f666afb1'\n",
    "#https://cloud.iexapis.com/stable/tops?token=YOUR_TOKEN_HERE&symbols=aapl\n",
    "\n",
    "r = requests.get('https://cloud.iexapis.com/stable/tops?token={}&symbols=aapl'.format(token))\n",
    "print(r)\n",
    "print(r.content)"
   ]
  },
  {
   "cell_type": "code",
   "execution_count": 280,
   "metadata": {},
   "outputs": [],
   "source": [
    "import json"
   ]
  },
  {
   "cell_type": "code",
   "execution_count": 345,
   "metadata": {},
   "outputs": [],
   "source": [
    "#HTTPS request\n",
    "r = requests.get('https://cloud.iexapis.com/stable/ref-data/iex/symbols?token=pk_62e14354ce4f41b5bbb10e69f666afb1')"
   ]
  },
  {
   "cell_type": "code",
   "execution_count": 346,
   "metadata": {},
   "outputs": [
    {
     "name": "stdout",
     "output_type": "stream",
     "text": [
      "['A', 'AA', 'AAA', 'AAAU', 'AAC', 'AAC+', 'AAC=', 'AACG', 'AACI', 'AACIU', 'AACIW', 'AADI', 'AADR', 'AAIC', 'AAIC-B', 'AAIC-C', 'AAIN', 'AAL', 'AAM-A', 'AAM-B', 'AAMC', 'AAME', 'AAN', 'AAOI', 'AAON', 'AAP', 'AAPL', 'AAQC', 'AAQC+', 'AAQC=', 'AAT', 'AATC', 'AAU', 'AAWW', 'AAXJ', 'AB', 'ABB', 'ABBV', 'ABC', 'ABCB', 'ABCL', 'ABCM', 'ABEO', 'ABEQ', 'ABEV', 'ABG', 'ABGI', 'ABIO', 'ABM', 'ABMD', 'ABNB', 'ABOS', 'ABR', 'ABR-D', 'ABR-E', 'ABR-F', 'ABSI', 'ABST', 'ABT', 'ABTX', 'ABUS', 'ABVC', 'AC', 'ACA', 'ACAB', 'ACABU', 'ACABW', 'ACAD', 'ACAH', 'ACAHU', 'ACAHW', 'ACAQ', 'ACAQ+', 'ACAQ=', 'ACAX', 'ACAXR', 'ACAXU', 'ACAXW', 'ACB', 'ACBA', 'ACBAU', 'ACBAW', 'ACC', 'ACCD', 'ACCO', 'ACDI', 'ACDI+', 'ACDI=', 'ACEL', 'ACER', 'ACES', 'ACET', 'ACEV', 'ACEVU', 'ACEVW', 'ACGL', 'ACGLN', 'ACGLO', 'ACH', 'ACHC', 'ACHL', 'ACHR', 'ACHR+', 'ACHV', 'ACI', 'ACII', 'ACII+', 'ACII=', 'ACIO', 'ACIU', 'ACIW', 'ACKIT', 'ACKIU', 'ACKIW', 'ACLS', 'ACLX', 'ACM', 'ACMR', 'ACN', 'ACNB', 'ACOR', 'ACP', 'ACP-A', 'ACQR', 'ACQRU', 'ACQRW', 'ACR', 'ACR-C', 'ACR-D', 'ACRE', 'ACRO', 'ACRO+', 'ACRO=', 'ACRS', 'ACRX', 'ACSI', 'ACST', 'ACT', 'ACTD', 'ACTDU', 'ACTDW', 'ACTG', 'ACTV', 'ACU', 'ACV', 'ACVA', 'ACVF', 'ACWF', 'ACWI', 'ACWV', 'ACWX', 'ACXP', 'ADAG', 'ADAL', 'ADALU', 'ADALW', 'ADAP', 'ADBE', 'ADC', 'ADC-A', 'ADCT', 'ADER', 'ADERU', 'ADERW', 'ADES', 'ADEX', 'ADEX+', 'ADEX=', 'ADFI', 'ADGI', 'ADI', 'ADIL', 'ADILW', 'ADIV', 'ADM', 'ADMA', 'ADME', 'ADMP', 'ADN', 'ADNT', 'ADNWW', 'ADOC', 'ADOCR', 'ADOCW', 'ADP', 'ADPT', 'ADRA', 'ADRA+', 'ADRA=', 'ADRE', 'ADRT', 'ADRT+', 'ADRT=', 'ADS', 'ADSE', 'ADSEW', 'ADSK', 'ADT', 'ADTH', 'ADTHW', 'ADTN', 'ADTX', 'ADUS', 'ADV', 'ADVM', 'ADVWW', 'ADX', 'ADXN', 'AE', 'AEAC', 'AEACU', 'AEACW', 'AEAE', 'AEAEU', 'AEAEW', 'AEE', 'AEF', 'AEFC', 'AEG', 'AEHA', 'AEHAU', 'AEHAW', 'AEHL', 'AEHR', 'AEI', 'AEIS', 'AEL', 'AEL-A', 'AEL-B', 'AEM', 'AEMB', 'AEMD', 'AENZ', 'AEO', 'AEP', 'AEPPZ', 'AER', 'AERC', 'AERI', 'AES', 'AESC', 'AESE', 'AESR', 'AEVA', 'AEVA+', 'AEY', 'AEYE', 'AEZS', 'AFAC', 'AFACU', 'AFACW', 'AFAQ', 'AFAQU', 'AFAQW', 'AFB', 'AFBI', 'AFCG', 'AFG', 'AFGB', 'AFGC', 'AFGD', 'AFGE', 'AFI', 'AFIB', 'AFIF', 'AFK', 'AFL', 'AFLG', 'AFMC', 'AFMD', 'AFRM', 'AFSM', 'AFT', 'AFTR', 'AFTR+', 'AFTR=', 'AFTY', 'AFYA', 'AG', 'AGAC', 'AGAC+', 'AGAC=', 'AGBA', 'AGBAR', 'AGBAU', 'AGBAW', 'AGCB', 'AGCO', 'AGD', 'AGE', 'AGEN', 'AGFS', 'AGFY', 'AGG', 'AGGH', 'AGGR', 'AGGRU', 'AGGRW', 'AGGY', 'AGI', 'AGIL', 'AGILW', 'AGIO', 'AGL', 'AGLE', 'AGM', 'AGM-C', 'AGM-D', 'AGM-E', 'AGM-F', 'AGM-G', 'AGM.A', 'AGMH', 'AGNC', 'AGNCM', 'AGNCN', 'AGNCO', 'AGNCP', 'AGNG', 'AGO', 'AGOV', 'AGOX', 'AGQ', 'AGR', 'AGRI', 'AGRIW', 'AGRO', 'AGRX', 'AGS', 'AGT', 'AGTC', 'AGTI', 'AGX', 'AGYS', 'AGZ', 'AGZD', 'AHCO', 'AHG', 'AHH', 'AHH-A', 'AHHX', 'AHI', 'AHL-C', 'AHL-D', 'AHL-E', 'AHPA', 'AHPAU', 'AHPAW', 'AHPI', 'AHRN', 'AHRNU', 'AHRNW', 'AHT', 'AHT-D', 'AHT-F', 'AHT-G', 'AHT-H', 'AHT-I', 'AHYB', 'AI', 'AIA', 'AIB', 'AIBBR', 'AIBBU', 'AIC', 'AIEQ', 'AIF', 'AIG', 'AIG-A', 'AIH', 'AIHS', 'AIIQ', 'AIKI', 'AILG', 'AILV', 'AIM', 'AIMC', 'AIN', 'AINC', 'AINV', 'AIO', 'AIP', 'AIQ', 'AIR', 'AIRC', 'AIRG', 'AIRI', 'AIRR', 'AIRS', 'AIRT', 'AIRTP', 'AIT', 'AIV', 'AIVI', 'AIVL', 'AIZ', 'AIZN', 'AJG', 'AJRD', 'AJX', 'AJXA', 'AKA', 'AKAM', 'AKAN', 'AKBA', 'AKIC', 'AKICU', 'AKICW', 'AKO.A', 'AKO.B', 'AKR', 'AKRO', 'AKTS', 'AKTX', 'AKU', 'AKUS', 'AKYA', 'AL', 'AL-A', 'ALAC', 'ALACR', 'ALACU', 'ALACW', 'ALB', 'ALBO', 'ALC', 'ALCC', 'ALCO', 'ALDX', 'ALE', 'ALEC', 'ALEX', 'ALF', 'ALFA', 'ALFIW', 'ALG', 'ALGM', 'ALGN', 'ALGS', 'ALGT', 'ALHC', 'ALIM', 'ALIN-A', 'ALIN-B', 'ALIN-E', 'ALIT', 'ALJJ', 'ALK', 'ALKS', 'ALKT', 'ALL', 'ALL-B', 'ALL-G', 'ALL-H', 'ALL-I', 'ALLE', 'ALLG', 'ALLG+', 'ALLK', 'ALLO', 'ALLR', 'ALLT', 'ALLY', 'ALNA', 'ALNY', 'ALOHA', 'ALOR', 'ALORU', 'ALORW', 'ALOT', 'ALP-Q', 'ALPA', 'ALPAU', 'ALPAW', 'ALPN', 'ALPP', 'ALR', 'ALRM', 'ALRN', 'ALRS', 'ALSA', 'ALSAR', 'ALSAU', 'ALSAW', 'ALSN', 'ALT', 'ALTG', 'ALTG-A', 'ALTL', 'ALTO', 'ALTR', 'ALTS', 'ALTU', 'ALTUU', 'ALTUW', 'ALTY', 'ALV', 'ALVR', 'ALX', 'ALXO', 'ALYA', 'ALZN', 'AM', 'AMAL', 'AMAM', 'AMAO', 'AMAOU', 'AMAOW', 'AMAT', 'AMAX', 'AMBA', 'AMBC', 'AMBC+', 'AMBO', 'AMBP', 'AMBP+', 'AMC', 'AMCI', 'AMCIU', 'AMCIW', 'AMCR', 'AMCX', 'AMD', 'AME', 'AMED', 'AMEH', 'AMER', 'AMG', 'AMGN', 'AMH', 'AMH-F', 'AMH-G', 'AMH-H', 'AMJ', 'AMK', 'AMKR', 'AMLP', 'AMLX', 'AMN', 'AMNA', 'AMNB', 'AMND', 'AMOM', 'AMOT', 'AMOV', 'AMP', 'AMPE', 'AMPG', 'AMPGW', 'AMPH', 'AMPI', 'AMPI+', 'AMPI=', 'AMPL', 'AMPS', 'AMPS+', 'AMPY', 'AMR', 'AMRC', 'AMRK', 'AMRN', 'AMRS', 'AMRX', 'AMS', 'AMSC', 'AMSF', 'AMST', 'AMSWA', 'AMT', 'AMTB', 'AMTD', 'AMTI', 'AMTR', 'AMTX', 'AMUB', 'AMWD', 'AMWL', 'AMX', 'AMYT', 'AMZA', 'AMZN', 'AN', 'ANAB', 'ANAC', 'ANAC+', 'ANAC=', 'ANAT', 'ANDE', 'ANEB', 'ANET', 'ANEW', 'ANF', 'ANGH', 'ANGHW', 'ANGI', 'ANGL', 'ANGN', 'ANGO', 'ANIK', 'ANIP', 'ANIX', 'ANNX', 'ANPC', 'ANSS', 'ANTE', 'ANTM', 'ANTX', 'ANVS', 'ANY', 'ANZU', 'ANZUU', 'ANZUW', 'AOA', 'AOD', 'AOGO', 'AOGOU', 'AOGOW', 'AOK', 'AOM', 'AOMR', 'AON', 'AOR', 'AORT', 'AOS', 'AOSL', 'AOUT', 'AP', 'AP+', 'APA', 'APAC', 'APACU', 'APACW', 'APAM', 'APCA', 'APCA+', 'APCA=', 'APCX', 'APCXW', 'APD', 'APDN', 'APEI', 'APEN', 'APG', 'APGB', 'APGB+', 'APGB=', 'APH', 'API', 'APLE', 'APLS', 'APLT', 'APM', 'APMI', 'APMIU', 'APMIW', 'APN', 'APN+', 'APN=', 'APO', 'APOG', 'APP', 'APPF', 'APPH', 'APPHW', 'APPN', 'APPS', 'APRE', 'APRN', 'APRZ', 'APSG', 'APSG+', 'APSG=', 'APT', 'APTM', 'APTMU', 'APTMW', 'APTO', 'APTS', 'APTV', 'APTV-A', 'APTX', 'APVO', 'APWC', 'APXH', 'APXI', 'APXIU', 'APXIW', 'APYX', 'AQB', 'AQGX', 'AQMS', 'AQN', 'AQNA', 'AQNB', 'AQNU', 'AQST', 'AQUA', 'AQWA', 'AR', 'ARAV', 'ARAY', 'ARB', 'ARBE', 'ARBEW', 'ARBG', 'ARBGU', 'ARBGW', 'ARBK', 'ARBKL', 'ARC', 'ARCB', 'ARCC', 'ARCE', 'ARCH', 'ARCK', 'ARCKU', 'ARCKW', 'ARCM', 'ARCO', 'ARCT', 'ARDC', 'ARDS', 'ARDX', 'ARE', 'AREB', 'AREBW', 'AREC', 'AREN', 'ARES', 'ARGD', 'ARGO', 'ARGO-A', 'ARGT', 'ARGU', 'ARGUU', 'ARGUW', 'ARGX', 'ARHS', 'ARI', 'ARIS', 'ARIZ', 'ARIZR', 'ARIZU', 'ARIZW', 'ARKF', 'ARKG', 'ARKK', 'ARKO', 'ARKOW', 'ARKQ', 'ARKR', 'ARKW', 'ARKX', 'ARL', 'ARLO', 'ARLP', 'ARMK', 'ARMP', 'ARMR', 'ARNC', 'AROC', 'AROW', 'ARQQ', 'ARQQW', 'ARQT', 'ARR', 'ARR-C', 'ARRW', 'ARRWU', 'ARRWW', 'ARRY', 'ARTA', 'ARTAU', 'ARTAW', 'ARTE', 'ARTEU', 'ARTEW', 'ARTL', 'ARTLW', 'ARTNA', 'ARTW', 'ARVL', 'ARVN', 'ARW', 'ARWR', 'ARYD', 'ARYE', 'ASA', 'ASAI', 'ASAN', 'ASAQ', 'ASAQ+', 'ASAQ=', 'ASAX', 'ASAXU', 'ASAXW', 'ASB', 'ASB-E', 'ASB-F', 'ASC', 'ASCA', 'ASCAR', 'ASCAU', 'ASCAW', 'ASEA', 'ASET', 'ASG', 'ASGI', 'ASGN', 'ASH', 'ASHR', 'ASHS', 'ASHX', 'ASIX', 'ASLE', 'ASLN', 'ASM', 'ASMB', 'ASML', 'ASND', 'ASO', 'ASPA', 'ASPAU', 'ASPAW', 'ASPC', 'ASPCU', 'ASPCW', 'ASPN', 'ASPS', 'ASPU', 'ASPY', 'ASR', 'ASRT', 'ASRV', 'ASTC', 'ASTE', 'ASTL', 'ASTLW', 'ASTR', 'ASTS', 'ASTSW', 'ASUR', 'ASX', 'ASXC', 'ASYS', 'ASZ', 'ASZ+', 'ASZ=', 'ATA', 'ATA+', 'ATA=', 'ATAI', 'ATAK', 'ATAKR', 'ATAKU', 'ATAKW', 'ATAQ', 'ATAQ+', 'ATAQ=', 'ATAX', 'ATC', 'ATCO', 'ATCO-D', 'ATCO-H', 'ATCO-I', 'ATCOL', 'ATCX', 'ATEC', 'ATEK', 'ATEK+', 'ATEK=', 'ATEN', 'ATER', 'ATEX', 'ATFV', 'ATGE', 'ATH-A', 'ATH-B', 'ATH-C', 'ATH-D', 'ATHA', 'ATHE', 'ATHM', 'ATHX', 'ATI', 'ATIF', 'ATIP', 'ATIP+', 'ATKR', 'ATLC', 'ATLCL', 'ATLCP', 'ATLO', 'ATMP', 'ATNF', 'ATNFW', 'ATNI', 'ATNM', 'ATNX', 'ATO', 'ATOM', 'ATOS', 'ATR', 'ATRA', 'ATRC', 'ATRI', 'ATRO', 'ATRS', 'ATSG', 'ATSPT', 'ATSPU', 'ATSPW', 'ATTO', 'ATUS', 'ATVC', 'ATVCU', 'ATVCW', 'ATVI', 'ATXI', 'ATXS', 'ATY', 'AU', 'AUB', 'AUBAP', 'AUBN', 'AUD', 'AUDC', 'AUGX', 'AUGZ', 'AUID', 'AUMN', 'AUPH', 'AUR', 'AURA', 'AURC', 'AURCU', 'AURCW', 'AUROW', 'AUS', 'AUS+', 'AUS=', 'AUSF', 'AUTL', 'AUTO', 'AUUD', 'AUUDW', 'AUVI', 'AUVIP', 'AUY', 'AVA', 'AVAC', 'AVACU', 'AVACW', 'AVAH', 'AVAL', 'AVAN', 'AVAN+', 'AVAN=', 'AVAV', 'AVB', 'AVCO', 'AVCT', 'AVCTW', 'AVD', 'AVDE', 'AVDG', 'AVDL', 'AVDR', 'AVDV', 'AVDX', 'AVEM', 'AVEO', 'AVES', 'AVGO', 'AVGOP', 'AVGR', 'AVHI', 'AVHIU', 'AVHIW', 'AVID', 'AVIG', 'AVIR', 'AVIV', 'AVK', 'AVLR', 'AVLV', 'AVMU', 'AVNS', 'AVNT', 'AVNW', 'AVO', 'AVPT', 'AVPTW', 'AVRE', 'AVRO', 'AVSC', 'AVSD', 'AVSE', 'AVSF', 'AVSU', 'AVT', 'AVTE', 'AVTR', 'AVTR-A', 'AVTX', 'AVUS', 'AVUV', 'AVXL', 'AVY', 'AVYA', 'AWAY', 'AWF', 'AWH', 'AWI', 'AWK', 'AWP', 'AWR', 'AWRE', 'AWTM', 'AWX', 'AWYX', 'AX', 'AXAC', 'AXAC+', 'AXAC^', 'AXDX', 'AXGN', 'AXH', 'AXH+', 'AXH=', 'AXL', 'AXLA', 'AXNX', 'AXON', 'AXP', 'AXR', 'AXS', 'AXS-E', 'AXSM', 'AXTA', 'AXTI', 'AXU', 'AY', 'AYI', 'AYLA', 'AYRO', 'AYTU', 'AYX', 'AZ', 'AZAA', 'AZAJ', 'AZAL', 'AZAO', 'AZBA', 'AZBJ', 'AZBL', 'AZBO', 'AZEK', 'AZN', 'AZO', 'AZPN', 'AZRE', 'AZTA', 'AZUL', 'AZYO', 'AZZ', 'B', 'BA', 'BAB', 'BABA', 'BAC', 'BAC-B', 'BAC-E', 'BAC-K', 'BAC-L', 'BAC-M', 'BAC-N', 'BAC-O', 'BAC-P', 'BAC-Q', 'BAC-S', 'BACA', 'BACA+', 'BACA=', 'BAD', 'BAFN', 'BAH', 'BAK', 'BAL', 'BALT', 'BALY', 'BAM', 'BAMH', 'BAMI', 'BAMR', 'BANC', 'BAND', 'BANF', 'BANFP', 'BANR', 'BANX', 'BAOS', 'BAP', 'BAPR', 'BAR', 'BARK', 'BARK+', 'BASE', 'BATL', 'BATRA', 'BATRK', 'BATT', 'BAUG', 'BAX', 'BB', 'BBAI', 'BBAI+', 'BBAR', 'BBAX', 'BBBY', 'BBC', 'BBCA', 'BBCP', 'BBD', 'BBDC', 'BBDO', 'BBEU', 'BBGI', 'BBH', 'BBI', 'BBIG', 'BBIN', 'BBIO', 'BBJP', 'BBLG', 'BBLGW', 'BBLN', 'BBLN+', 'BBMC', 'BBN', 'BBP', 'BBQ', 'BBRE', 'BBSA', 'BBSC', 'BBSI', 'BBU', 'BBUC', 'BBUS', 'BBVA', 'BBW', 'BBWI', 'BBY', 'BC', 'BC-A', 'BC-B', 'BC-C', 'BCAB', 'BCAC', 'BCACU', 'BCACW', 'BCAT', 'BCBP', 'BCC', 'BCD', 'BCDA', 'BCDAW', 'BCE', 'BCEL', 'BCH', 'BCI', 'BCIM', 'BCLI', 'BCM', 'BCML', 'BCO', 'BCOR', 'BCOV', 'BCOW', 'BCPC', 'BCRX', 'BCS', 'BCSA', 'BCSAU', 'BCSAW', 'BCSF', 'BCTX', 'BCTXW', 'BCV', 'BCV-A', 'BCX', 'BCYC', 'BDC', 'BDCX', 'BDCZ', 'BDEC', 'BDJ', 'BDL', 'BDN', 'BDR', 'BDRY', 'BDSX', 'BDTX', 'BDX', 'BDXB', 'BE', 'BEAM', 'BEAT', 'BEATW', 'BECN', 'BECO', 'BEDU', 'BEDZ', 'BEEM', 'BEEMW', 'BEKE', 'BELFA', 'BELFB', 'BEN', 'BENE', 'BENER', 'BENEU', 'BENEW', 'BEP', 'BEP-A', 'BEPC', 'BEPH', 'BEPI', 'BERY', 'BERZ', 'BEST', 'BETZ', 'BF.A', 'BF.B', 'BFAC', 'BFAC+', 'BFAC=', 'BFAM', 'BFC', 'BFEB', 'BFI', 'BFIIW', 'BFIN', 'BFIT', 'BFIX', 'BFK', 'BFLY', 'BFLY+', 'BFOR', 'BFRI', 'BFRIW', 'BFS', 'BFS-D', 'BFS-E', 'BFST', 'BFTR', 'BFZ', 'BG', 'BGB', 'BGCP', 'BGFV', 'BGH', 'BGI', 'BGLD', 'BGNE', 'BGR', 'BGRN', 'BGRY', 'BGRYW', 'BGS', 'BGSF', 'BGSX', 'BGSX+', 'BGSX=', 'BGT', 'BGX', 'BGY', 'BH', 'BH.A', 'BHAC', 'BHACU', 'BHACW', 'BHAT', 'BHB', 'BHC', 'BHE', 'BHF', 'BHFAL', 'BHFAM', 'BHFAN', 'BHFAO', 'BHFAP', 'BHG', 'BHIL', 'BHIL+', 'BHK', 'BHLB', 'BHP', 'BHR', 'BHR-B', 'BHR-D', 'BHSE', 'BHSEU', 'BHSEW', 'BHV', 'BHVN', 'BIB', 'BIBL', 'BICK', 'BIDS', 'BIDU', 'BIF', 'BIG', 'BIGC', 'BIGY', 'BIGZ', 'BIIB', 'BIL', 'BILI', 'BILL', 'BILS', 'BIMI', 'BIO', 'BIO.B', 'BIOC', 'BIOL', 'BIOS', 'BIOSU', 'BIOSW', 'BIOT', 'BIOTU', 'BIOTW', 'BIOX', 'BIP', 'BIP-A', 'BIP-B', 'BIPC', 'BIPH', 'BIPI', 'BIRD', 'BIS', 'BIT', 'BITE', 'BITE+', 'BITE=', 'BITF', 'BITO', 'BITQ', 'BITS', 'BIV', 'BIVI', 'BIZD', 'BJ', 'BJAN', 'BJDX', 'BJK', 'BJRI', 'BJUL', 'BJUN', 'BK', 'BKAG', 'BKCC', 'BKCH', 'BKCI', 'BKD', 'BKE', 'BKEM', 'BKEP', 'BKEPP', 'BKES', 'BKF', 'BKH', 'BKHY', 'BKI', 'BKIE', 'BKIS', 'BKKT', 'BKKT+', 'BKLC', 'BKLN', 'BKMC', 'BKN', 'BKNG', 'BKR', 'BKSB', 'BKSC', 'BKSE', 'BKSY', 'BKSY+', 'BKT', 'BKTI', 'BKU', 'BKUI', 'BKUS', 'BKYI', 'BL', 'BLBD', 'BLBX', 'BLCM', 'BLCN', 'BLCT', 'BLD', 'BLDE', 'BLDEW', 'BLDG', 'BLDP', 'BLDR', 'BLE', 'BLES', 'BLEU', 'BLEUR', 'BLEUU', 'BLEUW', 'BLFS', 'BLFY', 'BLHY', 'BLI', 'BLIN', 'BLK', 'BLKB', 'BLKC', 'BLL', 'BLMN', 'BLND', 'BLNG', 'BLNGU', 'BLNGW', 'BLNK', 'BLNKW', 'BLOK', 'BLPH', 'BLRX', 'BLSA', 'BLTS', 'BLTSU', 'BLTSW', 'BLU', 'BLUA', 'BLUA+', 'BLUA=', 'BLUE', 'BLV', 'BLW', 'BLX', 'BLZE', 'BMA', 'BMAC', 'BMAC+', 'BMAC=', 'BMAQ', 'BMAQR', 'BMAQU', 'BMAQW', 'BMAR', 'BMAY', 'BMBL', 'BME', 'BMEA', 'BMED', 'BMEZ', 'BMI', 'BML-G', 'BML-H', 'BML-J', 'BML-L', 'BMO', 'BMRA', 'BMRC', 'BMRN', 'BMTX', 'BMTX+', 'BMY', 'BND', 'BNDC', 'BNDD', 'BNDW', 'BNDX', 'BNE', 'BNED', 'BNFT', 'BNGE', 'BNGO', 'BNGOW', 'BNIX', 'BNIXR', 'BNIXW', 'BNKD', 'BNKU', 'BNL', 'BNNR', 'BNNRU', 'BNNRW', 'BNO', 'BNOV', 'BNOX', 'BNR', 'BNS', 'BNSO', 'BNTC', 'BNTX', 'BNY', 'BOAC', 'BOAC+', 'BOAC=', 'BOAS', 'BOAS+', 'BOAS=', 'BOAT', 'BOB', 'BOC', 'BOCN', 'BOCNU', 'BOCNW', 'BOCT', 'BODY', 'BODY+', 'BOE', 'BOH', 'BOH-A', 'BOIL', 'BOKF', 'BOLT', 'BON', 'BOND', 'BOOM', 'BOOT', 'BORR', 'BOSC', 'BOSS', 'BOTJ', 'BOTZ', 'BOUT', 'BOWL', 'BOWL+', 'BOX', 'BOXD', 'BOXD+', 'BOXL', 'BP', 'BPAC', 'BPACU', 'BPACW', 'BPMC', 'BPMP', 'BPOP', 'BPOPM', 'BPRN', 'BPT', 'BPTH', 'BPTS', 'BPYPM', 'BPYPN', 'BPYPO', 'BPYPP', 'BQ', 'BR', 'BRAC', 'BRACR', 'BRACU', 'BRAG', 'BRBR', 'BRBS', 'BRC', 'BRCC', 'BRCC+', 'BRCN', 'BRD', 'BRD+', 'BRD=', 'BRDG', 'BRDS', 'BRDS+', 'BREZ', 'BREZR', 'BREZW', 'BRF', 'BRFH', 'BRFS', 'BRG', 'BRG-C', 'BRG-D', 'BRID', 'BRIV', 'BRIVU', 'BRIVW', 'BRK.B', 'BRKH', 'BRKHU', 'BRKHW', 'BRKL', 'BRKR', 'BRLI', 'BRLIR', 'BRLIU', 'BRLIW', 'BRLT', 'BRMK', 'BRMK+', 'BRN', 'BRO', 'BROG', 'BROGW', 'BROS', 'BRP', 'BRPM', 'BRPMU', 'BRPMW', 'BRQS', 'BRSP', 'BRT', 'BRTX', 'BRW', 'BRX', 'BRY', 'BRZE', 'BRZU', 'BSAC', 'BSAQ', 'BSAQ+', 'BSAQ=', 'BSBE', 'BSBK', 'BSBR', 'BSCE', 'BSCM', 'BSCN', 'BSCO', 'BSCP', 'BSCQ', 'BSCR', 'BSCS', 'BSCT', 'BSCU', 'BSCV', 'BSDE', 'BSEA', 'BSEP', 'BSET', 'BSFC', 'BSGA', 'BSGAR', 'BSGAU', 'BSGM', 'BSIG', 'BSJM', 'BSJN', 'BSJO', 'BSJP', 'BSJQ', 'BSJR', 'BSJS', 'BSJT', 'BSKY', 'BSKYU', 'BSKYW', 'BSL', 'BSM', 'BSMM', 'BSMN', 'BSMO', 'BSMP', 'BSMQ', 'BSMR', 'BSMS', 'BSMT', 'BSMU', 'BSMV', 'BSMX', 'BSQR', 'BSRR', 'BST', 'BSTP', 'BSTZ', 'BSV', 'BSVN', 'BSX', 'BSX-A', 'BSY', 'BTA', 'BTAI', 'BTAL', 'BTB', 'BTBD', 'BTBDW', 'BTBT', 'BTCM', 'BTCR', 'BTCS', 'BTCY', 'BTEC', 'BTEK', 'BTF', 'BTG', 'BTHM', 'BTI', 'BTN', 'BTO', 'BTOG', 'BTRS', 'BTRU', 'BTRUW', 'BTT', 'BTTR', 'BTTX', 'BTU', 'BTWN', 'BTWNU', 'BTWNW', 'BTX', 'BTZ', 'BUD', 'BUDX', 'BUFB', 'BUFD', 'BUFF', 'BUFG', 'BUFR', 'BUFT', 'BUG', 'BUI', 'BUL', 'BULZ', 'BUR', 'BURL', 'BUSE', 'BUYZ', 'BUZZ', 'BV', 'BVH', 'BVN', 'BVS', 'BVXV', 'BW', 'BW-A', 'BWA', 'BWAC', 'BWACU', 'BWACW', 'BWAQ', 'BWAQR', 'BWAQU', 'BWAQW', 'BWAY', 'BWB', 'BWBBP', 'BWC', 'BWCAU', 'BWCAW', 'BWEN', 'BWFG', 'BWG', 'BWMN', 'BWMX', 'BWNB', 'BWSN', 'BWV', 'BWX', 'BWXT', 'BWZ', 'BX', 'BXC', 'BXMT', 'BXMX', 'BXP', 'BXRX', 'BXSL', 'BY', 'BYD', 'BYFC', 'BYLD', 'BYM', 'BYN', 'BYN+', 'BYN=', 'BYND', 'BYNO', 'BYNOU', 'BYNOW', 'BYRN', 'BYSI', 'BYTE', 'BYTS', 'BYTSU', 'BYTSW', 'BZ', 'BZFD', 'BZFDW', 'BZH', 'BZQ', 'BZUN', 'C', 'C-J', 'C-K', 'C-N', 'CAAP', 'CAAS', 'CABA', 'CABO', 'CAC', 'CACC', 'CACG', 'CACI', 'CADE', 'CADE-A', 'CADL', 'CAE', 'CAF', 'CAG', 'CAH', 'CAJ', 'CAKE', 'CAL', 'CALA', 'CALB', 'CALF', 'CALM', 'CALT', 'CALX', 'CAMP', 'CAMT', 'CAN', 'CANE', 'CANF', 'CANG', 'CANO', 'CANO+', 'CAPD', 'CAPL', 'CAPR', 'CAR', 'CARA', 'CARE', 'CARG', 'CARR', 'CARS', 'CARV', 'CARZ', 'CAS', 'CAS+', 'CAS=', 'CASA', 'CASH', 'CASI', 'CASS', 'CASY', 'CAT', 'CATC', 'CATH', 'CATO', 'CATY', 'CB', 'CBAN', 'CBAT', 'CBAY', 'CBD', 'CBFV', 'CBH', 'CBIO', 'CBL', 'CBLS', 'CBNK', 'CBO', 'CBOE', 'CBON', 'CBRE', 'CBRG', 'CBRGU', 'CBRGW', 'CBRL', 'CBSE', 'CBSH', 'CBT', 'CBTX', 'CBU', 'CBX', 'CBZ', 'CC', 'CCAI', 'CCAIU', 'CCAIW', 'CCAP', 'CCB', 'CCBG', 'CCCC', 'CCCS', 'CCD', 'CCEL', 'CCEP', 'CCF', 'CCI', 'CCJ', 'CCK', 'CCL', 'CCLP', 'CCM', 'CCMP', 'CCNC', 'CCNE', 'CCNEP', 'CCO', 'CCOI', 'CCOR', 'CCRD', 'CCRN', 'CCRV', 'CCS', 'CCSI', 'CCTS', 'CCTSU', 'CCTSW', 'CCU', 'CCV', 'CCV+', 'CCV=', 'CCVI', 'CCVI+', 'CCVI=', 'CCXI', 'CCZ', 'CD', 'CDAK', 'CDAQ', 'CDAQU', 'CDAQW', 'CDAY', 'CDC', 'CDE', 'CDEV', 'CDK', 'CDL', 'CDLX', 'CDMO', 'CDNA', 'CDNS', 'CDR', 'CDR-B', 'CDR-C', 'CDRE', 'CDRO', 'CDROW', 'CDTX', 'CDW', 'CDX', 'CDXC', 'CDXS', 'CDZI', 'CDZIP', 'CE', 'CEA', 'CEAD', 'CEADW', 'CECE', 'CEE', 'CEF', 'CEFA', 'CEFD', 'CEFS', 'CEG', 'CEI', 'CEIX', 'CELC', 'CELG^', 'CELH', 'CELP', 'CELU', 'CELUW', 'CELZ', 'CEM', 'CEMB', 'CEMI', 'CEN', 'CENN', 'CENQ', 'CENQU', 'CENQW', 'CENT', 'CENTA', 'CENX', 'CEPU', 'CEQP', 'CEQP-', 'CERE', 'CERN', 'CERS', 'CERT', 'CET', 'CETX', 'CETXP', 'CEV', 'CEVA', 'CEW', 'CEY', 'CF', 'CFA', 'CFB', 'CFBK', 'CFCV', 'CFFE', 'CFFEU', 'CFFEW', 'CFFI', 'CFFN', 'CFFS', 'CFFSU', 'CFFSW', 'CFG', 'CFG-D', 'CFG-E', 'CFIV', 'CFIVU', 'CFIVW', 'CFLT', 'CFMS', 'CFO', 'CFR', 'CFR-B', 'CFRX', 'CFSB', 'CFVI', 'CFVIU', 'CFVIW', 'CFX', 'CG', 'CGA', 'CGABL', 'CGAU', 'CGBD', 'CGC', 'CGCP', 'CGDV', 'CGEM', 'CGEN', 'CGGO', 'CGGR', 'CGNT', 'CGNX', 'CGO', 'CGRN', 'CGTX', 'CGUS', 'CGW', 'CGXU', 'CHAA', 'CHAA+', 'CHAA=', 'CHAD', 'CHAU', 'CHB', 'CHCI', 'CHCO', 'CHCT', 'CHD', 'CHDN', 'CHE', 'CHEF', 'CHEK', 'CHEKZ', 'CHGG', 'CHGX', 'CHH', 'CHI', 'CHIC', 'CHIE', 'CHIH', 'CHII', 'CHIK', 'CHIM', 'CHIQ', 'CHIR', 'CHIS', 'CHIU', 'CHIX', 'CHK', 'CHKEL', 'CHKEW', 'CHKEZ', 'CHKP', 'CHMG', 'CHMI', 'CHMI-A', 'CHMI-B', 'CHN', 'CHNA', 'CHNG', 'CHNGU', 'CHNR', 'CHPM', 'CHPMU', 'CHPMW', 'CHPT', 'CHRA', 'CHRB', 'CHRS', 'CHRW', 'CHS', 'CHSCL', 'CHSCM', 'CHSCN', 'CHSCO', 'CHSCP', 'CHT', 'CHTR', 'CHUY', 'CHW', 'CHWA', 'CHWAU', 'CHWAW', 'CHWY', 'CHX', 'CHY', 'CI', 'CIA', 'CIAN', 'CIB', 'CIBR', 'CID', 'CIDM', 'CIEN', 'CIF', 'CIFR', 'CIFRW', 'CIG', 'CIG.C', 'CIGI', 'CIH', 'CII', 'CIIG', 'CIIGU', 'CIIGW', 'CIK', 'CIL', 'CIM', 'CIM-A', 'CIM-B', 'CIM-C', 'CIM-D', 'CINC', 'CINF', 'CING', 'CINGW', 'CINT', 'CIO', 'CIO-A', 'CION', 'CIR', 'CISO', 'CITE', 'CITEU', 'CITEW', 'CIVB', 'CIVI', 'CIX', 'CIXX', 'CIZ', 'CIZN', 'CJJD', 'CKPT', 'CKX', 'CL', 'CLAA', 'CLAA+', 'CLAA=', 'CLAQ', 'CLAQR', 'CLAQU', 'CLAQW', 'CLAR', 'CLAS', 'CLAS+', 'CLAS=', 'CLAY', 'CLAYU', 'CLAYW', 'CLB', 'CLBK', 'CLBR', 'CLBR+', 'CLBR=', 'CLBS', 'CLBT', 'CLBTW', 'CLDL', 'CLDS', 'CLDT', 'CLDT-A', 'CLDX', 'CLEU', 'CLF', 'CLFD', 'CLGN', 'CLH', 'CLIM', 'CLIM+', 'CLIM=', 'CLINU', 'CLIR', 'CLIX', 'CLLS', 'CLM', 'CLMA', 'CLMT', 'CLNE', 'CLNN', 'CLNNW', 'CLNR', 'CLOE', 'CLOER', 'CLOEU', 'CLOU', 'CLOV', 'CLPR', 'CLPS', 'CLPT', 'CLR', 'CLRB', 'CLRG', 'CLRM', 'CLRMU', 'CLRMW', 'CLRO', 'CLS', 'CLSA', 'CLSC', 'CLSD', 'CLSE', 'CLSK', 'CLSM', 'CLSN', 'CLST', 'CLTL', 'CLVR', 'CLVRW', 'CLVS', 'CLVT', 'CLVT-A', 'CLW', 'CLWT', 'CLX', 'CLXT', 'CM', 'CMA', 'CMAX', 'CMAXW', 'CMBM', 'CMBS', 'CMC', 'CMCA', 'CMCAU', 'CMCAW', 'CMCL', 'CMCM', 'CMCO', 'CMCSA', 'CMCT', 'CMCTP', 'CMDY', 'CME', 'CMF', 'CMG', 'CMI', 'CMLS', 'CMMB', 'CMP', 'CMPI', 'CMPO', 'CMPOW', 'CMPR', 'CMPS', 'CMPX', 'CMRE', 'CMRE-B', 'CMRE-C', 'CMRE-D', 'CMRE-E', 'CMRX', 'CMS', 'CMS-B', 'CMS-C', 'CMSA', 'CMSC', 'CMSD', 'CMT', 'CMTG', 'CMTL', 'CMU', 'CN', 'CNA', 'CNBS', 'CNC', 'CNCE', 'CNCR', 'CND', 'CND+', 'CND=', 'CNDA', 'CNDA+', 'CNDA=', 'CNDB', 'CNDB+', 'CNDB=', 'CNDT', 'CNET', 'CNEY', 'CNF', 'CNFR', 'CNFRL', 'CNGL', 'CNGLU', 'CNGLW', 'CNHI', 'CNI', 'CNK', 'CNM', 'CNMD', 'CNNB', 'CNNE', 'CNO', 'CNO-A', 'CNOB', 'CNOBP', 'CNP', 'CNQ', 'CNR', 'CNRG', 'CNS', 'CNSL', 'CNSP', 'CNTA', 'CNTB', 'CNTG', 'CNTQ', 'CNTQU', 'CNTQW', 'CNTX', 'CNTY', 'CNVY', 'CNX', 'CNXC', 'CNXN', 'CNXT', 'CNYA', 'CO', 'COCO', 'COCP', 'CODA', 'CODI', 'CODI-A', 'CODI-B', 'CODI-C', 'CODX', 'COE', 'COF', 'COF-I', 'COF-J', 'COF-K', 'COF-L', 'COF-N', 'COFS', 'COGT', 'COHN', 'COHR', 'COHU', 'COIN', 'COKE', 'COLB', 'COLD', 'COLI', 'COLIU', 'COLIW', 'COLL', 'COLM', 'COM', 'COMB', 'COMM', 'COMP', 'COMS', 'COMSP', 'COMSW', 'COMT', 'CONN', 'CONX', 'CONXU', 'CONXW', 'COO', 'COOK', 'COOL', 'COOLU', 'COOLW', 'COOP', 'COP', 'COPX', 'CORN', 'CORP', 'CORR', 'CORR-A', 'CORS', 'CORS+', 'CORS=', 'CORT', 'CORZ', 'CORZW', 'COSM', 'COST', 'COTY', 'COUP', 'COUR', 'COVA', 'COVAU', 'COVAW', 'COW', 'COWN', 'COWNL', 'COWZ', 'CP', 'CPA', 'CPAA', 'CPAAU', 'CPAAW', 'CPAC', 'CPAQ', 'CPAQU', 'CPAQW', 'CPAR', 'CPARU', 'CPARW', 'CPB', 'CPE', 'CPER', 'CPF', 'CPG', 'CPHC', 'CPHI', 'CPI', 'CPIX', 'CPK', 'CPLP', 'CPNG', 'CPOP', 'CPRI', 'CPRT', 'CPRX', 'CPS', 'CPSH', 'CPSI', 'CPSS', 'CPT', 'CPTAG', 'CPTAL', 'CPTK', 'CPTK+', 'CPTK=', 'CPTN', 'CPTNW', 'CPUH', 'CPUH+', 'CPUH=', 'CPZ', 'CQP', 'CQQQ', 'CR', 'CRAI', 'CRAK', 'CRBN', 'CRBP', 'CRBU', 'CRC', 'CRCT', 'CRD.A', 'CRD.B', 'CRDF', 'CRDL', 'CRDO', 'CREC', 'CRECU', 'CRECW', 'CREG', 'CRESW', 'CRESY', 'CREX', 'CREXW', 'CRF', 'CRGY', 'CRH', 'CRHC', 'CRHC+', 'CRHC=', 'CRI', 'CRIS', 'CRIT', 'CRK', 'CRKN', 'CRL', 'CRM', 'CRMD', 'CRMT', 'CRNC', 'CRNT', 'CRNX', 'CROC', 'CRON', 'CROX', 'CRPT', 'CRS', 'CRSP', 'CRSR', 'CRT', 'CRTD', 'CRTDW', 'CRTO', 'CRTX', 'CRU', 'CRU+', 'CRU=', 'CRUS', 'CRUZ', 'CRVL', 'CRVS', 'CRWD', 'CRWS', 'CRXT', 'CRXTW', 'CRZN', 'CRZNU', 'CRZNW', 'CS', 'CSA', 'CSAN', 'CSB', 'CSBR', 'CSCO', 'CSCW', 'CSD', 'CSF', 'CSGP', 'CSGS', 'CSH', 'CSII', 'CSIQ', 'CSL', 'CSLM', 'CSLMR', 'CSLMU', 'CSLMW', 'CSM', 'CSML', 'CSPI', 'CSQ', 'CSR', 'CSR-C', 'CSSE', 'CSSEN', 'CSSEP', 'CSTA', 'CSTA+', 'CSTA=', 'CSTE', 'CSTL', 'CSTM', 'CSTR', 'CSV', 'CSWC', 'CSWI', 'CSX', 'CTA', 'CTA-A', 'CTA-B', 'CTAQ', 'CTAQU', 'CTAQW', 'CTAS', 'CTBB', 'CTBI', 'CTDD', 'CTEC', 'CTEK', 'CTEX', 'CTG', 'CTGO', 'CTHR', 'CTIB', 'CTIC', 'CTK', 'CTKB', 'CTLP', 'CTLT', 'CTMX', 'CTO', 'CTO-A', 'CTOS', 'CTOS+', 'CTR', 'CTRA', 'CTRE', 'CTRM', 'CTRN', 'CTRU', 'CTS', 'CTSH', 'CTSO', 'CTT', 'CTV', 'CTV+', 'CTVA', 'CTXR', 'CTXRW', 'CTXS', 'CUBA', 'CUBB', 'CUBE', 'CUBI', 'CUBI-E', 'CUBI-F', 'CUBS', 'CUE', 'CUEN', 'CUENW', 'CUK', 'CULL', 'CULP', 'CURE', 'CURI', 'CURIW', 'CURO', 'CURV', 'CUT', 'CUTR', 'CUZ', 'CVAC', 'CVAR', 'CVBF', 'CVCO', 'CVCY', 'CVE', 'CVE+', 'CVEO', 'CVET', 'CVGI', 'CVGW', 'CVI', 'CVII', 'CVII+', 'CVII=', 'CVLG', 'CVLT', 'CVLY', 'CVM', 'CVNA', 'CVR', 'CVRX', 'CVS', 'CVT', 'CVU', 'CVV', 'CVX', 'CVY', 'CW', 'CWAN', 'CWB', 'CWBC', 'CWBR', 'CWCO', 'CWEB', 'CWEN', 'CWEN.A', 'CWH', 'CWI', 'CWK', 'CWS', 'CWST', 'CWT', 'CX', 'CXAC', 'CXAC+', 'CXAC=', 'CXDO', 'CXE', 'CXH', 'CXM', 'CXSE', 'CXW', 'CYA', 'CYAD', 'CYAN', 'CYB', 'CYBE', 'CYBN', 'CYBR', 'CYCC', 'CYCCP', 'CYCN', 'CYD', 'CYH', 'CYN', 'CYRN', 'CYRX', 'CYT', 'CYTH', 'CYTHW', 'CYTK', 'CYTO', 'CYXT', 'CZA', 'CZNC', 'CZOO', 'CZOO+', 'CZR', 'CZWI', 'D', 'DAC', 'DADA', 'DAIO', 'DAKT', 'DAL', 'DALI', 'DALN', 'DALS', 'DALT', 'DAM', 'DAN', 'DAO', 'DAOO', 'DAOOU', 'DAOOW', 'DAPP', 'DAPR', 'DAR', 'DARE', 'DASH', 'DAT', 'DATS', 'DATSW', 'DAUG', 'DAVA', 'DAVE', 'DAVEW', 'DAWN', 'DAX', 'DB', 'DBA', 'DBAW', 'DBB', 'DBC', 'DBD', 'DBE', 'DBEF', 'DBEH', 'DBEM', 'DBEU', 'DBEZ', 'DBGI', 'DBGIW', 'DBGR', 'DBI', 'DBJA', 'DBJP', 'DBL', 'DBLV', 'DBMF', 'DBO', 'DBOC', 'DBP', 'DBRG', 'DBRG-H', 'DBRG-I', 'DBRG-J', 'DBS', 'DBTX', 'DBV', 'DBVT', 'DBX', 'DCBO', 'DCF', 'DCFC', 'DCFCW', 'DCGO', 'DCGOW', 'DCI', 'DCO', 'DCOM', 'DCOMP', 'DCP', 'DCP-B', 'DCP-C', 'DCPH', 'DCRD', 'DCRDU', 'DCRDW', 'DCT', 'DCTH', 'DCUE', 'DD', 'DDD', 'DDEC', 'DDF', 'DDG', 'DDI', 'DDIV', 'DDL', 'DDLS', 'DDM', 'DDOG', 'DDS', 'DDT', 'DDWM', 'DE', 'DEA', 'DECK', 'DECZ', 'DEED', 'DEEF', 'DEEP', 'DEF', 'DEI', 'DEIF', 'DELL', 'DEM', 'DEMZ', 'DEN', 'DENN', 'DEO', 'DERM', 'DES', 'DESP', 'DEUS', 'DEW', 'DEX', 'DFAC', 'DFAE', 'DFAI', 'DFAR', 'DFAS', 'DFAT', 'DFAU', 'DFAX', 'DFCF', 'DFE', 'DFEB', 'DFEN', 'DFFN', 'DFH', 'DFHY', 'DFIC', 'DFIN', 'DFIP', 'DFIS', 'DFIV', 'DFJ', 'DFND', 'DFNL', 'DFNM', 'DFNV', 'DFP', 'DFRA', 'DFS', 'DFSD', 'DFSV', 'DFUS', 'DG', 'DGHI', 'DGICA', 'DGICB', 'DGII', 'DGIN', 'DGL', 'DGLY', 'DGNU', 'DGP', 'DGRE', 'DGRO', 'DGRS', 'DGRW', 'DGS', 'DGT', 'DGX', 'DGZ', 'DH', 'DHAC', 'DHACU', 'DHACW', 'DHBC', 'DHBCU', 'DHBCW', 'DHC', 'DHCA', 'DHCAU', 'DHCAW', 'DHCNI', 'DHCNL', 'DHF', 'DHHC', 'DHHCU', 'DHHCW', 'DHI', 'DHIL', 'DHR', 'DHR-A', 'DHR-B', 'DHS', 'DHT', 'DHX', 'DHY', 'DIA', 'DIAL', 'DIAX', 'DIBS', 'DICE', 'DIDI', 'DIG', 'DIHP', 'DILA', 'DILAU', 'DILAW', 'DIM', 'DIN', 'DINO', 'DINT', 'DIOD', 'DIS', 'DISA', 'DISAU', 'DISAW', 'DISCA', 'DISCB', 'DISCK', 'DISH', 'DISV', 'DIT', 'DIV', 'DIVA', 'DIVB', 'DIVO', 'DIVS', 'DIVZ', 'DJAN', 'DJCB', 'DJCO', 'DJD', 'DJIA', 'DJP', 'DJUL', 'DJUN', 'DK', 'DKDCA', 'DKDCU', 'DKDCW', 'DKL', 'DKNG', 'DKS', 'DLA', 'DLB', 'DLCA', 'DLCAU', 'DLCAW', 'DLHC', 'DLN', 'DLNG', 'DLNG-A', 'DLNG-B', 'DLO', 'DLPN', 'DLR', 'DLR-J', 'DLR-K', 'DLR-L', 'DLS', 'DLTH', 'DLTR', 'DLX', 'DLY', 'DM', 'DMA', 'DMAC', 'DMAQ', 'DMAQR', 'DMAR', 'DMAT', 'DMAY', 'DMB', 'DMCY', 'DMDV', 'DMF', 'DMLP', 'DMO', 'DMRC', 'DMRE', 'DMRI', 'DMRL', 'DMRM', 'DMRS', 'DMS', 'DMS+', 'DMTK', 'DMXF', 'DMYS', 'DMYS+', 'DMYS=', 'DNA', 'DNA+', 'DNAA', 'DNAB', 'DNAC', 'DNAD', 'DNAY', 'DNB', 'DNL', 'DNLI', 'DNMR', 'DNN', 'DNOV', 'DNOW', 'DNP', 'DNUT', 'DNZ', 'DNZ+', 'DNZ=', 'DO', 'DOC', 'DOCN', 'DOCS', 'DOCT', 'DOCU', 'DOG', 'DOGZ', 'DOL', 'DOLE', 'DOMA', 'DOMA+', 'DOMO', 'DON', 'DOOO', 'DOOR', 'DORM', 'DOUG', 'DOV', 'DOW', 'DOX', 'DOYU', 'DOZR', 'DPCS', 'DPCSU', 'DPCSW', 'DPG', 'DPRO', 'DPST', 'DPZ', 'DQ', 'DRAY', 'DRAYU', 'DRAYW', 'DRCT', 'DRCTW', 'DRD', 'DRE', 'DRH', 'DRH-A', 'DRI', 'DRIO', 'DRIP', 'DRIV', 'DRMA', 'DRMAW', 'DRN', 'DRQ', 'DRRX', 'DRSK', 'DRTS', 'DRTSW', 'DRTT', 'DRUG', 'DRV', 'DRVN', 'DRW', 'DS', 'DS-B', 'DS-C', 'DS-D', 'DSAC', 'DSACU', 'DSACW', 'DSAQ', 'DSAQ+', 'DSAQ=', 'DSCF', 'DSEP', 'DSEY', 'DSGN', 'DSGX', 'DSI', 'DSJA', 'DSKE', 'DSL', 'DSM', 'DSOC', 'DSP', 'DSPC', 'DSS', 'DSTL', 'DSTX', 'DSU', 'DSWL', 'DSX', 'DSX-B', 'DT', 'DTB', 'DTC', 'DTD', 'DTE', 'DTEA', 'DTEC', 'DTF', 'DTG', 'DTH', 'DTIL', 'DTLA-', 'DTM', 'DTOC', 'DTOCU', 'DTOCW', 'DTOX', 'DTP', 'DTRT', 'DTRTU', 'DTRTW', 'DTSS', 'DTST', 'DTSTW', 'DTW', 'DUDE', 'DUET', 'DUETU', 'DUETW', 'DUG', 'DUHP', 'DUK', 'DUK-A', 'DUKB', 'DUNE', 'DUNEU', 'DUNEW', 'DUO', 'DUOL', 'DUOT', 'DURA', 'DUSA', 'DUSL', 'DUST', 'DV', 'DVA', 'DVAX', 'DVLU', 'DVN', 'DVOL', 'DVY', 'DVYA', 'DVYE', 'DWAC', 'DWACU', 'DWACW', 'DWAS', 'DWAT', 'DWAW', 'DWCR', 'DWEQ', 'DWIN', 'DWIN+', 'DWIN=', 'DWLD', 'DWM', 'DWMC', 'DWMF', 'DWPP', 'DWSH', 'DWSN', 'DWUS', 'DWX', 'DX', 'DX-C', 'DXC', 'DXCM', 'DXD', 'DXF', 'DXGE', 'DXJ', 'DXJS', 'DXLG', 'DXPE', 'DXR', 'DXYN', 'DY', 'DYAI', 'DYFN', 'DYLD', 'DYN', 'DYNF', 'DYNS', 'DYNT', 'DZSI', 'DZZ', 'E', 'EA', 'EAC', 'EACPU', 'EACPW', 'EAD', 'EAF', 'EAFD', 'EAGG', 'EAI', 'EAOA', 'EAOK', 'EAOM', 'EAOR', 'EAPR', 'EAR', 'EARN', 'EASG', 'EAST', 'EAT', 'EATV', 'EATZ', 'EB', 'EBAC', 'EBACU', 'EBACW', 'EBAY', 'EBC', 'EBET', 'EBF', 'EBIX', 'EBIZ', 'EBLU', 'EBMT', 'EBND', 'EBON', 'EBR', 'EBR.B', 'EBS', 'EBTC', 'EC', 'ECAT', 'ECC', 'ECC-D', 'ECCC', 'ECCV', 'ECCW', 'ECCX', 'ECF', 'ECF-A', 'ECH', 'ECL', 'ECLN', 'ECNS', 'ECOL', 'ECOLW', 'ECOM', 'ECON', 'ECOR', 'ECOW', 'ECOZ', 'ECPG', 'ECVT', 'ED', 'EDAP', 'EDC', 'EDD', 'EDEN', 'EDF', 'EDI', 'EDIT', 'EDIV', 'EDN', 'EDNC', 'EDNCU', 'EDNCW', 'EDOC', 'EDOG', 'EDOW', 'EDR', 'EDRY', 'EDSA', 'EDTK', 'EDTX', 'EDTXU', 'EDTXW', 'EDU', 'EDUC', 'EDUT', 'EDV', 'EDZ', 'EEA', 'EEFT', 'EEH', 'EEIQ', 'EELV', 'EEM', 'EEMA', 'EEMD', 'EEMO', 'EEMS', 'EEMV', 'EEMX', 'EERN', 'EES', 'EET', 'EEV', 'EEX', 'EFA', 'EFAD', 'EFAS', 'EFAV', 'EFAX', 'EFC', 'EFC-A', 'EFC-B', 'EFG', 'EFIV', 'EFIX', 'EFL', 'EFNL', 'EFO', 'EFOI', 'EFR', 'EFSC', 'EFSCP', 'EFT', 'EFTR', 'EFTRW', 'EFU', 'EFV', 'EFX', 'EFZ', 'EGAN', 'EGBN', 'EGF', 'EGGF', 'EGGF+', 'EGGF=', 'EGHT', 'EGIS', 'EGLE', 'EGLX', 'EGO', 'EGP', 'EGPT', 'EGRX', 'EGY', 'EH', 'EHC', 'EHI', 'EHTH', 'EIC', 'EICA', 'EIDO', 'EIG', 'EIGR', 'EIM', 'EINC', 'EIRL', 'EIS', 'EIX', 'EJAN', 'EJFA', 'EJFAU', 'EJFAW', 'EJH', 'EJUL', 'EKAR', 'EKG', 'EKSO', 'EL', 'ELA', 'ELAN', 'ELAT', 'ELC', 'ELD', 'ELDN', 'ELEV', 'ELF', 'ELLO', 'ELMD', 'ELMS', 'ELMSW', 'ELOX', 'ELP', 'ELQD', 'ELS', 'ELSE', 'ELTK', 'ELVT', 'ELY', 'ELYM', 'ELYS', 'EM', 'EMAN', 'EMB', 'EMBC', 'EMBD', 'EMBH', 'EMBK', 'EMBKW', 'EMCB', 'EMCF', 'EMCGU', 'EMCR', 'EMD', 'EMDV', 'EME', 'EMF', 'EMFM', 'EMFQ', 'EMGD', 'EMGF', 'EMHC', 'EMHY', 'EMIF', 'EMKR', 'EML', 'EMLC', 'EMLD', 'EMLDU', 'EMLDW', 'EMLP', 'EMMF', 'EMN', 'EMNT', 'EMO', 'EMP', 'EMQQ', 'EMR', 'EMSG', 'EMSH', 'EMTL', 'EMTY', 'EMX', 'EMXC', 'EMXF', 'ENB', 'ENBA', 'ENCP', 'ENCPU', 'ENCPW', 'ENDP', 'ENER', 'ENERR', 'ENERU', 'ENERW', 'ENFN', 'ENFR', 'ENG', 'ENIA', 'ENIC', 'ENJ', 'ENJY', 'ENJYW', 'ENLC', 'ENLV', 'ENO', 'ENOB', 'ENOR', 'ENOV#', 'ENPC', 'ENPC+', 'ENPC=', 'ENPH', 'ENR', 'ENS', 'ENSC', 'ENSG', 'ENSV', 'ENTA', 'ENTF', 'ENTFU', 'ENTFW', 'ENTG', 'ENTR', 'ENTX', 'ENTXW', 'ENV', 'ENVA', 'ENVB', 'ENVX', 'ENX', 'ENZ', 'ENZL', 'EOCT', 'EOCW', 'EOCW+', 'EOCW=', 'EOD', 'EOG', 'EOI', 'EOLS', 'EOPS', 'EOS', 'EOSE', 'EOSEW', 'EOT', 'EP', 'EP-C', 'EPAC', 'EPAM', 'EPAY', 'EPC', 'EPD', 'EPHE', 'EPHY', 'EPHYU', 'EPHYW', 'EPI', 'EPIX', 'EPM', 'EPOL', 'EPP', 'EPR', 'EPR-C', 'EPR-E', 'EPR-G', 'EPRE', 'EPRF', 'EPRT', 'EPS', 'EPSN', 'EPU', 'EPV', 'EPWR', 'EPWR+', 'EPWR=', 'EPZM', 'EQ', 'EQAL', 'EQBK', 'EQC', 'EQC-D', 'EQD', 'EQD+', 'EQD=', 'EQH', 'EQH-A', 'EQH-C', 'EQHA', 'EQHA+', 'EQHA=', 'EQIX', 'EQL', 'EQNR', 'EQOP', 'EQOS', 'EQR', 'EQRR', 'EQRX', 'EQRXW', 'EQS', 'EQT', 'EQUL', 'EQWL', 'EQX', 'ERAS', 'ERC', 'ERES', 'ERESU', 'ERESW', 'ERF', 'ERH', 'ERIC', 'ERIE', 'ERII', 'ERJ', 'ERM', 'ERO', 'ERSX', 'ERTH', 'ERUS', 'ERX', 'ERY', 'ERYP', 'ES', 'ESAB#', 'ESAC', 'ESACU', 'ESACW', 'ESBA', 'ESBK', 'ESCA', 'ESCR', 'ESE', 'ESEA', 'ESEB', 'ESG', 'ESGA', 'ESGB', 'ESGC', 'ESGD', 'ESGE', 'ESGG', 'ESGN', 'ESGR', 'ESGRO', 'ESGRP', 'ESGS', 'ESGU', 'ESGV', 'ESGY', 'ESHY', 'ESI', 'ESIX', 'ESLT', 'ESM', 'ESM+', 'ESM=', 'ESML', 'ESMT', 'ESMV', 'ESNT', 'ESOA', 'ESP', 'ESPO', 'ESPR', 'ESQ', 'ESRT', 'ESS', 'ESSA', 'ESSC', 'ESSCR', 'ESSCU', 'ESSCW', 'ESTA', 'ESTC', 'ESTE', 'ESUS', 'ET', 'ET-C', 'ET-D', 'ET-E', 'ETAC', 'ETACU', 'ETACW', 'ETB', 'ETD', 'ETG', 'ETHO', 'ETI-', 'ETJ', 'ETN', 'ETNB', 'ETO', 'ETON', 'ETR', 'ETRN', 'ETSY', 'ETTX', 'ETV', 'ETW', 'ETWO', 'ETWO+', 'ETX', 'ETY', 'EUCG', 'EUCR', 'EUCRU', 'EUCRW', 'EUDG', 'EUDV', 'EUFN', 'EUFX', 'EUM', 'EUO', 'EURL', 'EURN', 'EUSA', 'EUSB', 'EUSC', 'EVA', 'EVAX', 'EVBG', 'EVBN', 'EVC', 'EVCM', 'EVE', 'EVE+', 'EVE=', 'EVEN', 'EVER', 'EVF', 'EVFM', 'EVG', 'EVGBC', 'EVGN', 'EVGO', 'EVGOW', 'EVGR', 'EVGRU', 'EVGRW', 'EVH', 'EVI', 'EVK', 'EVLMC', 'EVLO', 'EVLV', 'EVLVW', 'EVM', 'EVN', 'EVNT', 'EVO', 'EVOJ', 'EVOJU', 'EVOJW', 'EVOK', 'EVOL', 'EVOP', 'EVR', 'EVRG', 'EVRI', 'EVSTC', 'EVT', 'EVTC', 'EVTL', 'EVTL+', 'EVV', 'EVX', 'EW', 'EWA', 'EWBC', 'EWC', 'EWCO', 'EWCZ', 'EWD', 'EWEB', 'EWG', 'EWGS', 'EWH', 'EWI', 'EWJ', 'EWJE', 'EWJV', 'EWK', 'EWL', 'EWM', 'EWMC', 'EWN', 'EWO', 'EWP', 'EWQ', 'EWRE', 'EWS', 'EWSC', 'EWT', 'EWTX', 'EWU', 'EWUS', 'EWV', 'EWW', 'EWX', 'EWY', 'EWZ', 'EWZS', 'EXAI', 'EXAS', 'EXC', 'EXD', 'EXEL', 'EXFY', 'EXG', 'EXI', 'EXK', 'EXLS', 'EXN', 'EXP', 'EXPD', 'EXPE', 'EXPI', 'EXPO', 'EXPR', 'EXR', 'EXTN', 'EXTR', 'EYE', 'EYEN', 'EYES', 'EYESW', 'EYLD', 'EYPT', 'EZA', 'EZFL', 'EZGO', 'EZJ', 'EZM', 'EZPW', 'EZU', 'F', 'F-B', 'F-C', 'FA', 'FAAR', 'FAB', 'FACA', 'FACA+', 'FACA=', 'FACT', 'FACT+', 'FACT=', 'FAD', 'FAF', 'FAIL', 'FALN', 'FAM', 'FAMI', 'FAN', 'FANG', 'FANH', 'FAPR', 'FARM', 'FARO', 'FAS', 'FAST', 'FAT', 'FATBB', 'FATBP', 'FATBW', 'FATE', 'FATH', 'FATH+', 'FATP', 'FATPU', 'FATPW', 'FAUG', 'FAX', 'FAZ', 'FB', 'FBC', 'FBCG', 'FBCV', 'FBGX', 'FBHS', 'FBIO', 'FBIOP', 'FBIZ', 'FBK', 'FBMS', 'FBNC', 'FBND', 'FBP', 'FBRT', 'FBRT-E', 'FBRX', 'FBT', 'FBZ', 'FC', 'FCA', 'FCAL', 'FCAP', 'FCAX', 'FCAX+', 'FCAX=', 'FCBC', 'FCCO', 'FCEF', 'FCEL', 'FCF', 'FCFS', 'FCG', 'FCLD', 'FCN', 'FCNCA', 'FCNCO', 'FCNCP', 'FCO', 'FCOM', 'FCOR', 'FCPI', 'FCPT', 'FCRD', 'FCRX', 'FCSH', 'FCT', 'FCTR', 'FCUV', 'FCVT', 'FCX', 'FDBC', 'FDD', 'FDEC', 'FDEM', 'FDEU', 'FDEV', 'FDG', 'FDHT', 'FDHY', 'FDIS', 'FDL', 'FDLO', 'FDM', 'FDMO', 'FDMT', 'FDN', 'FDNI', 'FDP', 'FDRR', 'FDRV', 'FDS', 'FDT', 'FDTS', 'FDUS', 'FDVV', 'FDWM', 'FDX', 'FE', 'FEAM', 'FEBZ', 'FEDL', 'FEDM', 'FEDU', 'FEDX', 'FEHY', 'FEI', 'FEIG', 'FEIM', 'FELE', 'FEM', 'FEMB', 'FEMS', 'FEMY', 'FEN', 'FENC', 'FENG', 'FENY', 'FEO', 'FEP', 'FERG', 'FET', 'FEUS', 'FEUZ', 'FEVR', 'FEX', 'FEXD', 'FEXDR', 'FEXDU', 'FEXDW', 'FEZ', 'FF', 'FFA', 'FFBC', 'FFBW', 'FFC', 'FFEB', 'FFHG', 'FFHL', 'FFIC', 'FFIE', 'FFIEW', 'FFIN', 'FFIU', 'FFIV', 'FFND', 'FFNW', 'FFR', 'FFSG', 'FFTG', 'FFTI', 'FFTY', 'FFWM', 'FGB', 'FGBI', 'FGBIP', 'FGD', 'FGEN', 'FGF', 'FGFPP', 'FGI', 'FGIWW', 'FGM', 'FGMCU', 'FGRO', 'FHB', 'FHI', 'FHLC', 'FHLT', 'FHLTU', 'FHLTW', 'FHN', 'FHN-B', 'FHN-C', 'FHN-D', 'FHN-E', 'FHN-F', 'FHS', 'FHTX', 'FHYS', 'FIAC', 'FIACU', 'FIACW', 'FIBK', 'FIBR', 'FICO', 'FICS', 'FICV', 'FICVU', 'FICVW', 'FID', 'FIDI', 'FIDU', 'FIEE', 'FIF', 'FIGB', 'FIGS', 'FIHD', 'FILL', 'FINM', 'FINMU', 'FINMW', 'FINS', 'FINV', 'FINW', 'FINX', 'FIS', 'FISI', 'FISK', 'FISR', 'FISV', 'FITB', 'FITBI', 'FITBO', 'FITBP', 'FITE', 'FIVA', 'FIVE', 'FIVG', 'FIVN', 'FIVR', 'FIW', 'FIX', 'FIXD', 'FIXX', 'FIZZ', 'FJAN', 'FJP', 'FJUL', 'FJUN', 'FKU', 'FKWL', 'FL', 'FLAC', 'FLACU', 'FLACW', 'FLAG', 'FLAG+', 'FLAG=', 'FLAU', 'FLAX', 'FLBL', 'FLBR', 'FLC', 'FLCA', 'FLCB', 'FLCH', 'FLCO', 'FLDM', 'FLDR', 'FLDZ', 'FLEE', 'FLEH', 'FLEX', 'FLFR', 'FLGB', 'FLGC', 'FLGR', 'FLGT', 'FLGV', 'FLHK', 'FLHY', 'FLIA', 'FLIC', 'FLIN', 'FLIY', 'FLJH', 'FLJP', 'FLKR', 'FLL', 'FLLA', 'FLLV', 'FLM', 'FLMB', 'FLME', 'FLME+', 'FLME=', 'FLMI', 'FLMN', 'FLMNW', 'FLMX', 'FLN', 'FLNC', 'FLNG', 'FLNT', 'FLO', 'FLOT', 'FLOW', 'FLQD', 'FLQE', 'FLQG', 'FLQH', 'FLQL', 'FLQM', 'FLQS', 'FLR', 'FLRG', 'FLRN', 'FLRT', 'FLRU', 'FLS', 'FLSA', 'FLSP', 'FLSW', 'FLT', 'FLTB', 'FLTN', 'FLTR', 'FLTW', 'FLUD', 'FLUX', 'FLV', 'FLWS', 'FLXE', 'FLXS', 'FLYA', 'FLYA+', 'FLYA=', 'FLYW', 'FLZA', 'FM', 'FMAG', 'FMAO', 'FMAR', 'FMAT', 'FMAY', 'FMB', 'FMBH', 'FMC', 'FMF', 'FMHI', 'FMIL', 'FMIV', 'FMIVU', 'FMIVW', 'FMN', 'FMNB', 'FMNY', 'FMQQ', 'FMS', 'FMTX', 'FMX', 'FMY', 'FN', 'FNA', 'FNB', 'FNB-E', 'FNCB', 'FNCH', 'FNCL', 'FND', 'FNDA', 'FNDB', 'FNDC', 'FNDE', 'FNDF', 'FNDX', 'FNF', 'FNGD', 'FNGG', 'FNGO', 'FNGR', 'FNGS', 'FNGU', 'FNHC', 'FNI', 'FNK', 'FNKO', 'FNLC', 'FNOV', 'FNTC', 'FNV', 'FNVT', 'FNVTU', 'FNVTW', 'FNWB', 'FNWD', 'FNX', 'FNY', 'FOA', 'FOA+', 'FOCS', 'FOCT', 'FOE', 'FOF', 'FOLD', 'FOMO', 'FONR', 'FOR', 'FORA', 'FORD', 'FORG', 'FORH', 'FORM', 'FORR', 'FORTY', 'FOSL', 'FOSLL', 'FOUN', 'FOUNU', 'FOUNW', 'FOUR', 'FOVL', 'FOX', 'FOXA', 'FOXF', 'FOXW', 'FOXWU', 'FOXWW', 'FPA', 'FPAC', 'FPAC+', 'FPAC=', 'FPAG', 'FPAY', 'FPE', 'FPEI', 'FPF', 'FPFD', 'FPH', 'FPI', 'FPL', 'FPRO', 'FPX', 'FPXE', 'FPXI', 'FQAL', 'FR', 'FRA', 'FRAF', 'FRBA', 'FRBK', 'FRBN', 'FRBNU', 'FRBNW', 'FRC', 'FRC-H', 'FRC-I', 'FRC-J', 'FRC-K', 'FRC-L', 'FRC-M', 'FRC-N', 'FRD', 'FRDM', 'FREE', 'FREEW', 'FREL', 'FREQ', 'FREY', 'FREY+', 'FRG', 'FRGAP', 'FRGE', 'FRGE+', 'FRGI', 'FRHC', 'FRI', 'FRLA', 'FRLAU', 'FRLAW', 'FRLN', 'FRME', 'FRMEP', 'FRNW', 'FRO', 'FROG', 'FRON', 'FRONU', 'FRONW', 'FRPH', 'FRPT', 'FRSG', 'FRSGU', 'FRSGW', 'FRSH', 'FRST', 'FRSX', 'FRT', 'FRT-C', 'FRTY', 'FRW', 'FRWAU', 'FRWAW', 'FRXB', 'FRXB+', 'FRXB=', 'FSBC', 'FSBW', 'FSD', 'FSEA', 'FSEC', 'FSEP', 'FSFG', 'FSI', 'FSIG', 'FSK', 'FSLR', 'FSLY', 'FSM', 'FSMB', 'FSMD', 'FSMO', 'FSNB', 'FSNB+', 'FSNB=', 'FSP', 'FSR', 'FSRD', 'FSRDW', 'FSRX', 'FSRXU', 'FSRXW', 'FSS', 'FSSI', 'FSSIU', 'FSSIW', 'FSST', 'FST', 'FST+', 'FST=', 'FSTA', 'FSTR', 'FSTX', 'FSV', 'FSYD', 'FSZ', 'FT', 'FTA', 'FTAA', 'FTAAU', 'FTAAW', 'FTAG', 'FTAI', 'FTAI-A', 'FTAI-B', 'FTAI-C', 'FTC', 'FTCH', 'FTCI', 'FTCS', 'FTCV', 'FTCVU', 'FTCVW', 'FTDR', 'FTEC', 'FTEK', 'FTEV', 'FTEV+', 'FTEV=', 'FTF', 'FTFT', 'FTGC', 'FTHI', 'FTHM', 'FTHY', 'FTI', 'FTIIU', 'FTK', 'FTLB', 'FTLS', 'FTNT', 'FTPA', 'FTPAU', 'FTPAW', 'FTRI', 'FTRP', 'FTS', 'FTSD', 'FTSL', 'FTSM', 'FTV', 'FTVI', 'FTVIU', 'FTVIW', 'FTXG', 'FTXH', 'FTXL', 'FTXN', 'FTXO', 'FTXR', 'FUBO', 'FUE', 'FUL', 'FULC', 'FULT', 'FULTP', 'FUMB', 'FUN', 'FUNC', 'FUND', 'FUNL', 'FURY', 'FUSB', 'FUSN', 'FUT', 'FUTU', 'FUTY', 'FUV', 'FV', 'FVAL', 'FVAM', 'FVC', 'FVCB', 'FVD', 'FVIV', 'FVIV+', 'FVIV=', 'FVRR', 'FVT', 'FVT+', 'FVT=', 'FWAC', 'FWBI', 'FWONA', 'FWONK', 'FWP', 'FWRD', 'FWRG', 'FXA', 'FXB', 'FXC', 'FXCO', 'FXCOR', 'FXCOW', 'FXD', 'FXE', 'FXF', 'FXG', 'FXH', 'FXI', 'FXL', 'FXLV', 'FXN', 'FXNC', 'FXO', 'FXP', 'FXR', 'FXU', 'FXY', 'FXZ', 'FYBR', 'FYC', 'FYLD', 'FYT', 'FYX', 'FZT', 'FZT+', 'FZT=', 'G', 'GAA', 'GAB', 'GAB-G', 'GAB-H', 'GAB-K', 'GABC', 'GACQ', 'GACQU', 'GACQW', 'GAIA', 'GAIN', 'GAINN', 'GAINZ', 'GAL', 'GALT', 'GAM', 'GAM-B', 'GAMB', 'GAMC', 'GAMCU', 'GAMCW', 'GAME', 'GAMR', 'GAN', 'GANX', 'GAPA', 'GAPA+', 'GAPA=', 'GAQ', 'GAQ+', 'GAQ=', 'GASS', 'GAST', 'GATE', 'GATEU', 'GATEW', 'GATO', 'GATX', 'GAU', 'GAZ', 'GB', 'GB+', 'GBAB', 'GBCI', 'GBDC', 'GBDV', 'GBF', 'GBGR', 'GBIL', 'GBIO', 'GBL', 'GBLD', 'GBLI', 'GBLL', 'GBLO', 'GBNH', 'GBNY', 'GBOX', 'GBR', 'GBRG', 'GBRGR', 'GBRGU', 'GBRGW', 'GBS', 'GBT', 'GBUG', 'GBUY', 'GBX', 'GCBC', 'GCC', 'GCI', 'GCIG', 'GCLN', 'GCMG', 'GCMGW', 'GCO', 'GCOR', 'GCOW', 'GCP', 'GCTK', 'GCV', 'GD', 'GDDY', 'GDE', 'GDEN', 'GDEV', 'GDEVW', 'GDL', 'GDL-C', 'GDMA', 'GDMN', 'GDNR', 'GDNRU', 'GDNRW', 'GDO', 'GDOC', 'GDOT', 'GDRX', 'GDS', 'GDSTU', 'GDV', 'GDV-H', 'GDV-K', 'GDVD', 'GDX', 'GDXD', 'GDXJ', 'GDXU', 'GDYN', 'GE', 'GECC', 'GECCM', 'GECCN', 'GECCO', 'GEEX', 'GEEXU', 'GEEXW', 'GEF', 'GEF.B', 'GEG', 'GEL', 'GEM', 'GEMD', 'GENC', 'GENE', 'GENI', 'GENI+', 'GENQU', 'GENY', 'GEO', 'GEOS', 'GER', 'GERM', 'GERN', 'GES', 'GET', 'GEVO', 'GF', 'GFAI', 'GFAIW', 'GFF', 'GFGD', 'GFGDR', 'GFGDU', 'GFGDW', 'GFGF', 'GFI', 'GFL', 'GFLU', 'GFOF', 'GFOR', 'GFOR+', 'GFOR=', 'GFS', 'GFX', 'GFX+', 'GFX=', 'GGAA', 'GGAAU', 'GGAAW', 'GGAL', 'GGB', 'GGE', 'GGG', 'GGGV', 'GGGVR', 'GGGVU', 'GGMC', 'GGMCU', 'GGMCW', 'GGN', 'GGN-B', 'GGPI', 'GGPIU', 'GGPIW', 'GGRW', 'GGT', 'GGT-E', 'GGT-G', 'GGZ', 'GH', 'GHAC', 'GHACU', 'GHACW', 'GHC', 'GHG', 'GHIX', 'GHIXU', 'GHIXW', 'GHL', 'GHLD', 'GHM', 'GHRS', 'GHSI', 'GHTA', 'GHY', 'GHYB', 'GHYG', 'GIA', 'GIA+', 'GIA=', 'GIAC', 'GIACU', 'GIACW', 'GIB', 'GIC', 'GIFI', 'GIGB', 'GIGE', 'GIGM', 'GII', 'GIII', 'GIIX', 'GIIXU', 'GIIXW', 'GIL', 'GILD', 'GILT', 'GIM', 'GINN', 'GIPR', 'GIPRW', 'GIS', 'GIW', 'GIWWU', 'GIWWW', 'GJH', 'GJO', 'GJP', 'GJR', 'GJS', 'GJT', 'GK', 'GKOS', 'GL', 'GL-D', 'GLAD', 'GLAQ', 'GLAQU', 'GLAQW', 'GLBE', 'GLBL', 'GLBLU', 'GLBLW', 'GLBS', 'GLBZ', 'GLCN', 'GLD', 'GLDB', 'GLDD', 'GLDG', 'GLDI', 'GLDM', 'GLDX', 'GLEE', 'GLEEU', 'GLEEW', 'GLG', 'GLHA', 'GLHAU', 'GLHAW', 'GLIF', 'GLIN', 'GLL', 'GLLI', 'GLLIR', 'GLLIU', 'GLLIW', 'GLMD', 'GLNG', 'GLO', 'GLOB', 'GLOG-A', 'GLOP', 'GLOP-A', 'GLOP-B', 'GLOP-C', 'GLOV', 'GLP', 'GLP-A', 'GLP-B', 'GLPG', 'GLPI', 'GLQ', 'GLRE', 'GLRY', 'GLS', 'GLS+', 'GLSI', 'GLSPT', 'GLSPU', 'GLSPW', 'GLT', 'GLTA', 'GLTA+', 'GLTA=', 'GLTO', 'GLTR', 'GLU', 'GLU-A', 'GLU-B', 'GLUE', 'GLV', 'GLW', 'GLYC', 'GM', 'GMAB', 'GMBL', 'GMBLP', 'GMBLW', 'GMBLZ', 'GMDA', 'GME', 'GMED', 'GMET', 'GMF', 'GMFI', 'GMFIU', 'GMFIW', 'GMGI', 'GMOM', 'GMRE', 'GMRE-A', 'GMS', 'GMTX', 'GMVD', 'GMVDW', 'GNAC', 'GNACU', 'GNACW', 'GNCA', 'GNE', 'GNE-A', 'GNFT', 'GNK', 'GNL', 'GNL-A', 'GNL-B', 'GNLN', 'GNMA', 'GNOG', 'GNOM', 'GNPX', 'GNR', 'GNRC', 'GNSS', 'GNT', 'GNT-A', 'GNTA', 'GNTX', 'GNTY', 'GNUS', 'GNW', 'GO', 'GOAC', 'GOAC+', 'GOAC=', 'GOAU', 'GOBI', 'GOCO', 'GOED', 'GOED+', 'GOEV', 'GOEVW', 'GOEX', 'GOF', 'GOGL', 'GOGN', 'GOGN+', 'GOGN=', 'GOGO', 'GOL', 'GOLD', 'GOLF', 'GOOD', 'GOODN', 'GOODO', 'GOOG', 'GOOGL', 'GOOS', 'GORO', 'GOSS', 'GOTU', 'GOVT', 'GOVX', 'GOVXW', 'GOVZ', 'GP', 'GPAC', 'GPACU', 'GPACW', 'GPAL', 'GPC', 'GPCO', 'GPCOR', 'GPCOU', 'GPCOW', 'GPI', 'GPJA', 'GPK', 'GPL', 'GPMT', 'GPMT-A', 'GPN', 'GPOR', 'GPP', 'GPRE', 'GPRK', 'GPRO', 'GPS', 'GQRE', 'GRAB', 'GRABW', 'GRAY', 'GRBK', 'GRBK-A', 'GRC', 'GRCL', 'GRCY', 'GRCYU', 'GRCYW', 'GREE', 'GREEL', 'GREI', 'GREK', 'GRES', 'GRF', 'GRFS', 'GRID', 'GRIL', 'GRIN', 'GRMN', 'GRN', 'GRNA', 'GRNAW', 'GRNB', 'GRNQ', 'GROM', 'GROMW', 'GROW', 'GROY', 'GROY+', 'GRP=', 'GRPH', 'GRPN', 'GRTS', 'GRTX', 'GRU', 'GRVI', 'GRVY', 'GRWG', 'GRX', 'GRZZ', 'GS', 'GS-A', 'GS-C', 'GS-D', 'GS-J', 'GS-K', 'GSAQ', 'GSAQU', 'GSAQW', 'GSAT', 'GSBC', 'GSBD', 'GSEE', 'GSEU', 'GSEV', 'GSEVU', 'GSEVW', 'GSEW', 'GSFP', 'GSG', 'GSHD', 'GSID', 'GSIE', 'GSIG', 'GSIT', 'GSJY', 'GSK', 'GSL', 'GSL-B', 'GSLC', 'GSLD', 'GSM', 'GSMG', 'GSMGW', 'GSP', 'GSPY', 'GSQB', 'GSQB+', 'GSQB=', 'GSQD', 'GSQD+', 'GSQD=', 'GSRMU', 'GSSC', 'GSST', 'GSUS', 'GSV', 'GSY', 'GT', 'GTAC', 'GTACU', 'GTACW', 'GTBP', 'GTE', 'GTEC', 'GTEK', 'GTES', 'GTH', 'GTHX', 'GTIM', 'GTIP', 'GTLB', 'GTLS', 'GTN', 'GTN.A', 'GTO', 'GTPA', 'GTPAU', 'GTPAW', 'GTPB', 'GTPBU', 'GTPBW', 'GTR', 'GTX', 'GTXAP', 'GTY', 'GTYH', 'GUG', 'GUNR', 'GURE', 'GURU', 'GUSH', 'GUT', 'GUT-C', 'GUT^', 'GVA', 'GVAL', 'GVCI', 'GVCIU', 'GVCIW', 'GVI', 'GVIP', 'GVP', 'GWGH', 'GWH', 'GWH+', 'GWII', 'GWIIW', 'GWRE', 'GWRS', 'GWW', 'GWX', 'GXC', 'GXG', 'GXII', 'GXIIU', 'GXIIW', 'GXO', 'GXTG', 'GYLD', 'GYRO', 'H', 'HA', 'HAAC', 'HAACU', 'HAACW', 'HACK', 'HAE', 'HAFC', 'HAIA', 'HAIAU', 'HAIAW', 'HAIL', 'HAIN', 'HAL', 'HALL', 'HALO', 'HAP', 'HAPP', 'HAPY', 'HARP', 'HART', 'HAS', 'HASI', 'HAUS', 'HAUZ', 'HAWX', 'HAYN', 'HAYW', 'HBAN', 'HBANM', 'HBANP', 'HBB', 'HBCP', 'HBI', 'HBIO', 'HBM', 'HBNC', 'HBP', 'HBT', 'HCA', 'HCAR', 'HCARU', 'HCARW', 'HCAT', 'HCC', 'HCCI', 'HCDI', 'HCDIP', 'HCDIW', 'HCDIZ', 'HCI', 'HCIC', 'HCICU', 'HCICW', 'HCII', 'HCIIU', 'HCIIW', 'HCKT', 'HCM', 'HCMA', 'HCMAU', 'HCMAW', 'HCNE', 'HCNEU', 'HCNEW', 'HCOM', 'HCP', 'HCRB', 'HCSG', 'HCTI', 'HCVI', 'HCVIU', 'HCVIW', 'HCWB', 'HCXY', 'HD', 'HDAW', 'HDB', 'HDEF', 'HDG', 'HDGE', 'HDIV', 'HDLB', 'HDMV', 'HDRO', 'HDSN', 'HDV', 'HE', 'HEAR', 'HEDJ', 'HEEM', 'HEES', 'HEET', 'HEFA', 'HEGD', 'HEI', 'HEI.A', 'HELE', 'HELX', 'HEP', 'HEPA', 'HEPS', 'HEQ', 'HEQT', 'HERA', 'HERAU', 'HERAW', 'HERD', 'HERO', 'HES', 'HESM', 'HEWC', 'HEWG', 'HEWJ', 'HEWU', 'HEXO', 'HEZU', 'HFBL', 'HFFG', 'HFGO', 'HFRO', 'HFRO-A', 'HFWA', 'HFXI', 'HGBL', 'HGEN', 'HGER', 'HGH', 'HGLB', 'HGTY', 'HGTY+', 'HGV', 'HHC', 'HHGC', 'HHGCR', 'HHGCU', 'HHGCW', 'HHH', 'HHLA', 'HHLA+', 'HHLA=', 'HHR', 'HHS', 'HI', 'HIBB', 'HIBL', 'HIBS', 'HIE', 'HIFS', 'HIG', 'HIG-G', 'HIGA', 'HIGA+', 'HIGA=', 'HIHO', 'HII', 'HIII', 'HIIIU', 'HIIIW', 'HIL', 'HILS', 'HIMS', 'HIMX', 'HIO', 'HIPO', 'HIPO+', 'HIPS', 'HISF', 'HITI', 'HIVE', 'HIW', 'HIX', 'HJEN', 'HJPX', 'HKND', 'HL', 'HL-B', 'HLAH', 'HLAHU', 'HLAHW', 'HLAL', 'HLBZ', 'HLBZW', 'HLF', 'HLG', 'HLGE', 'HLGN', 'HLGN+', 'HLI', 'HLIO', 'HLIT', 'HLLY', 'HLLY+', 'HLMN', 'HLNE', 'HLT', 'HLTH', 'HLX', 'HLXA', 'HMA', 'HMA+', 'HMA=', 'HMC', 'HMCO', 'HMCOU', 'HMCOW', 'HMHC', 'HMLP', 'HMLP-A', 'HMN', 'HMNF', 'HMOP', 'HMPT', 'HMST', 'HMTV', 'HMY', 'HNDL', 'HNGR', 'HNI', 'HNNA', 'HNNAZ', 'HNP', 'HNRA=', 'HNRG', 'HNST', 'HNW', 'HOFT', 'HOFV', 'HOFVW', 'HOG', 'HOLD', 'HOLI', 'HOLX', 'HOM', 'HOMB', 'HOMZ', 'HON', 'HONE', 'HOOD', 'HOOK', 'HOPE', 'HORI', 'HORIU', 'HORIW', 'HOTH', 'HOTL', 'HOUR', 'HOV', 'HOVNP', 'HOWL', 'HP', 'HPE', 'HPF', 'HPI', 'HPK', 'HPKEW', 'HPLT', 'HPLTU', 'HPLTW', 'HPP', 'HPP-C', 'HPQ', 'HPS', 'HPX', 'HPX+', 'HPX=', 'HQH', 'HQI', 'HQL', 'HQY', 'HR', 'HRB', 'HRI', 'HRL', 'HRMY', 'HROW', 'HROWL', 'HRT', 'HRTG', 'HRTX', 'HRZN', 'HSAQ', 'HSBC', 'HSC', 'HSCZ', 'HSDT', 'HSIC', 'HSII', 'HSKA', 'HSMV', 'HSON', 'HSRT', 'HST', 'HSTM', 'HSTO', 'HSUN', 'HSY', 'HT', 'HT-C', 'HT-D', 'HT-E', 'HTA', 'HTAB', 'HTAQ', 'HTAQ+', 'HTAQ=', 'HTBI', 'HTBK', 'HTBX', 'HTCR', 'HTD', 'HTEC', 'HTFB', 'HTGC', 'HTGM', 'HTH', 'HTHT', 'HTIA', 'HTIBP', 'HTLD', 'HTLF', 'HTLFP', 'HTOO', 'HTOOW', 'HTPA', 'HTPA+', 'HTPA=', 'HTRB', 'HTUS', 'HTY', 'HTZ', 'HTZWW', 'HUBB', 'HUBG', 'HUBS', 'HUDI', 'HUGE', 'HUGS', 'HUGS+', 'HUGS=', 'HUIZ', 'HUM', 'HUMA', 'HUMAW', 'HUN', 'HURC', 'HURN', 'HUSA', 'HUSN', 'HUSV', 'HUT', 'HUYA', 'HVAL', 'HVBC', 'HVT', 'HVT.A', 'HWBK', 'HWC', 'HWCPZ', 'HWEL', 'HWELU', 'HWELW', 'HWKN', 'HWKZ', 'HWKZ+', 'HWKZ=', 'HWM', 'HWM-', 'HXL', 'HY', 'HYAC', 'HYACU', 'HYACW', 'HYB', 'HYBB', 'HYBL', 'HYD', 'HYDB', 'HYDR', 'HYDW', 'HYEM', 'HYFM', 'HYG', 'HYGH', 'HYGV', 'HYHG', 'HYI', 'HYIN', 'HYLB', 'HYLD', 'HYLN', 'HYLS', 'HYLV', 'HYMB', 'HYMC', 'HYMCL', 'HYMCW', 'HYMCZ', 'HYMU', 'HYPR', 'HYRE', 'HYRM', 'HYS', 'HYT', 'HYTR', 'HYUP', 'HYW', 'HYXF', 'HYXU', 'HYZD', 'HYZN', 'HYZNW', 'HZN', 'HZNP', 'HZO', 'HZON', 'HZON+', 'HZON=', 'IAA', 'IAC', 'IACC', 'IAE', 'IAF', 'IAG', 'IAGG', 'IAI', 'IAK', 'IAPR', 'IART', 'IAS', 'IAT', 'IAU', 'IAUF', 'IAUM', 'IBA', 'IBB', 'IBBQ', 'IBCE', 'IBCP', 'IBD', 'IBDD', 'IBDN', 'IBDO', 'IBDP', 'IBDQ', 'IBDR', 'IBDS', 'IBDT', 'IBDU', 'IBDV', 'IBDW', 'IBER', 'IBER+', 'IBER=', 'IBET', 'IBEX', 'IBHB', 'IBHC', 'IBHD', 'IBHE', 'IBHF', 'IBHG', 'IBHH', 'IBHI', 'IBIO', 'IBKR', 'IBM', 'IBMK', 'IBML', 'IBMM', 'IBMN', 'IBMO', 'IBMP', 'IBMQ', 'IBN', 'IBND', 'IBOC', 'IBP', 'IBRX', 'IBTB', 'IBTD', 'IBTE', 'IBTF', 'IBTG', 'IBTH', 'IBTI', 'IBTJ', 'IBTK', 'IBTL', 'IBTX', 'IBUY', 'ICAD', 'ICAP', 'ICCC', 'ICCH', 'ICCM', 'ICD', 'ICE', 'ICF', 'ICFI', 'ICHR', 'ICL', 'ICLK', 'ICLN', 'ICLR', 'ICMB', 'ICNC', 'ICNC+', 'ICNC=', 'ICOL', 'ICOW', 'ICPT', 'ICR-A', 'ICSH', 'ICUI', 'ICVT', 'ICVX', 'ID', 'IDA', 'IDAI', 'IDAT', 'IDBA', 'IDCC', 'IDE', 'IDEV', 'IDEX', 'IDHD', 'IDHQ', 'IDIV', 'IDLB', 'IDLV', 'IDME', 'IDMO', 'IDN', 'IDNA', 'IDOG', 'IDR', 'IDRA', 'IDRV', 'IDT', 'IDU', 'IDV', 'IDW', 'IDX', 'IDXX', 'IDYA', 'IEA', 'IEAWW', 'IECS', 'IEDI', 'IEF', 'IEFA', 'IEFN', 'IEHS', 'IEI', 'IEIH', 'IEME', 'IEMG', 'IEO', 'IEP', 'IESC', 'IETC', 'IEUR', 'IEUS', 'IEV', 'IEX', 'IEZ', 'IFBD', 'IFED', 'IFF', 'IFGL', 'IFIN', 'IFIN+', 'IFIN=', 'IFN', 'IFRA', 'IFRX', 'IFS', 'IFV', 'IG', 'IGA', 'IGAC', 'IGACU', 'IGACW', 'IGBH', 'IGC', 'IGD', 'IGE', 'IGEB', 'IGF', 'IGHG', 'IGI', 'IGIB', 'IGIC', 'IGICW', 'IGLB', 'IGLD', 'IGM', 'IGMS', 'IGN', 'IGNY', 'IGNYU', 'IGNYW', 'IGOV', 'IGR', 'IGRO', 'IGSB', 'IGT', 'IGTA', 'IGTAR', 'IGTAU', 'IGTAW', 'IGV', 'IH', 'IHAK', 'IHD', 'IHDG', 'IHE', 'IHF', 'IHG', 'IHI', 'IHIT', 'IHRT', 'IHS', 'IHT', 'IHTA', 'IHY', 'IHYF', 'IIF', 'IIGD', 'IIGV', 'III', 'IIII', 'IIIIU', 'IIIIW', 'IIIN', 'IIIV', 'IIM', 'IIN', 'IINN', 'IINNW', 'IIPR', 'IIPR-A', 'IIVI', 'IIVIP', 'IJAN', 'IJH', 'IJJ', 'IJK', 'IJR', 'IJS', 'IJT', 'IJUL', 'IKNA', 'IKT', 'ILCB', 'ILCG', 'ILCV', 'ILDR', 'ILF', 'ILMN', 'ILPT', 'ILTB', 'IMAB', 'IMAC', 'IMACW', 'IMAQ', 'IMAQR', 'IMAQU', 'IMAQW', 'IMAX', 'IMBI', 'IMBIL', 'IMCB', 'IMCC', 'IMCG', 'IMCR', 'IMCV', 'IMFL', 'IMGN', 'IMGO', 'IMH', 'IMKTA', 'IMLP', 'IMMP', 'IMMR', 'IMMX', 'IMNM', 'IMO', 'IMOM', 'IMOS', 'IMPL', 'IMPP', 'IMPPP', 'IMPX', 'IMPX+', 'IMPX=', 'IMRA', 'IMRN', 'IMRNW', 'IMRX', 'IMTB', 'IMTE', 'IMTM', 'IMTX', 'IMTXW', 'IMUX', 'IMV', 'IMVT', 'IMXI', 'INAB', 'INAQ', 'INAQ+', 'INAQ=', 'INBK', 'INBKZ', 'INBX', 'INCO', 'INCR', 'INCY', 'INDA', 'INDB', 'INDF', 'INDI', 'INDIW', 'INDL', 'INDO', 'INDP', 'INDS', 'INDT', 'INDY', 'INFA', 'INFI', 'INFL', 'INFN', 'INFU', 'INFY', 'ING', 'INGN', 'INGR', 'INKA', 'INKAU', 'INKAW', 'INKM', 'INKT', 'INM', 'INMB', 'INMD', 'INMU', 'INN', 'INN-E', 'INN-F', 'INNO', 'INNV', 'INO', 'INOD', 'INPX', 'INSE', 'INSG', 'INSI', 'INSM', 'INSP', 'INST', 'INSW', 'INSW-A', 'INT', 'INTA', 'INTC', 'INTE', 'INTEU', 'INTEW', 'INTF', 'INTG', 'INTS', 'INTT', 'INTU', 'INTZ', 'INUV', 'INVA', 'INVE', 'INVH', 'INVO', 'INVZ', 'INVZW', 'INZY', 'IO', 'IOAC', 'IOACU', 'IOACW', 'IOBT', 'IOCT', 'IONM', 'IONQ', 'IONQ+', 'IONS', 'IOO', 'IOR', 'IOSP', 'IOT', 'IOVA', 'IP', 'IPA', 'IPAC', 'IPAR', 'IPAX', 'IPAXU', 'IPAXW', 'IPAY', 'IPB', 'IPDN', 'IPDP', 'IPG', 'IPGP', 'IPHA', 'IPI', 'IPKW', 'IPO', 'IPOD', 'IPOD+', 'IPOD=', 'IPOF', 'IPOF+', 'IPOF=', 'IPOS', 'IPPP', 'IPSC', 'IPVA', 'IPVA+', 'IPVA=', 'IPVF', 'IPVF+', 'IPVF=', 'IPVI', 'IPVIU', 'IPVIW', 'IPW', 'IPWR', 'IQ', 'IQDE', 'IQDF', 'IQDG', 'IQDY', 'IQI', 'IQIN', 'IQLT', 'IQM', 'IQMD', 'IQMDU', 'IQMDW', 'IQSI', 'IQSU', 'IQV', 'IR', 'IRBA', 'IRBO', 'IRBT', 'IRCP', 'IRDM', 'IREN', 'IRIX', 'IRL', 'IRM', 'IRMD', 'IRNT', 'IRNT+', 'IROQ', 'IRRX', 'IRRX+', 'IRRX=', 'IRS', 'IRS+', 'IRT', 'IRTC', 'IRWD', 'IS', 'ISAA', 'ISBC', 'ISCB', 'ISCF', 'ISCG', 'ISCV', 'ISD', 'ISDR', 'ISDX', 'ISEE', 'ISEM', 'ISHG', 'ISHP', 'ISIG', 'ISLE', 'ISLEW', 'ISMD', 'ISO', 'ISPC', 'ISPO', 'ISPOW', 'ISR', 'ISRA', 'ISRG', 'ISSC', 'ISTB', 'ISTR', 'ISUN', 'ISVL', 'ISWN', 'ISZE', 'IT', 'ITA', 'ITAN', 'ITAQ', 'ITAQU', 'ITAQW', 'ITB', 'ITCB', 'ITCI', 'ITEQ', 'ITGR', 'ITHX', 'ITHXU', 'ITHXW', 'ITI', 'ITIC', 'ITM', 'ITOS', 'ITOT', 'ITP', 'ITQ', 'ITQRU', 'ITQRW', 'ITRG', 'ITRI', 'ITRM', 'ITRN', 'ITT', 'ITUB', 'ITW', 'IUS', 'IUSA', 'IUSB', 'IUSG', 'IUSS', 'IUSV', 'IVA', 'IVAC', 'IVAL', 'IVC', 'IVCAU', 'IVCB', 'IVCBU', 'IVCBW', 'IVCP', 'IVCPU', 'IVCPW', 'IVDA', 'IVDAW', 'IVDG', 'IVE', 'IVES', 'IVH', 'IVLC', 'IVLU', 'IVOG', 'IVOL', 'IVOO', 'IVOV', 'IVR', 'IVR-B', 'IVR-C', 'IVRA', 'IVSG', 'IVT', 'IVV', 'IVW', 'IVZ', 'IWB', 'IWC', 'IWD', 'IWDL', 'IWF', 'IWFH', 'IWFL', 'IWIN', 'IWL', 'IWM', 'IWML', 'IWN', 'IWO', 'IWP', 'IWR', 'IWS', 'IWV', 'IWX', 'IWY', 'IX', 'IXAQ', 'IXAQU', 'IXAQW', 'IXC', 'IXG', 'IXHL', 'IXJ', 'IXN', 'IXP', 'IXSE', 'IXUS', 'IYC', 'IYE', 'IYF', 'IYG', 'IYH', 'IYJ', 'IYK', 'IYLD', 'IYM', 'IYR', 'IYT', 'IYW', 'IYY', 'IYZ', 'IZEA', 'IZRL', 'J', 'JAAA', 'JACK', 'JAGG', 'JAGX', 'JAKK', 'JAMF', 'JAN', 'JANX', 'JANZ', 'JAQC', 'JAQCU', 'JAQCW', 'JATT', 'JATT+', 'JATT=', 'JAVA', 'JAZZ', 'JBBB', 'JBGS', 'JBHT', 'JBI', 'JBK', 'JBL', 'JBLU', 'JBSS', 'JBT', 'JCE', 'JCI', 'JCIC', 'JCICU', 'JCICW', 'JCO', 'JCPB', 'JCTCF', 'JCTR', 'JD', 'JDIV', 'JDST', 'JEF', 'JELD', 'JEMA', 'JEMD', 'JEPI', 'JEQ', 'JETS', 'JFIN', 'JFR', 'JFU', 'JFWD', 'JG', 'JGGCU', 'JGH', 'JGLD', 'JHAA', 'JHCB', 'JHCS', 'JHEM', 'JHG', 'JHI', 'JHMA', 'JHMB', 'JHMC', 'JHMD', 'JHME', 'JHMF', 'JHMH', 'JHMI', 'JHML', 'JHMM', 'JHMS', 'JHMT', 'JHMU', 'JHPI', 'JHS', 'JHSC', 'JHX', 'JIB', 'JIDA', 'JIG', 'JIGB', 'JILL', 'JJA', 'JJC', 'JJE', 'JJG', 'JJM', 'JJN', 'JJP', 'JJS', 'JJSF', 'JJT', 'JJU', 'JKHY', 'JKS', 'JLL', 'JLS', 'JMAC', 'JMACU', 'JMACW', 'JMBS', 'JMIA', 'JMIN', 'JMM', 'JMOM', 'JMST', 'JMUB', 'JNCE', 'JNJ', 'JNK', 'JNPR', 'JNUG', 'JO', 'JOAN', 'JOB', 'JOBS', 'JOBY', 'JOBY+', 'JOE', 'JOET', 'JOF', 'JOFF', 'JOFFU', 'JOFFW', 'JOJO', 'JOUT', 'JOYY', 'JP', 'JPC', 'JPEM', 'JPHY', 'JPI', 'JPIB', 'JPIE', 'JPIN', 'JPM', 'JPM-C', 'JPM-D', 'JPM-J', 'JPM-K', 'JPM-L', 'JPM-M', 'JPMB', 'JPME', 'JPS', 'JPSE', 'JPST', 'JPT', 'JPUS', 'JPXN', 'JQC', 'JQUA', 'JRE', 'JRI', 'JRNY', 'JRO', 'JRS', 'JRSH', 'JRVR', 'JSCP', 'JSD', 'JSM', 'JSMD', 'JSML', 'JSPR', 'JSPRW', 'JSTC', 'JT', 'JUGG', 'JUGGU', 'JUGGW', 'JULZ', 'JUN', 'JUN+', 'JUN=', 'JUNS', 'JUNSW', 'JUNZ', 'JUPW', 'JUPWW', 'JUSA', 'JUST', 'JVA', 'JVAL', 'JWAC', 'JWACR', 'JWEL', 'JWN', 'JWSM', 'JWSM+', 'JWSM=', 'JXI', 'JXN', 'JYAC', 'JYNT', 'JZRO', 'JZXN', 'K', 'KACL', 'KACLR', 'KACLU', 'KACLW', 'KAHC', 'KAHC+', 'KAHC=', 'KAI', 'KAII', 'KAIIU', 'KAIIW', 'KAIR', 'KAIRU', 'KAIRW', 'KALA', 'KALL', 'KALU', 'KALV', 'KAMN', 'KAPR', 'KAR', 'KARO', 'KARS', 'KAVL', 'KB', 'KBA', 'KBAL', 'KBE', 'KBH', 'KBND', 'KBNT', 'KBNTW', 'KBR', 'KBUY', 'KBWB', 'KBWD', 'KBWP', 'KBWR', 'KBWY', 'KC', 'KCAC=', 'KCCA', 'KCE', 'KCGI', 'KCGI+', 'KCGI=', 'KD', 'KDNY', 'KDP', 'KDRN', 'KE', 'KEJI', 'KELYA', 'KELYB', 'KEMQ', 'KEMX', 'KEN', 'KEP', 'KEQU', 'KERN', 'KERNW', 'KESG', 'KEUA', 'KEX', 'KEY', 'KEY-I', 'KEY-J', 'KEY-K', 'KEYS', 'KF', 'KFFB', 'KFRC', 'KFS', 'KFVG', 'KFY', 'KFYP', 'KGC', 'KGHG', 'KGRN', 'KGRO', 'KHC', 'KHYB', 'KIDS', 'KIE', 'KIII', 'KIIIU', 'KIIIW', 'KIM', 'KIM-L', 'KIM-M', 'KIND', 'KINS', 'KINZ', 'KINZU', 'KINZW', 'KIO', 'KIQ', 'KIRK', 'KJAN', 'KJUL', 'KKR', 'KKR-C', 'KKRS', 'KLAC', 'KLAQ', 'KLAQU', 'KLAQW', 'KLCD', 'KLDO', 'KLDW', 'KLIC', 'KLNE', 'KLR', 'KLR+', 'KLTR', 'KLXE', 'KMB', 'KMDA', 'KMED', 'KMF', 'KMI', 'KMLM', 'KMPB', 'KMPH', 'KMPR', 'KMT', 'KMX', 'KN', 'KNBE', 'KNDI', 'KNG', 'KNGS', 'KNOP', 'KNSA', 'KNSL', 'KNSW', 'KNSW+', 'KNSW=', 'KNTE', 'KNTK', 'KNX', 'KO', 'KOCG', 'KOCT', 'KOD', 'KODK', 'KOF', 'KOIN', 'KOKU', 'KOLD', 'KOMP', 'KONG', 'KOP', 'KOPN', 'KORE', 'KORE+', 'KORP', 'KORU', 'KOS', 'KOSS', 'KPLT', 'KPLTW', 'KPRX', 'KPTI', 'KR', 'KRBN', 'KRBP', 'KRC', 'KRE', 'KREF', 'KREF-A', 'KRG', 'KRKR', 'KRMA', 'KRMD', 'KRNL', 'KRNLU', 'KRNLW', 'KRNT', 'KRNY', 'KRO', 'KRON', 'KROP', 'KROS', 'KRP', 'KRT', 'KRTX', 'KRUS', 'KRYS', 'KSA', 'KSCD', 'KSCP', 'KSI', 'KSICU', 'KSICW', 'KSM', 'KSPN', 'KSS', 'KSTR', 'KT', 'KTB', 'KTCC', 'KTEC', 'KTF', 'KTH', 'KTN', 'KTOS', 'KTRA', 'KTTA', 'KTTAW', 'KUKE', 'KULR', 'KURA', 'KURE', 'KVHI', 'KVLE', 'KVSA', 'KVSC', 'KW', 'KWAC', 'KWAC+', 'KWAC=', 'KWEB', 'KWR', 'KWT', 'KXI', 'KXIN', 'KYCH', 'KYCHR', 'KYCHU', 'KYCHW', 'KYMR', 'KYN', 'KZIA', 'KZR', 'L', 'LAAA', 'LAAAU', 'LAAAW', 'LABD', 'LABP', 'LABU', 'LAC', 'LAD', 'LADR', 'LAIX', 'LAKE', 'LAMR', 'LANC', 'LAND', 'LANDM', 'LANDO', 'LARK', 'LASR', 'LATG', 'LATGU', 'LATGW', 'LAUR', 'LAW', 'LAWS', 'LAX', 'LAXXR', 'LAXXU', 'LAXXW', 'LAZ', 'LAZR', 'LAZY', 'LBAI', 'LBAY', 'LBBBU', 'LBC', 'LBPH', 'LBPS', 'LBPSW', 'LBRDA', 'LBRDK', 'LBRDP', 'LBRT', 'LBTYA', 'LBTYB', 'LBTYK', 'LC', 'LCA', 'LCAA', 'LCAAU', 'LCAAW', 'LCAHU', 'LCAHW', 'LCAP', 'LCAPU', 'LCAPW', 'LCFY', 'LCFYW', 'LCG', 'LCI', 'LCID', 'LCII', 'LCNB', 'LCR', 'LCTD', 'LCTU', 'LCTX', 'LCUT', 'LCW', 'LCW+', 'LCW=', 'LD', 'LDEM', 'LDHA', 'LDHAU', 'LDHAW', 'LDI', 'LDOS', 'LDP', 'LDSF', 'LDUR', 'LE', 'LEA', 'LEAD', 'LEAP', 'LEAP+', 'LEAP=', 'LECO', 'LEDS', 'LEE', 'LEG', 'LEGA', 'LEGAU', 'LEGAW', 'LEGH', 'LEGN', 'LEGR', 'LEJU', 'LEMB', 'LEN', 'LEN.B', 'LEO', 'LESL', 'LETB', 'LEU', 'LEV', 'LEV+', 'LEVI', 'LEXI', 'LEXX', 'LEXXW', 'LFAC', 'LFACU', 'LFACW', 'LFC', 'LFEQ', 'LFG', 'LFLY', 'LFLYW', 'LFMD', 'LFMDP', 'LFST', 'LFT', 'LFT-A', 'LFTR', 'LFTRU', 'LFTRW', 'LFUS', 'LFVN', 'LGAC', 'LGACU', 'LGACW', 'LGBT', 'LGF.A', 'LGF.B', 'LGH', 'LGHL', 'LGHLW', 'LGI', 'LGIH', 'LGL', 'LGL+', 'LGLV', 'LGMK', 'LGND', 'LGO', 'LGOV', 'LGST', 'LGSTU', 'LGSTW', 'LGTO', 'LGTOU', 'LGTOW', 'LGV', 'LGV+', 'LGV=', 'LGVC', 'LGVCU', 'LGVCW', 'LGVN', 'LH', 'LHAA', 'LHC', 'LHC+', 'LHC=', 'LHCG', 'LHDX', 'LHX', 'LI', 'LIAN', 'LIBY', 'LIBYU', 'LIBYW', 'LICY', 'LIDR', 'LIDRW', 'LIFE', 'LII', 'LILA', 'LILAK', 'LILM', 'LILMW', 'LIN', 'LINC', 'LIND', 'LINK', 'LION', 'LIONU', 'LIONW', 'LIQT', 'LIT', 'LITB', 'LITE', 'LITM', 'LITT', 'LITTU', 'LITTW', 'LIV', 'LIVB', 'LIVBU', 'LIVBW', 'LIVE', 'LIVN', 'LIXT', 'LIXTW', 'LIZI', 'LJAQ', 'LJAQU', 'LJAQW', 'LJPC', 'LKCO', 'LKFN', 'LKOR', 'LKQ', 'LL', 'LLAP', 'LLAP+', 'LLL', 'LLNW', 'LLY', 'LMACA', 'LMACU', 'LMACW', 'LMAO', 'LMAOU', 'LMAOW', 'LMAT', 'LMB', 'LMBS', 'LMDX', 'LMDXW', 'LMFA', 'LMND', 'LMNL', 'LMNR', 'LMPX', 'LMST', 'LMT', 'LNC', 'LND', 'LNDC', 'LNFA', 'LNFA+', 'LNFA=', 'LNG', 'LNN', 'LNSR', 'LNT', 'LNTH', 'LOAN', 'LOB', 'LOCC', 'LOCC+', 'LOCC=', 'LOCL', 'LOCL+', 'LOCO', 'LODE', 'LOGC', 'LOGI', 'LOKM', 'LOKM+', 'LOKM=', 'LOMA', 'LOOP', 'LOPE', 'LOPP', 'LOPX', 'LOTZ', 'LOTZW', 'LOUP', 'LOV', 'LOVE', 'LOW', 'LOWC', 'LPCN', 'LPG', 'LPI', 'LPL', 'LPLA', 'LPRO', 'LPSN', 'LPTH', 'LPTX', 'LPX', 'LQD', 'LQDA', 'LQDB', 'LQDH', 'LQDI', 'LQDT', 'LRCX', 'LRFC', 'LRGE', 'LRGF', 'LRMR', 'LRN', 'LRND', 'LRNZ', 'LSAF', 'LSAT', 'LSBK', 'LSCC', 'LSEA', 'LSEAW', 'LSF', 'LSI', 'LSPD', 'LSPR', 'LSPRU', 'LSPRW', 'LSST', 'LSTR', 'LSXMA', 'LSXMB', 'LSXMK', 'LTBR', 'LTC', 'LTCH', 'LTCHW', 'LTH', 'LTHM', 'LTL', 'LTPZ', 'LTRN', 'LTRPA', 'LTRPB', 'LTRX', 'LTRY', 'LTRYW', 'LU', 'LUB', 'LUCD', 'LULU', 'LUMN', 'LUMO', 'LUNA', 'LUNG', 'LUV', 'LUXA', 'LUXAU', 'LUXAW', 'LUXE', 'LVAC', 'LVACU', 'LVACW', 'LVHD', 'LVHI', 'LVLU', 'LVO', 'LVOL', 'LVOX', 'LVOXU', 'LVOXW', 'LVRA', 'LVRAU', 'LVRAW', 'LVS', 'LVTX', 'LW', 'LWAY', 'LWLG', 'LX', 'LXEH', 'LXFR', 'LXP', 'LXP-C', 'LXRX', 'LXU', 'LYB', 'LYEL', 'LYFE', 'LYFT', 'LYG', 'LYL', 'LYLT', 'LYRA', 'LYT', 'LYTS', 'LYTWW', 'LYV', 'LZ', 'LZB', 'M', 'MA', 'MAA', 'MAA-I', 'MAAQ', 'MAAQR', 'MAAQU', 'MAAQW', 'MAAX', 'MAC', 'MACA', 'MACAU', 'MACAW', 'MACC', 'MACC+', 'MACC=', 'MACK', 'MACU', 'MACUU', 'MACUW', 'MAG', 'MAGA', 'MAIN', 'MAKX', 'MAMB', 'MAN', 'MANH', 'MANT', 'MANU', 'MAPS', 'MAPSW', 'MAQC', 'MAQCU', 'MAQCW', 'MAR', 'MARA', 'MARB', 'MARK', 'MARPS', 'MARZ', 'MAS', 'MASI', 'MASS', 'MAT', 'MATW', 'MATX', 'MAV', 'MAX', 'MAXN', 'MAXR', 'MAYS', 'MAYZ', 'MBAC', 'MBAC+', 'MBAC=', 'MBB', 'MBBB', 'MBCC', 'MBCN', 'MBI', 'MBII', 'MBIN', 'MBINN', 'MBINO', 'MBINP', 'MBIO', 'MBND', 'MBNKP', 'MBOT', 'MBOX', 'MBRX', 'MBSC', 'MBSC+', 'MBSC=', 'MBSD', 'MBT', 'MBTC', 'MBTCR', 'MBTCU', 'MBUU', 'MBWM', 'MC', 'MCA', 'MCAA', 'MCAAU', 'MCAAW', 'MCAE', 'MCAER', 'MCAEU', 'MCAF', 'MCAFR', 'MCAFU', 'MCAG', 'MCAGR', 'MCAGU', 'MCB', 'MCBC', 'MCBS', 'MCD', 'MCEF', 'MCFT', 'MCG', 'MCHI', 'MCHP', 'MCHX', 'MCI', 'MCK', 'MCLD', 'MCLDW', 'MCN', 'MCO', 'MCR', 'MCRB', 'MCRI', 'MCRO', 'MCS', 'MCW', 'MCY', 'MD', 'MDB', 'MDC', 'MDCP', 'MDEV', 'MDGL', 'MDGS', 'MDGSW', 'MDH', 'MDH+', 'MDH=', 'MDIA', 'MDIV', 'MDJH', 'MDLZ', 'MDNA', 'MDRR', 'MDRRP', 'MDRX', 'MDT', 'MDU', 'MDV', 'MDV-A', 'MDVL', 'MDWD', 'MDWT', 'MDXG', 'MDXH', 'MDY', 'MDYG', 'MDYV', 'ME', 'MEAC', 'MEACU', 'MEACW', 'MEAR', 'MEC', 'MED', 'MEDP', 'MEDS', 'MEG', 'MEGI', 'MEI', 'MEIP', 'MEKA', 'MELI', 'MEME', 'MENV', 'MEOA', 'MEOAU', 'MEOAW', 'MEOH', 'MER-K', 'MERC', 'MESA', 'MESO', 'MET', 'MET-A', 'MET-E', 'MET-F', 'METC', 'METCL', 'METV', 'METX', 'METXW', 'MEXX', 'MF', 'MFA', 'MFA-B', 'MFA-C', 'MFC', 'MFD', 'MFDX', 'MFEM', 'MFG', 'MFGP', 'MFH', 'MFIN', 'MFL', 'MFM', 'MFUL', 'MFUS', 'MFV', 'MG', 'MGA', 'MGC', 'MGEE', 'MGF', 'MGI', 'MGIC', 'MGK', 'MGLD', 'MGM', 'MGMT', 'MGNI', 'MGNX', 'MGP', 'MGPI', 'MGR', 'MGRB', 'MGRC', 'MGRD', 'MGTA', 'MGTX', 'MGU', 'MGV', 'MGY', 'MGYR', 'MH-A', 'MH-C', 'MH-D', 'MHD', 'MHF', 'MHH', 'MHI', 'MHK', 'MHLA', 'MHLD', 'MHN', 'MHNC', 'MHO', 'MHUA', 'MIC', 'MICT', 'MID', 'MIDD', 'MIDE', 'MIDF', 'MIDU', 'MIG', 'MIGI', 'MILE', 'MILEW', 'MILN', 'MIME', 'MIMO', 'MIMO+', 'MIMO+A', 'MIMO+B', 'MIMO+C', 'MIN', 'MINC', 'MIND', 'MINDP', 'MINM', 'MINN', 'MINO', 'MINT', 'MIO', 'MIR', 'MIR+', 'MIRM', 'MIRO', 'MIST', 'MIT', 'MIT+', 'MIT=', 'MITA', 'MITAU', 'MITAW', 'MITC', 'MITK', 'MITO', 'MITQ', 'MITT', 'MITT-A', 'MITT-B', 'MITT-C', 'MIXT', 'MIY', 'MJ', 'MJIN', 'MJUS', 'MJXL', 'MKC', 'MKC.V', 'MKD', 'MKFG', 'MKFG+', 'MKL', 'MKSI', 'MKTW', 'MKTWW', 'MKTX', 'ML', 'ML+', 'MLAB', 'MLAC', 'MLACU', 'MLACW', 'MLAI', 'MLAIU', 'MLAIW', 'MLCO', 'MLI', 'MLKN', 'MLM', 'MLN', 'MLNK', 'MLP', 'MLPA', 'MLPB', 'MLPO', 'MLPR', 'MLPX', 'MLR', 'MLSS', 'MLVF', 'MMAT', 'MMC', 'MMCA', 'MMD', 'MMI', 'MMIN', 'MMIT', 'MMLG', 'MMLP', 'MMM', 'MMMB', 'MMP', 'MMS', 'MMSC', 'MMSI', 'MMT', 'MMTM', 'MMU', 'MMX', 'MMYT', 'MN', 'MNA', 'MNDO', 'MNDT', 'MNDY', 'MNKD', 'MNM', 'MNMD', 'MNOV', 'MNP', 'MNPR', 'MNRL', 'MNRO', 'MNSB', 'MNSBP', 'MNSO', 'MNST', 'MNTK', 'MNTN', 'MNTN+', 'MNTN=', 'MNTS', 'MNTSW', 'MNTV', 'MNTX', 'MO', 'MOAT', 'MOBQ', 'MOBQW', 'MOD', 'MODD', 'MODN', 'MODV', 'MOFG', 'MOG.A', 'MOG.B', 'MOGO', 'MOGU', 'MOH', 'MOHO', 'MOHR', 'MOLN', 'MOMO', 'MON', 'MONCU', 'MONCW', 'MOO', 'MOON', 'MOR', 'MORF', 'MORN', 'MORT', 'MOS', 'MOTE', 'MOTG', 'MOTI', 'MOTO', 'MOTS', 'MOV', 'MOVE', 'MOXC', 'MP', 'MPA', 'MPAA', 'MPAC', 'MPACR', 'MPACU', 'MPACW', 'MPB', 'MPC', 'MPLN', 'MPLN+', 'MPLX', 'MPRA', 'MPRAU', 'MPRAW', 'MPRO', 'MPV', 'MPW', 'MPWR', 'MPX', 'MQ', 'MQT', 'MQY', 'MRAD', 'MRAI', 'MRAM', 'MRBK', 'MRC', 'MRCC', 'MRCY', 'MREO', 'MRGR', 'MRIN', 'MRK', 'MRKR', 'MRM', 'MRNA', 'MRND', 'MRNS', 'MRO', 'MRSK', 'MRSN', 'MRTN', 'MRTX', 'MRUS', 'MRVI', 'MRVL', 'MS', 'MS-A', 'MS-E', 'MS-F', 'MS-I', 'MS-K', 'MS-L', 'MS-O', 'MSA', 'MSAC', 'MSACW', 'MSB', 'MSBI', 'MSC', 'MSCI', 'MSD', 'MSDA', 'MSDAU', 'MSDAW', 'MSEX', 'MSFT', 'MSGE', 'MSGM', 'MSGR', 'MSGS', 'MSI', 'MSM', 'MSMR', 'MSN', 'MSOS', 'MSP', 'MSSAU', 'MSTB', 'MSTQ', 'MSTR', 'MSVB', 'MSVX', 'MT', 'MTA', 'MTAC', 'MTACU', 'MTACW', 'MTAL', 'MTAL+', 'MTAL=', 'MTB', 'MTBC', 'MTBCO', 'MTBCP', 'MTC', 'MTCH', 'MTCN', 'MTCR', 'MTD', 'MTDR', 'MTEK', 'MTEKW', 'MTEM', 'MTEX', 'MTG', 'MTGP', 'MTH', 'MTL', 'MTL-', 'MTLS', 'MTMT', 'MTN', 'MTNB', 'MTOR', 'MTP', 'MTR', 'MTRN', 'MTRX', 'MTRY', 'MTRYU', 'MTRYW', 'MTSI', 'MTTR', 'MTUL', 'MTUM', 'MTVC', 'MTVC+', 'MTVC=', 'MTVR', 'MTW', 'MTX', 'MTZ', 'MU', 'MUA', 'MUB', 'MUC', 'MUDS', 'MUDSU', 'MUDSW', 'MUE', 'MUFG', 'MUI', 'MUJ', 'MULN', 'MUNI', 'MUR', 'MURF', 'MURFU', 'MURFW', 'MUSA', 'MUSI', 'MUST', 'MUX', 'MVBF', 'MVF', 'MVIS', 'MVO', 'MVP', 'MVPS', 'MVRL', 'MVST', 'MVSTW', 'MVT', 'MVV', 'MWA', 'MX', 'MXC', 'MXCT', 'MXDU', 'MXE', 'MXF', 'MXI', 'MXL', 'MYC', 'MYD', 'MYE', 'MYFW', 'MYGN', 'MYI', 'MYJ', 'MYMD', 'MYN', 'MYNA', 'MYNZ', 'MYO', 'MYOV', 'MYPS', 'MYPSW', 'MYRG', 'MYSZ', 'MYTE', 'MYY', 'MZZ', 'NAAC', 'NAACU', 'NAACW', 'NABL', 'NAC', 'NACP', 'NAD', 'NAII', 'NAIL', 'NAK', 'NAN', 'NANR', 'NAOV', 'NAPA', 'NAPR', 'NARI', 'NAT', 'NATH', 'NATI', 'NATR', 'NAUT', 'NAVB', 'NAVI', 'NAZ', 'NBB', 'NBEV', 'NBH', 'NBHC', 'NBIX', 'NBN', 'NBO', 'NBR', 'NBRV', 'NBSE', 'NBST', 'NBSTU', 'NBSTW', 'NBTB', 'NBTX', 'NBW', 'NBXG', 'NBY', 'NC', 'NCA', 'NCAC', 'NCACU', 'NCACW', 'NCBS', 'NCLH', 'NCMI', 'NCNA', 'NCNO', 'NCR', 'NCSM', 'NCTY', 'NCV', 'NCV-A', 'NCZ', 'NCZ-A', 'NDAC', 'NDACU', 'NDACW', 'NDAQ', 'NDJI', 'NDLS', 'NDMO', 'NDP', 'NDRA', 'NDRAW', 'NDSN', 'NDVG', 'NE', 'NEA', 'NEAR', 'NECB', 'NEE', 'NEE-N', 'NEE-O', 'NEE-P', 'NEE-Q', 'NEGG', 'NEM', 'NEN', 'NEO', 'NEOG', 'NEON', 'NEP', 'NEPH', 'NEPT', 'NERD', 'NERV', 'NESR', 'NESRW', 'NET', 'NETC', 'NETC+', 'NETC=', 'NETI', 'NETL', 'NETZ', 'NEU', 'NEV', 'NEW', 'NEWP', 'NEWR', 'NEWT', 'NEWTL', 'NEWTZ', 'NEX', 'NEXA', 'NEXI', 'NEXT', 'NFBK', 'NFE', 'NFG', 'NFGC', 'NFJ', 'NFLT', 'NFLX', 'NFNT', 'NFNT+', 'NFNT=', 'NFRA', 'NFTY', 'NFTZ', 'NFYS', 'NFYS+', 'NFYS=', 'NG', 'NGC', 'NGC+', 'NGC=', 'NGD', 'NGE', 'NGG', 'NGL', 'NGL-B', 'NGL-C', 'NGM', 'NGMS', 'NGS', 'NGVC', 'NGVT', 'NH', 'NHC', 'NHI', 'NHIC', 'NHICU', 'NHICW', 'NHS', 'NHTC', 'NI', 'NI-B', 'NIB', 'NICE', 'NICK', 'NID', 'NIE', 'NIFE', 'NILE', 'NIM', 'NIMC', 'NINE', 'NIO', 'NIQ', 'NISN', 'NIU', 'NJAN', 'NJR', 'NJUL', 'NKE', 'NKG', 'NKLA', 'NKSH', 'NKTR', 'NKTX', 'NKX', 'NL', 'NLIT', 'NLITU', 'NLITW', 'NLOK', 'NLR', 'NLS', 'NLSN', 'NLSP', 'NLSPW', 'NLTX', 'NLY', 'NLY-F', 'NLY-G', 'NLY-I', 'NM', 'NM-G', 'NM-H', 'NMAI', 'NMCO', 'NMFC', 'NMG', 'NMI', 'NMIH', 'NMK-B', 'NMK-C', 'NML', 'NMM', 'NMMC', 'NMMCU', 'NMMCW', 'NMR', 'NMRD', 'NMRK', 'NMS', 'NMT', 'NMTC', 'NMTR', 'NMZ', 'NN', 'NNAVW', 'NNBR', 'NNDM', 'NNI', 'NNN', 'NNOX', 'NNVC', 'NNY', 'NOA', 'NOAC', 'NOACU', 'NOACW', 'NOAH', 'NOBL', 'NOC', 'NOCT', 'NODK', 'NOG', 'NOK', 'NOM', 'NOMD', 'NORW', 'NOTV', 'NOV', 'NOVA', 'NOVN', 'NOVT', 'NOVV', 'NOVVR', 'NOVVU', 'NOVVW', 'NOVZ', 'NOW', 'NP', 'NPAB', 'NPABU', 'NPABW', 'NPCE', 'NPCT', 'NPFD', 'NPK', 'NPO', 'NPTN', 'NPV', 'NQP', 'NR', 'NRAC', 'NRACU', 'NRACW', 'NRBO', 'NRC', 'NRDS', 'NRDY', 'NRDY+', 'NREF', 'NREF-A', 'NRG', 'NRGD', 'NRGU', 'NRGV', 'NRGV+', 'NRGX', 'NRIM', 'NRIX', 'NRK', 'NRO', 'NRP', 'NRSN', 'NRSNW', 'NRT', 'NRUC', 'NRXP', 'NRXPW', 'NRZ', 'NRZ-A', 'NRZ-B', 'NRZ-C', 'NRZ-D', 'NS', 'NS-A', 'NS-B', 'NS-C', 'NSA', 'NSA-A', 'NSC', 'NSCS', 'NSEC', 'NSIT', 'NSL', 'NSP', 'NSPI', 'NSPR', 'NSR', 'NSS', 'NSSC', 'NSTB', 'NSTB+', 'NSTB=', 'NSTC', 'NSTC+', 'NSTC=', 'NSTD', 'NSTD+', 'NSTD=', 'NSTG', 'NSTS', 'NSYS', 'NTAP', 'NTB', 'NTCO', 'NTCT', 'NTES', 'NTEST', 'NTEST.A', 'NTEST.B', 'NTEST.C', 'NTG', 'NTGR', 'NTIC', 'NTIP', 'NTKI', 'NTLA', 'NTNX', 'NTP', 'NTR', 'NTRA', 'NTRB', 'NTRBW', 'NTRS', 'NTRSO', 'NTSE', 'NTSI', 'NTST', 'NTSX', 'NTUS', 'NTWK', 'NTZ', 'NTZO', 'NU', 'NUAG', 'NUBD', 'NUBIU', 'NUDM', 'NUDV', 'NUE', 'NUEM', 'NUGO', 'NUGT', 'NUHY', 'NULC', 'NULG', 'NULV', 'NUMG', 'NUMV', 'NUO', 'NURE', 'NURO', 'NUS', 'NUSA', 'NUSC', 'NUSI', 'NUV', 'NUVA', 'NUVB', 'NUVB+', 'NUVL', 'NUW', 'NUWE', 'NUZE', 'NVAC', 'NVACR', 'NVACW', 'NVAX', 'NVCN', 'NVCR', 'NVCT', 'NVDA', 'NVEC', 'NVEE', 'NVEI', 'NVFY', 'NVG', 'NVGS', 'NVIV', 'NVMI', 'NVNO', 'NVNOW', 'NVO', 'NVOS', 'NVQ', 'NVR', 'NVRO', 'NVS', 'NVSA', 'NVSAU', 'NVSAW', 'NVST', 'NVT', 'NVTA', 'NVTS', 'NVVE', 'NVVEW', 'NVX', 'NWBI', 'NWE', 'NWFL', 'NWG', 'NWL', 'NWLG', 'NWLI', 'NWN', 'NWPX', 'NWS', 'NWSA', 'NX', 'NXC', 'NXDT', 'NXDT-A', 'NXE', 'NXGL', 'NXGLW', 'NXGN', 'NXJ', 'NXN', 'NXP', 'NXPI', 'NXPL', 'NXPLW', 'NXRT', 'NXST', 'NXTC', 'NXTG', 'NXTP', 'NYC', 'NYCB', 'NYCB-A', 'NYCB-U', 'NYF', 'NYMT', 'NYMTL', 'NYMTM', 'NYMTN', 'NYMTZ', 'NYMX', 'NYT', 'NYXH', 'NZF', 'NZRO', 'NONE', 'O', 'OACB', 'OACB+', 'OACB=', 'OACP', 'OAK-A', 'OAK-B', 'OALC', 'OAS', 'OB', 'OBCI', 'OBE', 'OBLG', 'OBND', 'OBNK', 'OBOR', 'OBSV', 'OBT', 'OC', 'OCA', 'OCA+', 'OCA=', 'OCAX', 'OCAXU', 'OCAXW', 'OCC', 'OCCI', 'OCCIN', 'OCCIO', 'OCDX', 'OCEN', 'OCFC', 'OCFCP', 'OCFT', 'OCG', 'OCGN', 'OCIO', 'OCN', 'OCSL', 'OCTZ', 'OCUL', 'OCUP', 'OCX', 'ODC', 'ODFL', 'ODP', 'OEC', 'OEF', 'OEG', 'OEPW', 'OEPWU', 'OEPWW', 'OESX', 'OEUR', 'OFC', 'OFED', 'OFG', 'OFIX', 'OFLX', 'OFS', 'OFSSH', 'OG', 'OGCP', 'OGE', 'OGEN', 'OGI', 'OGIG', 'OGN', 'OGS', 'OHAA', 'OHAAU', 'OHAAW', 'OHI', 'OHPA', 'OHPAU', 'OHPAW', 'OI', 'OIA', 'OIH', 'OII', 'OIIM', 'OIL', 'OILD', 'OILK', 'OILU', 'OIS', 'OKE', 'OKTA', 'OLB', 'OLED', 'OLIT', 'OLITU', 'OLITW', 'OLK', 'OLLI', 'OLMA', 'OLN', 'OLO', 'OLP', 'OLPX', 'OM', 'OMAB', 'OMC', 'OMCL', 'OMEG', 'OMER', 'OMEX', 'OMF', 'OMFL', 'OMFS', 'OMGA', 'OMI', 'OMIC', 'OMQS', 'ON', 'ONB', 'ONBPO', 'ONBPP', 'ONCR', 'ONCS', 'ONCT', 'ONCY', 'OND', 'ONDS', 'ONE', 'ONEM', 'ONEO', 'ONEQ', 'ONEV', 'ONEW', 'ONEY', 'ONG', 'ONL', 'ONLN', 'ONOF', 'ONON', 'ONTF', 'ONTO', 'ONTX', 'ONVO', 'ONYX', 'ONYXU', 'ONYXW', 'OOMA', 'OOTO', 'OP', 'OPA', 'OPA+', 'OPA=', 'OPAD', 'OPAD+', 'OPBK', 'OPCH', 'OPEN', 'OPER', 'OPFI', 'OPFI+', 'OPGN', 'OPHC', 'OPI', 'OPINL', 'OPK', 'OPNT', 'OPOF', 'OPP', 'OPP-A', 'OPP-B', 'OPPX', 'OPRA', 'OPRT', 'OPRX', 'OPT', 'OPTN', 'OPTT', 'OPY', 'OR', 'ORA', 'ORAN', 'ORC', 'ORCC', 'ORCL', 'ORGN', 'ORGNW', 'ORGO', 'ORGS', 'ORI', 'ORIA', 'ORIAU', 'ORIAW', 'ORIC', 'ORLA', 'ORLY', 'ORMP', 'ORN', 'ORRF', 'ORTX', 'OSBC', 'OSCR', 'OSCV', 'OSG', 'OSH', 'OSI', 'OSI+', 'OSI=', 'OSIS', 'OSK', 'OSPN', 'OSS', 'OSTK', 'OSTR', 'OSTRU', 'OSTRW', 'OSUR', 'OSW', 'OTEC', 'OTECU', 'OTECW', 'OTEX', 'OTIC', 'OTIS', 'OTLK', 'OTLY', 'OTMO', 'OTMOW', 'OTRA', 'OTRAU', 'OTRAW', 'OTRK', 'OTRKP', 'OTTR', 'OUNZ', 'OUSA', 'OUSM', 'OUST', 'OUST+', 'OUT', 'OVB', 'OVBC', 'OVF', 'OVID', 'OVL', 'OVLH', 'OVLY', 'OVM', 'OVS', 'OVT', 'OVV', 'OWL', 'OWL+', 'OWLT', 'OWLT+', 'OWNS', 'OXAC', 'OXACU', 'OXACW', 'OXBR', 'OXBRW', 'OXLC', 'OXLCL', 'OXLCM', 'OXLCO', 'OXLCP', 'OXLCZ', 'OXM', 'OXSQ', 'OXSQG', 'OXSQL', 'OXSQZ', 'OXUS', 'OXUSU', 'OXUSW', 'OXY', 'OXY+', 'OYST', 'OZ', 'OZK', 'OZKAP', 'OZON', 'PAA', 'PAAS', 'PAB', 'PABU', 'PAC', 'PACB', 'PACI', 'PACI+', 'PACI=', 'PACK', 'PACW', 'PACX', 'PACXU', 'PACXW', 'PAFO', 'PAFOR', 'PAFOU', 'PAG', 'PAGP', 'PAGS', 'PAHC', 'PAI', 'PAK', 'PALC', 'PALI', 'PALL', 'PALT', 'PAM', 'PAMC', 'PANA', 'PANL', 'PANW', 'PAPR', 'PAQC', 'PAQCU', 'PAQCW', 'PAR', 'PARA', 'PARAA', 'PARAP', 'PARR', 'PASG', 'PATH', 'PATI', 'PATK', 'PAUG', 'PAVE', 'PAVM', 'PAVMZ', 'PAWZ', 'PAX', 'PAXS', 'PAY', 'PAYA', 'PAYC', 'PAYO', 'PAYOW', 'PAYS', 'PAYX', 'PB', 'PBA', 'PBAX', 'PBAXU', 'PBAXW', 'PBBK', 'PBCT', 'PBCTP', 'PBD', 'PBDM', 'PBE', 'PBEE', 'PBF', 'PBFS', 'PBFX', 'PBH', 'PBHC', 'PBI', 'PBI-B', 'PBIP', 'PBJ', 'PBLA', 'PBND', 'PBP', 'PBPB', 'PBR', 'PBR.A', 'PBS', 'PBSM', 'PBT', 'PBTP', 'PBTS', 'PBUG', 'PBUS', 'PBW', 'PBYI', 'PCAR', 'PCB', 'PCCT', 'PCCTU', 'PCCTW', 'PCEF', 'PCF', 'PCG', 'PCG-A', 'PCG-B', 'PCG-C', 'PCG-D', 'PCG-E', 'PCG-G', 'PCG-H', 'PCG-I', 'PCGU', 'PCH', 'PCK', 'PCM', 'PCN', 'PCOM', 'PCOR', 'PCPC', 'PCPC+', 'PCPC=', 'PCQ', 'PCRX', 'PCSA', 'PCSB', 'PCT', 'PCTI', 'PCTTU', 'PCTTW', 'PCTY', 'PCVX', 'PCX', 'PCXCU', 'PCXCW', 'PCY', 'PCYG', 'PCYO', 'PD', 'PDBC', 'PDCE', 'PDCO', 'PDD', 'PDEC', 'PDEX', 'PDFS', 'PDI', 'PDLB', 'PDM', 'PDN', 'PDO', 'PDOT', 'PDOT+', 'PDOT=', 'PDP', 'PDS', 'PDSB', 'PDT', 'PEAK', 'PEAR', 'PEARW', 'PEB', 'PEB-E', 'PEB-F', 'PEB-G', 'PEB-H', 'PEBK', 'PEBO', 'PECO', 'PED', 'PEG', 'PEGA', 'PEGR', 'PEGRU', 'PEGRW', 'PEGY', 'PEI', 'PEI-B', 'PEI-C', 'PEI-D', 'PEJ', 'PEN', 'PENN', 'PEO', 'PEP', 'PEPL', 'PEPLU', 'PEPLW', 'PERI', 'PESI', 'PETQ', 'PETS', 'PETV', 'PETVW', 'PETZ', 'PEX', 'PEXL', 'PEY', 'PEZ', 'PFBC', 'PFC', 'PFD', 'PFDR', 'PFDRU', 'PFDRW', 'PFE', 'PFEB', 'PFF', 'PFFA', 'PFFD', 'PFFL', 'PFFR', 'PFFV', 'PFG', 'PFGC', 'PFH', 'PFHD', 'PFI', 'PFIE', 'PFIG', 'PFIN', 'PFIS', 'PFIX', 'PFL', 'PFLD', 'PFLT', 'PFM', 'PFMT', 'PFN', 'PFO', 'PFS', 'PFSI', 'PFSW', 'PFTA', 'PFTAU', 'PFTAW', 'PFUT', 'PFX', 'PFXF', 'PFXNL', 'PFXNZ', 'PG', 'PGAL', 'PGC', 'PGEN', 'PGF', 'PGHY', 'PGJ', 'PGM', 'PGNY', 'PGP', 'PGR', 'PGRE', 'PGRO', 'PGRU', 'PGRW', 'PGRWU', 'PGRWW', 'PGSS', 'PGSS+', 'PGSS=', 'PGTI', 'PGX', 'PGZ', 'PH', 'PHAR', 'PHAS', 'PHAT', 'PHB', 'PHCF', 'PHD', 'PHDG', 'PHG', 'PHGE', 'PHGE+', 'PHGE=', 'PHI', 'PHIC', 'PHICU', 'PHICW', 'PHIO', 'PHK', 'PHM', 'PHO', 'PHR', 'PHT', 'PHUN', 'PHUNW', 'PHVS', 'PHX', 'PHYL', 'PHYS', 'PHYT', 'PHYT+', 'PHYT=', 'PI', 'PIAI', 'PIAI+', 'PIAI=', 'PICB', 'PICC', 'PICC+', 'PICC=', 'PICK', 'PID', 'PIE', 'PIFI', 'PII', 'PIII', 'PIIIW', 'PIK', 'PILL', 'PIM', 'PIN', 'PINC', 'PINE', 'PING', 'PINK', 'PINS', 'PIO', 'PIPP', 'PIPP+', 'PIPP=', 'PIPR', 'PIRS', 'PIXY', 'PIZ', 'PJAN', 'PJP', 'PJT', 'PJUL', 'PJUN', 'PK', 'PKB', 'PKBK', 'PKE', 'PKG', 'PKI', 'PKOH', 'PKW', 'PKX', 'PL', 'PL+', 'PLAB', 'PLAG', 'PLAN', 'PLAOU', 'PLAT', 'PLAY', 'PLBC', 'PLBY', 'PLCE', 'PLD', 'PLDR', 'PLG', 'PLL', 'PLM', 'PLMI', 'PLMIU', 'PLMIW', 'PLMR', 'PLNT', 'PLOW', 'PLPC', 'PLRG', 'PLRX', 'PLSE', 'PLTK', 'PLTL', 'PLTM', 'PLTR', 'PLUG', 'PLUS', 'PLW', 'PLX', 'PLXP', 'PLXS', 'PLYA', 'PLYM', 'PLYM-A', 'PM', 'PMAR', 'PMAY', 'PMCB', 'PMD', 'PME', 'PMF', 'PMGM', 'PMGMU', 'PMGMW', 'PML', 'PMM', 'PMO', 'PMT', 'PMT-A', 'PMT-B', 'PMT-C', 'PMTS', 'PMVC', 'PMVC+', 'PMVC=', 'PMVP', 'PMX', 'PNBK', 'PNC', 'PNC-P', 'PNF', 'PNFP', 'PNFPP', 'PNI', 'PNM', 'PNNT', 'PNOV', 'PNQI', 'PNR', 'PNRG', 'PNT', 'PNTG', 'PNTM', 'PNTM+', 'PNTM=', 'PNW', 'POAI', 'POCT', 'PODD', 'POET', 'POLA', 'POLY', 'POND', 'POND+', 'POND=', 'PONO', 'PONOU', 'PONOW', 'POOL', 'POR', 'PORT', 'PORT+', 'PORT=', 'POSH', 'POST', 'POTX', 'POW', 'POWI', 'POWL', 'POWRU', 'POWRW', 'POWW', 'POWWP', 'PPA', 'PPBI', 'PPBT', 'PPC', 'PPG', 'PPGH', 'PPGHU', 'PPGHW', 'PPH', 'PPHP', 'PPHPR', 'PPHPU', 'PPHPW', 'PPI', 'PPIH', 'PPL', 'PPLT', 'PPSI', 'PPT', 'PPTA', 'PPTY', 'PPYA', 'PPYAU', 'PPYAW', 'PQDI', 'PQIN', 'PRA', 'PRAA', 'PRAX', 'PRAY', 'PRBM', 'PRBM+', 'PRBM=', 'PRCH', 'PRCT', 'PRDO', 'PRDS', 'PRE-J', 'PREF', 'PRF', 'PRFT', 'PRFX', 'PRFZ', 'PRG', 'PRGO', 'PRGS', 'PRI', 'PRIF-D', 'PRIF-F', 'PRIF-G', 'PRIF-H', 'PRIF-I', 'PRIF-J', 'PRIF-K', 'PRIF-L', 'PRIM', 'PRK', 'PRLB', 'PRLD', 'PRLH', 'PRLHU', 'PRLHW', 'PRM', 'PRMW', 'PRN', 'PRNT', 'PRO', 'PROC', 'PROCW', 'PROF', 'PROG', 'PROV', 'PRPB', 'PRPB+', 'PRPB=', 'PRPC', 'PRPC+', 'PRPC=', 'PRPH', 'PRPL', 'PRPO', 'PRQR', 'PRS', 'PRSO', 'PRSR', 'PRSRU', 'PRSRW', 'PRT', 'PRTA', 'PRTC', 'PRTG', 'PRTH', 'PRTK', 'PRTS', 'PRTY', 'PRU', 'PRVA', 'PRVB', 'PSA', 'PSA-F', 'PSA-G', 'PSA-H', 'PSA-I', 'PSA-J', 'PSA-K', 'PSA-L', 'PSA-M', 'PSA-N', 'PSA-O', 'PSA-P', 'PSA-Q', 'PSA-R', 'PSA-S', 'PSAG', 'PSAGU', 'PSAGW', 'PSB', 'PSB-X', 'PSB-Y', 'PSB-Z', 'PSC', 'PSCC', 'PSCD', 'PSCE', 'PSCF', 'PSCH', 'PSCI', 'PSCJ', 'PSCM', 'PSCQ', 'PSCT', 'PSCU', 'PSCW', 'PSCX', 'PSDN', 'PSEC', 'PSEC-A', 'PSEP', 'PSET', 'PSF', 'PSFD', 'PSFE', 'PSFE+', 'PSFF', 'PSFJ', 'PSFM', 'PSFO', 'PSHG', 'PSI', 'PSIL', 'PSJ', 'PSK', 'PSL', 'PSLV', 'PSMB', 'PSMC', 'PSMD', 'PSMG', 'PSMJ', 'PSMM', 'PSMO', 'PSMR', 'PSMT', 'PSN', 'PSNL', 'PSO', 'PSP', 'PSPC', 'PSPC+', 'PSPC=', 'PSQ', 'PSR', 'PST', 'PSTG', 'PSTH', 'PSTH+', 'PSTI', 'PSTL', 'PSTP', 'PSTV', 'PSTX', 'PSX', 'PSY', 'PSYK', 'PT', 'PTA', 'PTBD', 'PTC', 'PTCT', 'PTE', 'PTEN', 'PTEU', 'PTF', 'PTGX', 'PTH', 'PTIC', 'PTICU', 'PTICW', 'PTIN', 'PTIX', 'PTIXW', 'PTLC', 'PTLO', 'PTMC', 'PTMN', 'PTN', 'PTNQ', 'PTNR', 'PTOC', 'PTOCU', 'PTOCW', 'PTON', 'PTPI', 'PTR', 'PTRA', 'PTRB', 'PTRS', 'PTSI', 'PTVE', 'PTY', 'PUBM', 'PUCK', 'PUCKU', 'PUCKW', 'PUI', 'PUK', 'PULM', 'PULS', 'PUMP', 'PUNK', 'PUTW', 'PUYI', 'PV', 'PV+', 'PV=', 'PVAL', 'PVBC', 'PVH', 'PVI', 'PVL', 'PW', 'PW-A', 'PWB', 'PWC', 'PWFL', 'PWOD', 'PWP', 'PWPPW', 'PWR', 'PWS', 'PWSC', 'PWUPU', 'PWV', 'PWZ', 'PX', 'PXD', 'PXE', 'PXF', 'PXH', 'PXI', 'PXJ', 'PXLW', 'PXQ', 'PXS', 'PXSAP', 'PXSAW', 'PXUS', 'PY', 'PYCR', 'PYN', 'PYPD', 'PYPE', 'PYPL', 'PYR', 'PYS', 'PYT', 'PYXS', 'PYZ', 'PZA', 'PZC', 'PZG', 'PZN', 'PZT', 'PZZA', 'QABA', 'QAI', 'QARP', 'QAT', 'QCLN', 'QCLR', 'QCOM', 'QCON', 'QCRH', 'QD', 'QDEC', 'QDEF', 'QDEL', 'QDF', 'QDIV', 'QDPL', 'QDYN', 'QED', 'QEFA', 'QEMM', 'QFIN', 'QFTA', 'QFTA+', 'QFTA=', 'QGEN', 'QGRO', 'QH', 'QID', 'QINT', 'QIPT', 'QIWI', 'QJUN', 'QK', 'QLC', 'QLD', 'QLGN', 'QLI', 'QLS', 'QLTA', 'QLV', 'QLVD', 'QLVE', 'QLYS', 'QMAR', 'QMCO', 'QMN', 'QMOM', 'QNGY', 'QNGY+', 'QNRX', 'QNST', 'QPFF', 'QPT', 'QPX', 'QQC', 'QQD', 'QQEW', 'QQH', 'QQJG', 'QQMG', 'QQQ', 'QQQA', 'QQQE', 'QQQJ', 'QQQM', 'QQQN', 'QQQX', 'QQXT', 'QRFT', 'QRHC', 'QRMI', 'QRTEA', 'QRTEB', 'QRTEP', 'QRVO', 'QS', 'QSI', 'QSIAW', 'QSPT', 'QSR', 'QSWN', 'QTAP', 'QTEC', 'QTEK', 'QTEKW', 'QTJA', 'QTJL', 'QTNT', 'QTOC', 'QTR', 'QTRX', 'QTT', 'QTUM', 'QTWO', 'QUAD', 'QUAL', 'QUBT', 'QUIK', 'QULL', 'QUMU', 'QUOT', 'QURE', 'QUS', 'QVAL', 'QVCC', 'QVCD', 'QVML', 'QVMM', 'QVMS', 'QWLD', 'QYLD', 'QYLG', 'R', 'RA', 'RAAS', 'RAAX', 'RACB', 'RACE', 'RACYU', 'RAD', 'RADA', 'RADI', 'RAFE', 'RAIL', 'RAIN', 'RALS', 'RAM', 'RAMMU', 'RAMMW', 'RAMP', 'RAND', 'RANI', 'RAPT', 'RARE', 'RAVE', 'RAVI', 'RAYC', 'RAYD', 'RAYE', 'RAYS', 'RBA', 'RBAC', 'RBAC+', 'RBAC=', 'RBB', 'RBBN', 'RBCAA', 'RBCN', 'RBIN', 'RBKB', 'RBLX', 'RBND', 'RBOT', 'RBOT+', 'RBUS', 'RC', 'RC-C', 'RC-E', 'RCA', 'RCAC', 'RCACU', 'RCACW', 'RCAT', 'RCB', 'RCC', 'RCD', 'RCEL', 'RCFA', 'RCFA+', 'RCFA=', 'RCG', 'RCHG', 'RCHGU', 'RCHGW', 'RCI', 'RCII', 'RCKT', 'RCKY', 'RCL', 'RCLF', 'RCLFU', 'RCLFW', 'RCM', 'RCMT', 'RCON', 'RCOR', 'RCOR+', 'RCRT', 'RCRTW', 'RCS', 'RCUS', 'RDBX', 'RDBXW', 'RDCM', 'RDFI', 'RDFN', 'RDHL', 'RDI', 'RDIB', 'RDIV', 'RDMX', 'RDN', 'RDNT', 'RDOG', 'RDTXU', 'RDUS', 'RDVT', 'RDVY', 'RDW', 'RDW+', 'RDWR', 'RDY', 'RE', 'REAL', 'REAX', 'REC', 'RECS', 'REDU', 'REE', 'REEAW', 'REED', 'REET', 'REFI', 'REFR', 'REG', 'REGI', 'REGL', 'REGN', 'REI', 'REIT', 'REK', 'REKR', 'RELI', 'RELIW', 'RELL', 'RELX', 'RELY', 'REM', 'REMG', 'REMX', 'RENN', 'RENO', 'RENT', 'REPL', 'REPX', 'RERE', 'RES', 'RESD', 'RESE', 'RESI', 'RESP', 'RETA', 'RETL', 'RETO', 'REV', 'REVB', 'REVBU', 'REVBW', 'REVE', 'REVEU', 'REVEW', 'REVG', 'REVH', 'REVHU', 'REVHW', 'REVS', 'REW', 'REX', 'REXR', 'REXR-B', 'REXR-C', 'REYN', 'REZ', 'REZI', 'RF', 'RF-B', 'RF-C', 'RF-E', 'RFACU', 'RFCI', 'RFDA', 'RFDI', 'RFEM', 'RFEU', 'RFFC', 'RFG', 'RFI', 'RFIL', 'RFL', 'RFM', 'RFMZ', 'RFP', 'RFV', 'RGA', 'RGC', 'RGCO', 'RGEN', 'RGF', 'RGI', 'RGLD', 'RGLS', 'RGNX', 'RGP', 'RGR', 'RGS', 'RGT', 'RGTI', 'RGTIW', 'RH', 'RHCB', 'RHDM', 'RHE', 'RHE-A', 'RHI', 'RHP', 'RHRX', 'RHS', 'RHTX', 'RIBT', 'RICK', 'RICO', 'RICOU', 'RICOW', 'RIDE', 'RIET', 'RIG', 'RIGL', 'RIGS', 'RIGZ', 'RILY', 'RILYG', 'RILYK', 'RILYL', 'RILYM', 'RILYN', 'RILYO', 'RILYP', 'RILYT', 'RILYZ', 'RINF', 'RING', 'RIO', 'RIOT', 'RISN', 'RISR', 'RITA', 'RIV', 'RIVN', 'RJA', 'RJAC', 'RJAC+', 'RJAC=', 'RJF', 'RJI', 'RJN', 'RJZ', 'RKDA', 'RKLB', 'RKLY', 'RKLY+', 'RKT', 'RKTA', 'RKTA+', 'RKTA=', 'RL', 'RLAY', 'RLGT', 'RLGY', 'RLI', 'RLJ', 'RLJ-A', 'RLMD', 'RLTY', 'RLX', 'RLY', 'RLYB', 'RM', 'RMAX', 'RMBI', 'RMBL', 'RMBS', 'RMCF', 'RMD', 'RMED', 'RMGC', 'RMGCU', 'RMGCW', 'RMI', 'RMM', 'RMMZ', 'RMNI', 'RMO', 'RMPL-', 'RMR', 'RMT', 'RMTI', 'RNA', 'RNAZ', 'RNDB', 'RNDM', 'RNDV', 'RNEM', 'RNER', 'RNERU', 'RNERW', 'RNG', 'RNGR', 'RNLC', 'RNLX', 'RNMC', 'RNP', 'RNR', 'RNR-F', 'RNR-G', 'RNRG', 'RNSC', 'RNST', 'RNW', 'RNWK', 'RNWWW', 'RNXT', 'ROAD', 'ROAM', 'ROBO', 'ROBT', 'ROC', 'ROCAR', 'ROCAU', 'ROCC', 'ROCG', 'ROCGU', 'ROCGW', 'ROCI', 'ROCK', 'ROCL', 'ROCLU', 'ROCLW', 'RODE', 'RODI', 'RODM', 'ROG', 'ROIC', 'ROIV', 'ROIVW', 'ROK', 'ROKT', 'ROKU', 'ROL', 'ROLL', 'ROLLP', 'ROM', 'ROMO', 'RONI', 'RONI+', 'RONI=', 'ROOF', 'ROOT', 'ROP', 'RORO', 'ROSC', 'ROSE', 'ROSEU', 'ROSEW', 'ROSS', 'ROSS+', 'ROSS=', 'ROST', 'ROUS', 'ROVR', 'RPAR', 'RPAY', 'RPD', 'RPG', 'RPHM', 'RPHS', 'RPID', 'RPM', 'RPRX', 'RPT', 'RPT-D', 'RPTX', 'RPV', 'RQI', 'RRAC', 'RRAC+', 'RRAC=', 'RRBI', 'RRC', 'RRGB', 'RRH', 'RRR', 'RRX', 'RS', 'RSEE', 'RSF', 'RSG', 'RSI', 'RSKD', 'RSLS', 'RSP', 'RSPE', 'RSPY', 'RSSS', 'RSVR', 'RSVRW', 'RSX', 'RSXJ', 'RTAI', 'RTH', 'RTL', 'RTLPO', 'RTLPP', 'RTLR', 'RTM', 'RTX', 'RTYD', 'RUBY', 'RUFF', 'RULE', 'RUN', 'RUSHA', 'RUSHB', 'RUTH', 'RVAC', 'RVACU', 'RVACW', 'RVI', 'RVLP', 'RVLV', 'RVMD', 'RVNC', 'RVNU', 'RVP', 'RVPH', 'RVPHW', 'RVSB', 'RVSN', 'RVSNW', 'RVT', 'RWAY', 'RWGV', 'RWJ', 'RWK', 'RWL', 'RWLK', 'RWM', 'RWO', 'RWODU', 'RWR', 'RWT', 'RWVG', 'RWX', 'RXD', 'RXDX', 'RXI', 'RXL', 'RXRA', 'RXRAU', 'RXRAW', 'RXRX', 'RXST', 'RXT', 'RY', 'RY-T', 'RYAAY', 'RYAM', 'RYAN', 'RYB', 'RYE', 'RYF', 'RYH', 'RYI', 'RYJ', 'RYLD', 'RYN', 'RYT', 'RYTM', 'RYU', 'RZA', 'RZB', 'RZG', 'RZLT', 'RZV', 'S', 'SA', 'SAA', 'SABR', 'SABRP', 'SABS', 'SABSW', 'SACC', 'SACH', 'SACH-A', 'SAEF', 'SAFE', 'SAFM', 'SAFT', 'SAGA', 'SAGAR', 'SAGAU', 'SAGE', 'SAGP', 'SAH', 'SAIA', 'SAIC', 'SAIL', 'SAK', 'SAL', 'SALM', 'SAM', 'SAMA', 'SAMAU', 'SAMAW', 'SAMG', 'SAMT', 'SAN', 'SANA', 'SANB', 'SANBU', 'SANBW', 'SAND', 'SANG', 'SANM', 'SANW', 'SAP', 'SAR', 'SARK', 'SASR', 'SATL', 'SATLW', 'SATO', 'SATS', 'SAVA', 'SAVE', 'SAVN', 'SB', 'SB-C', 'SB-D', 'SBAC', 'SBB', 'SBBA', 'SBCF', 'SBET', 'SBEV', 'SBEV+', 'SBFG', 'SBFM', 'SBFMW', 'SBGI', 'SBH', 'SBI', 'SBII', 'SBII+', 'SBII=', 'SBIO', 'SBLK', 'SBM', 'SBND', 'SBNY', 'SBNYP', 'SBOW', 'SBR', 'SBRA', 'SBS', 'SBSI', 'SBSW', 'SBT', 'SBTX', 'SBUG', 'SBUX', 'SCAQ', 'SCAQU', 'SCAQW', 'SCC', 'SCCB', 'SCCC', 'SCCD', 'SCCE', 'SCCO', 'SCD', 'SCDL', 'SCE-G', 'SCE-H', 'SCE-J', 'SCE-K', 'SCE-L', 'SCHA', 'SCHB', 'SCHC', 'SCHD', 'SCHE', 'SCHF', 'SCHG', 'SCHH', 'SCHI', 'SCHJ', 'SCHK', 'SCHL', 'SCHM', 'SCHN', 'SCHO', 'SCHP', 'SCHQ', 'SCHR', 'SCHV', 'SCHW', 'SCHW-D', 'SCHW-J', 'SCHX', 'SCHY', 'SCHZ', 'SCI', 'SCJ', 'SCKT', 'SCL', 'SCLE', 'SCLEU', 'SCLEW', 'SCM', 'SCMA', 'SCMAU', 'SCMAW', 'SCO', 'SCOA', 'SCOAU', 'SCOAW', 'SCOB', 'SCOBU', 'SCOBW', 'SCOR', 'SCPH', 'SCPL', 'SCPS', 'SCRD', 'SCRM', 'SCRMU', 'SCRMW', 'SCS', 'SCSC', 'SCTL', 'SCU', 'SCUA', 'SCUA+', 'SCUA=', 'SCVL', 'SCWX', 'SCX', 'SCYX', 'SCZ', 'SD', 'SDAC', 'SDACU', 'SDACW', 'SDC', 'SDCI', 'SDD', 'SDEF', 'SDEI', 'SDEM', 'SDG', 'SDGA', 'SDGR', 'SDH', 'SDHY', 'SDIG', 'SDIV', 'SDOG', 'SDOW', 'SDP', 'SDPI', 'SDS', 'SDVY', 'SDY', 'SE', 'SEA', 'SEAC', 'SEAL-A', 'SEAL-B', 'SEAS', 'SEAT', 'SEATW', 'SEB', 'SECO', 'SECT', 'SEDA', 'SEDA+', 'SEDA=', 'SEDG', 'SEE', 'SEED', 'SEEL', 'SEER', 'SEF', 'SEIC', 'SEIX', 'SELB', 'SELF', 'SEM', 'SEMI', 'SEMR', 'SENEA', 'SENEB', 'SENS', 'SENT', 'SEPZ', 'SERA', 'SES', 'SES+', 'SESN', 'SEV', 'SEVN', 'SF', 'SF-B', 'SF-C', 'SF-D', 'SFB', 'SFBC', 'SFBS', 'SFE', 'SFET', 'SFIG', 'SFIX', 'SFL', 'SFM', 'SFNC', 'SFST', 'SFT', 'SFUN', 'SFY', 'SFYF', 'SFYX', 'SG', 'SGA', 'SGBX', 'SGC', 'SGDJ', 'SGDM', 'SGEN', 'SGFY', 'SGG', 'SGH', 'SGHC', 'SGHC+', 'SGHL', 'SGHLU', 'SGHLW', 'SGHT', 'SGII', 'SGIIU', 'SGIIW', 'SGLB', 'SGLY', 'SGMA', 'SGML', 'SGMO', 'SGMS', 'SGOL', 'SGOV', 'SGRP', 'SGRY', 'SGTX', 'SGU', 'SH', 'SHAC', 'SHACU', 'SHACW', 'SHAG', 'SHAK', 'SHAP', 'SHAP+', 'SHAP=', 'SHBI', 'SHC', 'SHCA', 'SHCAU', 'SHCAW', 'SHCR', 'SHCRW', 'SHE', 'SHEL', 'SHEN', 'SHFT', 'SHG', 'SHI', 'SHIP', 'SHIPZ', 'SHLS', 'SHLX', 'SHM', 'SHO', 'SHO-H', 'SHO-I', 'SHOO', 'SHOP', 'SHPW', 'SHPW+', 'SHQA', 'SHQAU', 'SHQAW', 'SHUAU', 'SHUS', 'SHV', 'SHW', 'SHY', 'SHYD', 'SHYF', 'SHYG', 'SHYL', 'SI', 'SI-A', 'SIBN', 'SID', 'SIDU', 'SIEB', 'SIEN', 'SIER', 'SIERU', 'SIERW', 'SIF', 'SIFI', 'SIFY', 'SIG', 'SIGA', 'SIGI', 'SIGIP', 'SIHY', 'SII', 'SIJ', 'SIL', 'SILC', 'SILJ', 'SILK', 'SILV', 'SILX', 'SIM', 'SIMO', 'SIMS', 'SINT', 'SINV', 'SIOX', 'SIRE', 'SIRI', 'SISI', 'SITC', 'SITC-A', 'SITE', 'SITM', 'SIVB', 'SIVBP', 'SIVR', 'SIX', 'SIXA', 'SIXH', 'SIXJ', 'SIXL', 'SIXO', 'SIXS', 'SIZE', 'SJ', 'SJB', 'SJI', 'SJIJ', 'SJIV', 'SJM', 'SJNK', 'SJR', 'SJT', 'SJW', 'SKE', 'SKF', 'SKIL', 'SKIL+', 'SKIN', 'SKLZ', 'SKM', 'SKOR', 'SKT', 'SKX', 'SKY', 'SKYA', 'SKYAU', 'SKYAW', 'SKYH', 'SKYH+', 'SKYT', 'SKYU', 'SKYW', 'SKYX', 'SKYY', 'SLAB', 'SLAC', 'SLAC+', 'SLAC=', 'SLAM', 'SLAMU', 'SLAMW', 'SLB', 'SLCA', 'SLCR', 'SLCRU', 'SLCRW', 'SLDB', 'SLDP', 'SLDPW', 'SLF', 'SLG', 'SLG-I', 'SLGC', 'SLGCW', 'SLGG', 'SLGL', 'SLGN', 'SLHG', 'SLHGP', 'SLI', 'SLM', 'SLMBP', 'SLN', 'SLNG', 'SLNH', 'SLNHP', 'SLNO', 'SLP', 'SLQD', 'SLQT', 'SLRC', 'SLRX', 'SLS', 'SLV', 'SLVM', 'SLVO', 'SLVP', 'SLVR', 'SLVRU', 'SLVRW', 'SLX', 'SLY', 'SLYG', 'SLYV', 'SM', 'SMAP', 'SMAPU', 'SMAPW', 'SMAR', 'SMB', 'SMBC', 'SMBK', 'SMCI', 'SMCP', 'SMDD', 'SMDV', 'SMDY', 'SMED', 'SMFG', 'SMFL', 'SMFR', 'SMFRW', 'SMG', 'SMH', 'SMHB', 'SMHI', 'SMI', 'SMID', 'SMIG', 'SMIH', 'SMIHU', 'SMIHW', 'SMIN', 'SMIT', 'SMLE', 'SMLF', 'SMLP', 'SMLR', 'SMLV', 'SMM', 'SMMD', 'SMMF', 'SMMT', 'SMMU', 'SMMV', 'SMN', 'SMOG', 'SMP', 'SMPL', 'SMRT', 'SMSA', 'SMSI', 'SMTC', 'SMTI', 'SMTS', 'SMWB', 'SNA', 'SNAP', 'SNAX', 'SNAXW', 'SNBR', 'SNCE', 'SNCR', 'SNCRL', 'SNCY', 'SND', 'SNDA', 'SNDL', 'SNDR', 'SNDX', 'SNES', 'SNEX', 'SNFCA', 'SNGX', 'SNLN', 'SNMP', 'SNN', 'SNOA', 'SNOW', 'SNP', 'SNPE', 'SNPO', 'SNPS', 'SNPX', 'SNRH', 'SNRHU', 'SNRHW', 'SNSE', 'SNSR', 'SNT', 'SNTG', 'SNUG', 'SNV', 'SNV-D', 'SNV-E', 'SNX', 'SNY', 'SO', 'SOCL', 'SOFI', 'SOFO', 'SOGU', 'SOHO', 'SOHOB', 'SOHON', 'SOHOO', 'SOHU', 'SOI', 'SOJC', 'SOJD', 'SOJE', 'SOL', 'SOLN', 'SOLO', 'SOLOW', 'SOLR', 'SON', 'SOND', 'SONDW', 'SONM', 'SONN', 'SONO', 'SONX', 'SONY', 'SOPA', 'SOPH', 'SOR', 'SOS', 'SOTK', 'SOVO', 'SOXL', 'SOXQ', 'SOXS', 'SOXX', 'SOYB', 'SP', 'SPAB', 'SPAK', 'SPAX', 'SPB', 'SPBC', 'SPBO', 'SPC', 'SPCB', 'SPCE', 'SPCMU', 'SPCX', 'SPD', 'SPDN', 'SPDV', 'SPDW', 'SPE', 'SPE-C', 'SPEM', 'SPEU', 'SPFF', 'SPFI', 'SPG', 'SPG-J', 'SPGI', 'SPGM', 'SPGP', 'SPGS', 'SPGS+', 'SPGS=', 'SPH', 'SPHB', 'SPHD', 'SPHQ', 'SPHY', 'SPI', 'SPIB', 'SPIP', 'SPIR', 'SPIR+', 'SPK', 'SPKAR', 'SPKAU', 'SPKB', 'SPKBU', 'SPKBW', 'SPLB', 'SPLG', 'SPLK', 'SPLP', 'SPLP-A', 'SPLV', 'SPMB', 'SPMD', 'SPMO', 'SPMV', 'SPNE', 'SPNS', 'SPNT', 'SPNT-B', 'SPOK', 'SPOT', 'SPPI', 'SPPP', 'SPR', 'SPRB', 'SPRC', 'SPRE', 'SPRO', 'SPRX', 'SPSB', 'SPSC', 'SPSK', 'SPSM', 'SPT', 'SPTI', 'SPTK', 'SPTKU', 'SPTKW', 'SPTL', 'SPTM', 'SPTN', 'SPTS', 'SPUC', 'SPUS', 'SPUU', 'SPVM', 'SPVU', 'SPWH', 'SPWR', 'SPXB', 'SPXC', 'SPXE', 'SPXL', 'SPXN', 'SPXS', 'SPXT', 'SPXU', 'SPXV', 'SPXX', 'SPXZ', 'SPY', 'SPYC', 'SPYD', 'SPYG', 'SPYV', 'SPYX', 'SQ', 'SQEW', 'SQFT', 'SQFTP', 'SQFTW', 'SQL', 'SQLLW', 'SQLV', 'SQM', 'SQNS', 'SQQQ', 'SQSP', 'SQZ', 'SR', 'SR-A', 'SRAD', 'SRAX', 'SRC', 'SRC-A', 'SRCE', 'SRCL', 'SRDX', 'SRE', 'SREA', 'SRET', 'SREV', 'SRG', 'SRG-A', 'SRGA', 'SRI', 'SRL', 'SRLN', 'SRLP', 'SRNE', 'SRPT', 'SRRA', 'SRRK', 'SRS', 'SRSA', 'SRSAU', 'SRSAW', 'SRT', 'SRTS', 'SRTY', 'SRV', 'SRVR', 'SRZN', 'SRZNW', 'SSAA', 'SSAAU', 'SSAAW', 'SSB', 'SSBI', 'SSBK', 'SSD', 'SSFI', 'SSG', 'SSIC', 'SSKN', 'SSL', 'SSLY', 'SSNC', 'SSNT', 'SSO', 'SSP', 'SSPX', 'SSPY', 'SSRM', 'SSSS', 'SSSSL', 'SST', 'SST+', 'SSTI', 'SSTK', 'SSU', 'SSU+', 'SSUS', 'SSY', 'SSYS', 'ST', 'STAA', 'STAB', 'STAF', 'STAG', 'STAR', 'STAR-D', 'STAR-G', 'STAR-I', 'STBA', 'STBL', 'STC', 'STCN', 'STE', 'STEM', 'STEP', 'STER', 'STET', 'STET+', 'STET=', 'STG', 'STGW', 'STIM', 'STIP', 'STK', 'STKL', 'STKS', 'STLA', 'STLD', 'STLG', 'STLV', 'STM', 'STN', 'STNC', 'STNE', 'STNG', 'STOK', 'STON', 'STOR', 'STOT', 'STPZ', 'STRA', 'STRC', 'STRCW', 'STRE', 'STRE+', 'STRE=', 'STRL', 'STRM', 'STRN', 'STRNW', 'STRO', 'STRR', 'STRRP', 'STRS', 'STRT', 'STRY', 'STRY+', 'STSA', 'STT', 'STT-D', 'STT-G', 'STTK', 'STVN', 'STWD', 'STX', 'STXB', 'STXS', 'STZ', 'STZ.B', 'SU', 'SUAC', 'SUAC+', 'SUAC=', 'SUB', 'SUBS', 'SUBZ', 'SUI', 'SUM', 'SUMO', 'SUMR', 'SUN', 'SUNFU', 'SUNL', 'SUNL+', 'SUNS', 'SUNW', 'SUP', 'SUPN', 'SUPV', 'SURF', 'SURG', 'SURGW', 'SUSA', 'SUSB', 'SUSC', 'SUSL', 'SUZ', 'SV', 'SVA', 'SVAL', 'SVC', 'SVFA', 'SVFAU', 'SVFAW', 'SVFB', 'SVFC', 'SVFD', 'SVIIU', 'SVIX', 'SVM', 'SVNA', 'SVNAU', 'SVNAW', 'SVOL', 'SVRA', 'SVSVU', 'SVSVW', 'SVT', 'SVVC', 'SVXY', 'SWAG', 'SWAGU', 'SWAGW', 'SWAN', 'SWAR', 'SWAV', 'SWBI', 'SWCH', 'SWET', 'SWETU', 'SWETW', 'SWI', 'SWIM', 'SWIR', 'SWK', 'SWKH', 'SWKS', 'SWM', 'SWN', 'SWSS', 'SWSSU', 'SWSSW', 'SWT', 'SWTX', 'SWVL', 'SWVLW', 'SWX', 'SWZ', 'SXC', 'SXI', 'SXQG', 'SXT', 'SXTC', 'SXUS', 'SY', 'SYBT', 'SYBX', 'SYF', 'SYF-A', 'SYK', 'SYLD', 'SYN', 'SYNA', 'SYNH', 'SYNL', 'SYPR', 'SYRS', 'SYTA', 'SYTAW', 'SYUS', 'SYY', 'SZC', 'SZK', 'SZNE', 'SZZL', 'SZZLU', 'SZZLW', 'T', 'T-A', 'T-C', 'TA', 'TAC', 'TACA', 'TACA+', 'TACA=', 'TACK', 'TACT', 'TAGG', 'TAGS', 'TAIL', 'TAIT', 'TAK', 'TAL', 'TALK', 'TALKW', 'TALO', 'TALS', 'TAN', 'TANH', 'TANNI', 'TANNL', 'TANNZ', 'TAOP', 'TAP', 'TAP.A', 'TARA', 'TARO', 'TARS', 'TASK', 'TAST', 'TATT', 'TAXF', 'TAYD', 'TBB', 'TBBK', 'TBC', 'TBCP', 'TBCPU', 'TBCPW', 'TBF', 'TBI', 'TBJL', 'TBK', 'TBKCP', 'TBLA', 'TBLAW', 'TBLD', 'TBLT', 'TBLTW', 'TBNK', 'TBPH', 'TBSA', 'TBSAU', 'TBSAW', 'TBT', 'TBUX', 'TBX', 'TC', 'TCAC', 'TCACU', 'TCACW', 'TCBC', 'TCBI', 'TCBIO', 'TCBK', 'TCBP', 'TCBPW', 'TCBS', 'TCBX', 'TCDA', 'TCFC', 'TCHI', 'TCHP', 'TCI', 'TCMD', 'TCN', 'TCOA', 'TCOA+', 'TCOA=', 'TCOM', 'TCON', 'TCPC', 'TCRR', 'TCRT', 'TCRX', 'TCS', 'TCTL', 'TCVA', 'TCX', 'TD', 'TDC', 'TDCX', 'TDF', 'TDG', 'TDIV', 'TDOC', 'TDS', 'TDS-U', 'TDS-V', 'TDSA', 'TDSB', 'TDSC', 'TDSD', 'TDSE', 'TDTF', 'TDTT', 'TDUP', 'TDV', 'TDVG', 'TDW', 'TDW+', 'TDW+A', 'TDW+B', 'TDY', 'TEAF', 'TEAM', 'TECB', 'TECH', 'TECK', 'TECL', 'TECS', 'TECTP', 'TEDU', 'TEF', 'TEI', 'TEKK', 'TEKKU', 'TEKKW', 'TEL', 'TELA', 'TELL', 'TELZ', 'TEMP', 'TEN', 'TENB', 'TENG', 'TENX', 'TEO', 'TEQI', 'TER', 'TERN', 'TESS', 'TETC', 'TETCU', 'TETCW', 'TETE', 'TETEU', 'TETEW', 'TEVA', 'TEX', 'TFC', 'TFC-I', 'TFC-O', 'TFC-R', 'TFFP', 'TFI', 'TFII', 'TFJL', 'TFLO', 'TFSA', 'TFSL', 'TFX', 'TG', 'TGA', 'TGAA', 'TGAAU', 'TGAAW', 'TGAN', 'TGB', 'TGH', 'TGH-A', 'TGH-B', 'TGI', 'TGIF', 'TGLS', 'TGNA', 'TGR', 'TGR+', 'TGR=', 'TGRW', 'TGS', 'TGT', 'TGTX', 'TGVC', 'TGVCU', 'TGVCW', 'TH', 'THAC', 'THACU', 'THACW', 'THC', 'THCA', 'THCAU', 'THCAW', 'THCP', 'THCPU', 'THCPW', 'THCX', 'THD', 'THFF', 'THG', 'THM', 'THMO', 'THNQ', 'THO', 'THQ', 'THR', 'THRM', 'THRN', 'THRX', 'THRY', 'THS', 'THTX', 'THW', 'THWWW', 'THY', 'TIG', 'TIGO', 'TIGR', 'TIL', 'TILE', 'TILT', 'TIMB', 'TIME', 'TINT', 'TINV', 'TINV+', 'TINV=', 'TINY', 'TIOA', 'TIOAU', 'TIOAW', 'TIP', 'TIPT', 'TIPX', 'TIPZ', 'TIRX', 'TISI', 'TITN', 'TIVC', 'TIXT', 'TJX', 'TK', 'TKAT', 'TKC', 'TKLF', 'TKNO', 'TKR', 'TLGA', 'TLGA+', 'TLGA=', 'TLGY', 'TLGYU', 'TLGYW', 'TLH', 'TLIS', 'TLK', 'TLMD', 'TLMDW', 'TLRY', 'TLS', 'TLSA', 'TLT', 'TLTD', 'TLTE', 'TLYS', 'TM', 'TMAC', 'TMAC+', 'TMAC=', 'TMAT', 'TMBR', 'TMC', 'TMCI', 'TMCWW', 'TMDI', 'TMDV', 'TMDX', 'TME', 'TMF', 'TMFC', 'TMFE', 'TMFG', 'TMFM', 'TMFS', 'TMFX', 'TMHC', 'TMKR', 'TMKRU', 'TMKRW', 'TMO', 'TMP', 'TMPM', 'TMPMU', 'TMPMW', 'TMQ', 'TMST', 'TMUS', 'TMV', 'TMX', 'TNA', 'TNC', 'TNDM', 'TNET', 'TNGX', 'TNK', 'TNL', 'TNP', 'TNP-D', 'TNP-E', 'TNP-F', 'TNXP', 'TNYA', 'TOAC', 'TOACU', 'TOACW', 'TOI', 'TOIIW', 'TOK', 'TOKE', 'TOL', 'TOLZ', 'TOMZ', 'TOPS', 'TOST', 'TOTL', 'TOTR', 'TOUR', 'TOWN', 'TPAY', 'TPB', 'TPBA', 'TPBAU', 'TPBAW', 'TPC', 'TPG', 'TPGY', 'TPGY+', 'TPGY=', 'TPH', 'TPHD', 'TPHE', 'TPHS', 'TPIC', 'TPIF', 'TPL', 'TPLC', 'TPLE', 'TPOR', 'TPR', 'TPSC', 'TPST', 'TPTA', 'TPTX', 'TPVG', 'TPX', 'TPYP', 'TPZ', 'TQQQ', 'TR', 'TRAQ', 'TRAQ+', 'TRAQ=', 'TRC', 'TRCA', 'TRCA+', 'TRCA=', 'TRDA', 'TRDF', 'TREC', 'TREE', 'TREX', 'TRGP', 'TRHC', 'TRI', 'TRIB', 'TRIN', 'TRIP', 'TRIS', 'TRIS+', 'TRIS=', 'TRKA', 'TRKAW', 'TRMB', 'TRMD', 'TRMK', 'TRMR', 'TRN', 'TRND', 'TRNO', 'TRNS', 'TRON', 'TRONU', 'TRONW', 'TROO', 'TROW', 'TROX', 'TRP', 'TRPL', 'TRQ', 'TRS', 'TRST', 'TRT', 'TRTL', 'TRTL+', 'TRTL=', 'TRTN', 'TRTN-A', 'TRTN-B', 'TRTN-C', 'TRTN-D', 'TRTN-E', 'TRTX', 'TRTX-C', 'TRTY', 'TRU', 'TRUE', 'TRUP', 'TRV', 'TRVG', 'TRVI', 'TRVN', 'TRX', 'TRYP', 'TS', 'TSAT', 'TSBK', 'TSC', 'TSCAP', 'TSCBP', 'TSCO', 'TSE', 'TSEM', 'TSHA', 'TSI', 'TSIB', 'TSIBU', 'TSIBW', 'TSJA', 'TSLA', 'TSLX', 'TSM', 'TSN', 'TSOC', 'TSP', 'TSPA', 'TSPQ', 'TSPQ+', 'TSPQ=', 'TSQ', 'TSRI', 'TSVT', 'TT', 'TTAC', 'TTAI', 'TTC', 'TTCF', 'TTD', 'TTE', 'TTEC', 'TTEK', 'TTGT', 'TTI', 'TTM', 'TTMI', 'TTNP', 'TTOO', 'TTP', 'TTSH', 'TTT', 'TTWO', 'TU', 'TUEM', 'TUFN', 'TUGC', 'TUGCU', 'TUGCW', 'TUP', 'TUR', 'TURN', 'TUSA', 'TUSK', 'TUYA', 'TV', 'TVC', 'TVE', 'TVTX', 'TVTY', 'TW', 'TWCB', 'TWCBU', 'TWCBW', 'TWI', 'TWIN', 'TWIO', 'TWKS', 'TWLO', 'TWLV', 'TWLVU', 'TWLVW', 'TWM', 'TWN', 'TWND', 'TWND+', 'TWND=', 'TWNI', 'TWNI+', 'TWNI=', 'TWNK', 'TWO', 'TWO-A', 'TWO-B', 'TWO-C', 'TWOA', 'TWOU', 'TWST', 'TWTR', 'TX', 'TXG', 'TXMD', 'TXN', 'TXRH', 'TXT', 'TY', 'TY-', 'TYA', 'TYD', 'TYG', 'TYL', 'TYME', 'TYNE', 'TYO', 'TYRA', 'TZA', 'TZOO', 'TZPS', 'TZPSU', 'TZPSW', 'U', 'UA', 'UAA', 'UAE', 'UAL', 'UAMY', 'UAN', 'UAPR', 'UAUG', 'UAVS', 'UBA', 'UBCB', 'UBCP', 'UBER', 'UBFO', 'UBND', 'UBOH', 'UBOT', 'UBP', 'UBP-H', 'UBP-K', 'UBR', 'UBS', 'UBSI', 'UBT', 'UBX', 'UCBI', 'UCBIO', 'UCC', 'UCIB', 'UCL', 'UCO', 'UCON', 'UCRD', 'UCTT', 'UCYB', 'UDEC', 'UDMY', 'UDN', 'UDOW', 'UDR', 'UE', 'UEC', 'UEIC', 'UEPS', 'UEVM', 'UFAB', 'UFCS', 'UFEB', 'UFI', 'UFO', 'UFPI', 'UFPT', 'UG', 'UGA', 'UGCE', 'UGE', 'UGI', 'UGIC', 'UGL', 'UGP', 'UGRO', 'UHAL', 'UHS', 'UHT', 'UI', 'UIHC', 'UIS', 'UITB', 'UIVM', 'UJAN', 'UJB', 'UJUL', 'UJUN', 'UK', 'UKOMW', 'UL', 'ULBI', 'ULCC', 'ULE', 'ULH', 'ULST', 'ULTA', 'ULTR', 'ULVM', 'UMAR', 'UMAY', 'UMBF', 'UMC', 'UMDD', 'UMH', 'UMH-C', 'UMH-D', 'UMI', 'UMMA', 'UMPQ', 'UNAM', 'UNB', 'UNCY', 'UNF', 'UNFI', 'UNG', 'UNH', 'UNIT', 'UNL', 'UNM', 'UNMA', 'UNOV', 'UNP', 'UNTY', 'UNVR', 'UOCT', 'UONE', 'UONEK', 'UP', 'UP+', 'UPAR', 'UPC', 'UPH', 'UPH+', 'UPLD', 'UPRO', 'UPS', 'UPST', 'UPTD', 'UPTDU', 'UPTDW', 'UPV', 'UPW', 'UPWK', 'URA', 'URBN', 'URE', 'URG', 'URGN', 'URI', 'URNM', 'UROY', 'URTH', 'URTY', 'USA', 'USAC', 'USAI', 'USAK', 'USAP', 'USAS', 'USAU', 'USB', 'USB-A', 'USB-H', 'USB-P', 'USB-Q', 'USB-R', 'USB-S', 'USBF', 'USCB', 'USCI', 'USCT', 'USCTU', 'USCTW', 'USD', 'USDP', 'USDU', 'USEG', 'USEP', 'USEQ', 'USER', 'USFD', 'USFR', 'USHY', 'USI', 'USIG', 'USIO', 'USL', 'USLB', 'USLM', 'USM', 'USMC', 'USMF', 'USML', 'USMV', 'USNA', 'USO', 'USOI', 'USPH', 'USRT', 'USSG', 'UST', 'USTB', 'USVM', 'USVT', 'USWS', 'USWSW', 'USX', 'USXF', 'UTAA', 'UTAAU', 'UTAAW', 'UTES', 'UTF', 'UTG', 'UTHR', 'UTI', 'UTL', 'UTMD', 'UTME', 'UTRN', 'UTRS', 'UTSI', 'UTSL', 'UTZ', 'UUP', 'UUU', 'UUUU', 'UVDV', 'UVE', 'UVIX', 'UVSP', 'UVV', 'UVXY', 'UWM', 'UWMC', 'UWMC+', 'UXI', 'UXIN', 'UYG', 'UYM', 'UZD', 'UZE', 'UZF', 'V', 'VABK', 'VABS', 'VAC', 'VACC', 'VAL', 'VAL+', 'VALE', 'VALN', 'VALQ', 'VALT', 'VALU', 'VAMO', 'VAPO', 'VAQC', 'VATE', 'VAW', 'VAXX', 'VB', 'VBB', 'VBF', 'VBFC', 'VBIV', 'VBK', 'VBLT', 'VBND', 'VBNK', 'VBOC', 'VBOCU', 'VBOCW', 'VBR', 'VBTX', 'VC', 'VCAR', 'VCEB', 'VCEL', 'VCIF', 'VCIT', 'VCKA', 'VCKAU', 'VCKAW', 'VCLN', 'VCLO', 'VCLT', 'VCNX', 'VCR', 'VCSA', 'VCSH', 'VCTR', 'VCV', 'VCXA', 'VCXAU', 'VCXAW', 'VCXB', 'VCXB+', 'VCXB=', 'VCYT', 'VDC', 'VDE', 'VDNI', 'VEA', 'VEC', 'VECO', 'VECT', 'VEEE', 'VEEV', 'VEGA', 'VEGI', 'VEGN', 'VEL', 'VELO', 'VELOU', 'VELOW', 'VENA', 'VENAR', 'VENAU', 'VENAW', 'VEON', 'VERA', 'VERB', 'VERBW', 'VERI', 'VERO', 'VERS', 'VERU', 'VERV', 'VERX', 'VERY', 'VET', 'VEU', 'VEV', 'VFC', 'VFF', 'VFH', 'VFIN', 'VFL', 'VFLQ', 'VFMF', 'VFMO', 'VFMV', 'VFQY', 'VFVA', 'VG', 'VGFC', 'VGI', 'VGII', 'VGII+', 'VGII=', 'VGIT', 'VGK', 'VGLT', 'VGM', 'VGR', 'VGSH', 'VGT', 'VGZ', 'VHAQ', 'VHAQ+', 'VHAQ=', 'VHAQ^', 'VHC', 'VHI', 'VHNA', 'VHNAU', 'VHNAW', 'VHT', 'VIA', 'VIAO', 'VIASP', 'VIAV', 'VICE', 'VICI', 'VICR', 'VIDI', 'VIEW', 'VIEWW', 'VIG', 'VIGI', 'VIGL', 'VII', 'VIIAU', 'VIIAW', 'VINC', 'VINE', 'VINO', 'VINP', 'VIOG', 'VIOO', 'VIOT', 'VIOV', 'VIPS', 'VIR', 'VIRC', 'VIRI', 'VIRS', 'VIRT', 'VIRX', 'VIS', 'VISL', 'VIST', 'VITL', 'VIV', 'VIVE', 'VIVK', 'VIVO', 'VIXM', 'VIXY', 'VJET', 'VKI', 'VKQ', 'VKTX', 'VLAT', 'VLATU', 'VLATW', 'VLCN', 'VLD', 'VLD+', 'VLDR', 'VLDRW', 'VLGEA', 'VLN', 'VLN+', 'VLNS', 'VLO', 'VLON', 'VLRS', 'VLT', 'VLTA', 'VLTA+', 'VLU', 'VLUE', 'VLY', 'VLYPO', 'VLYPP', 'VMAR', 'VMBS', 'VMC', 'VMCAU', 'VMD', 'VMEO', 'VMGA', 'VMGAU', 'VMGAW', 'VMI', 'VMO', 'VMOT', 'VMW', 'VNAM', 'VNCE', 'VNDA', 'VNE', 'VNET', 'VNLA', 'VNM', 'VNMC', 'VNO', 'VNO-L', 'VNO-M', 'VNO-N', 'VNO-O', 'VNOM', 'VNQ', 'VNQI', 'VNRX', 'VNSE', 'VNT', 'VNTR', 'VO', 'VOC', 'VOD', 'VOE', 'VOLT', 'VONE', 'VONG', 'VONV', 'VOO', 'VOOG', 'VOOV', 'VOR', 'VORB', 'VORBW', 'VOT', 'VOTE', 'VOX', 'VOXX', 'VOYA', 'VOYA-B', 'VPC', 'VPCB', 'VPCBU', 'VPCBW', 'VPG', 'VPL', 'VPN', 'VPOP', 'VPU', 'VPV', 'VQS', 'VRA', 'VRAI', 'VRAR', 'VRAY', 'VRCA', 'VRDN', 'VRE', 'VREX', 'VRIG', 'VRM', 'VRME', 'VRMEW', 'VRNA', 'VRNS', 'VRNT', 'VRP', 'VRPX', 'VRRM', 'VRSK', 'VRSN', 'VRT', 'VRTS', 'VRTV', 'VRTX', 'VS', 'VSAC', 'VSACU', 'VSACW', 'VSAT', 'VSCO', 'VSDA', 'VSEC', 'VSGX', 'VSH', 'VSL', 'VSLU', 'VSMV', 'VSPY', 'VSS', 'VSSYW', 'VST', 'VST+A', 'VSTA', 'VSTM', 'VSTO', 'VT', 'VTAQ', 'VTAQR', 'VTAQU', 'VTAQW', 'VTC', 'VTEB', 'VTEX', 'VTGN', 'VTHR', 'VTI', 'VTIP', 'VTIQ', 'VTIQU', 'VTIQW', 'VTN', 'VTNR', 'VTOL', 'VTR', 'VTRS', 'VTRU', 'VTSI', 'VTV', 'VTVT', 'VTWG', 'VTWO', 'VTWV', 'VTYX', 'VUG', 'VUSB', 'VUSE', 'VUZI', 'VV', 'VVI', 'VVNT', 'VVOS', 'VVPR', 'VVR', 'VVV', 'VWE', 'VWEWW', 'VWID', 'VWO', 'VWOB', 'VWTR', 'VXF', 'VXRT', 'VXUS', 'VXX', 'VXZ', 'VYGG', 'VYGG+', 'VYGG=', 'VYGR', 'VYM', 'VYMI', 'VYNE', 'VYNT', 'VZ', 'VZIO', 'VZLA', 'W', 'WAB', 'WABC', 'WAFD', 'WAFDP', 'WAFU', 'WAL', 'WAL-A', 'WALD', 'WALDU', 'WALDW', 'WANT', 'WARR', 'WARR+', 'WARR=', 'WASH', 'WAT', 'WATT', 'WAVC', 'WAVC+', 'WAVC=', 'WAVD', 'WAVE', 'WAVSU', 'WB', 'WBA', 'WBAT', 'WBEV', 'WBIF', 'WBIG', 'WBII', 'WBIL', 'WBIT', 'WBIY', 'WBND', 'WBS', 'WBS-F', 'WBS-G', 'WBT', 'WBX', 'WBX+', 'WCBR', 'WCC', 'WCC-A', 'WCLD', 'WCN', 'WD', 'WDAY', 'WDC', 'WDFC', 'WDH', 'WDI', 'WDIV', 'WDNA', 'WE', 'WE+', 'WEA', 'WEAT', 'WEAV', 'WEBL', 'WEBR', 'WEBS', 'WEC', 'WEI', 'WEIX', 'WEJO', 'WEJOW', 'WEL', 'WEL+', 'WEL=', 'WELL', 'WEN', 'WERN', 'WES', 'WETF', 'WEX', 'WEYS', 'WF', 'WFC', 'WFC-A', 'WFC-C', 'WFC-D', 'WFC-L', 'WFC-Q', 'WFC-R', 'WFC-Y', 'WFC-Z', 'WFCF', 'WFG', 'WFH', 'WFHY', 'WFIG', 'WFRD', 'WGLD', 'WGMI', 'WGO', 'WGRO', 'WH', 'WHD', 'WHF', 'WHG', 'WHLM', 'WHLR', 'WHLRD', 'WHLRL', 'WHLRP', 'WHR', 'WIA', 'WIL', 'WILC', 'WIMI', 'WINA', 'WINC', 'WING', 'WINN', 'WINT', 'WINV', 'WINVR', 'WINVU', 'WINVW', 'WIP', 'WIRE', 'WISA', 'WISH', 'WIT', 'WIW', 'WIX', 'WIZ', 'WK', 'WKEY', 'WKHS', 'WKLY', 'WKME', 'WKSP', 'WKSPW', 'WLDN', 'WLDR', 'WLFC', 'WLK', 'WLKP', 'WLL', 'WLMS', 'WLTG', 'WLTH', 'WLY', 'WLYB', 'WM', 'WMB', 'WMC', 'WMG', 'WMK', 'WMPN', 'WMS', 'WMT', 'WNC', 'WNDY', 'WNEB', 'WNNR', 'WNNR+', 'WNNR=', 'WNS', 'WNW', 'WOLF', 'WOMN', 'WOOD', 'WOOF', 'WOR', 'WORX', 'WOW', 'WPC', 'WPCA', 'WPCA+', 'WPCA=', 'WPCB', 'WPCB+', 'WPCB=', 'WPM', 'WPP', 'WPRT', 'WPS', 'WQGA', 'WQGA+', 'WQGA=', 'WRAC', 'WRAC+', 'WRAC=', 'WRAP', 'WRB', 'WRB-E', 'WRB-F', 'WRB-G', 'WRB-H', 'WRBY', 'WRE', 'WRK', 'WRLD', 'WRN', 'WRND', 'WSBC', 'WSBCP', 'WSBF', 'WSC', 'WSFS', 'WSM', 'WSO', 'WSO.B', 'WSR', 'WST', 'WSTG', 'WTAI', 'WTBA', 'WTER', 'WTFC', 'WTFCM', 'WTFCP', 'WTI', 'WTM', 'WTMA', 'WTMAR', 'WTMAU', 'WTMF', 'WTRG', 'WTRH', 'WTRU', 'WTS', 'WTT', 'WTTR', 'WTV', 'WTW', 'WU', 'WUGI', 'WULF', 'WVE', 'WVFC', 'WVVI', 'WVVIP', 'WW', 'WWAC', 'WWACU', 'WWACW', 'WWD', 'WWE', 'WWJD', 'WWOW', 'WWR', 'WWW', 'WY', 'WYNN', 'WYTC', 'WYTCW', 'WYY', 'X', 'XAIR', 'XAR', 'XBAP', 'XBI', 'XBIO', 'XBIOW', 'XBIT', 'XBJA', 'XBJL', 'XBOC', 'XBTF', 'XCEM', 'XCLR', 'XCUR', 'XDAP', 'XDAT', 'XDEC', 'XDJA', 'XDJL', 'XDNA', 'XDOC', 'XDQQ', 'XDSQ', 'XEL', 'XELA', 'XELAP', 'XELB', 'XENE', 'XENT', 'XERS', 'XES', 'XFIN', 'XFINU', 'XFINW', 'XFLT', 'XFLT-A', 'XFOR', 'XGN', 'XHB', 'XHE', 'XHR', 'XHS', 'XHYC', 'XHYD', 'XHYE', 'XHYF', 'XHYH', 'XHYI', 'XHYT', 'XIN', 'XITK', 'XJH', 'XJR', 'XJUN', 'XL', 'XLB', 'XLC', 'XLE', 'XLF', 'XLG', 'XLI', 'XLK', 'XLO', 'XLP', 'XLRE', 'XLSR', 'XLU', 'XLV', 'XLY', 'XM', 'XME', 'XMHQ', 'XMLV', 'XMMO', 'XMPT', 'XMTR', 'XMVM', 'XNCR', 'XNET', 'XNTK', 'XOM', 'XOMA', 'XOMAO', 'XOMAP', 'XOP', 'XOS', 'XOSWW', 'XOUT', 'XP', 'XPAX', 'XPAXU', 'XPAXW', 'XPDB', 'XPDBU', 'XPDBW', 'XPEL', 'XPER', 'XPEV', 'XPH', 'XPL', 'XPND', 'XPO', 'XPOA', 'XPOA+', 'XPOA=', 'XPOF', 'XPON', 'XPP', 'XPRO', 'XRAY', 'XRLV', 'XRMI', 'XRT', 'XRTX', 'XRX', 'XSD', 'XSHD', 'XSHQ', 'XSLV', 'XSMO', 'XSOE', 'XSPA', 'XSVM', 'XSW', 'XT', 'XTAP', 'XTJA', 'XTJL', 'XTL', 'XTLB', 'XTN', 'XTNT', 'XTOC', 'XTR', 'XVOL', 'XVV', 'XWEB', 'XXII', 'XYF', 'XYL', 'XYLD', 'XYLG', 'Y', 'YALA', 'YANG', 'YCBD', 'YCBD-A', 'YCL', 'YCS', 'YDEC', 'YELL', 'YELP', 'YETI', 'YEXT', 'YGMZ', 'YI', 'YINN', 'YJ', 'YJUN', 'YLD', 'YLDE', 'YMAB', 'YMAR', 'YMM', 'YMTX', 'YNDX', 'YOLO', 'YORW', 'YOU', 'YPF', 'YPS', 'YQ', 'YRD', 'YSEP', 'YSG', 'YTEN', 'YTPG', 'YTRA', 'YUM', 'YUMC', 'YUMY', 'YVR', 'YXI', 'YY', 'YYY', 'Z', 'ZAZZT', 'ZBH', 'ZBRA', 'ZBZX', 'ZBZZT', 'ZCMD', 'ZCZZT', 'ZD', 'ZDGE', 'ZEAL', 'ZECP', 'ZEN', 'ZENV', 'ZEPP', 'ZEST', 'ZETA', 'ZEUS', 'ZEV', 'ZEV+', 'ZEXIT', 'ZG', 'ZGEN', 'ZGN', 'ZGN+', 'ZH', 'ZHDG', 'ZI', 'ZIEXT', 'ZIG', 'ZIM', 'ZIMV', 'ZING', 'ZINGU', 'ZINGW', 'ZION', 'ZIONL', 'ZIONO', 'ZIONP', 'ZIP', 'ZIVO', 'ZIVOW', 'ZJZZT', 'ZKIN', 'ZLAB', 'ZM', 'ZME', 'ZNGA', 'ZNH', 'ZNTE', 'ZNTEU', 'ZNTEW', 'ZNTL', 'ZOM', 'ZROZ', 'ZS', 'ZSAN', 'ZSL', 'ZT', 'ZTAQU', 'ZTAQW', 'ZTEK', 'ZTEST', 'ZTO', 'ZTR', 'ZTS', 'ZUMZ', 'ZUO', 'ZVIA', 'ZVO', 'ZVV', 'ZVVV', 'ZVZZT', 'ZWRK', 'ZWRKU', 'ZWRKW', 'ZWS', 'ZWZZT', 'ZXIET', 'ZXZZT', 'ZY', 'ZYME', 'ZYNE', 'ZYXI']\n"
     ]
    }
   ],
   "source": [
    "#Get the names of all the stocks in the list\n",
    "stockNames = []\n",
    "for stock in r.json():\n",
    "    stockNames.append(stock['symbol'])\n",
    "#print(stockNames)"
   ]
  },
  {
   "cell_type": "code",
   "execution_count": 342,
   "metadata": {},
   "outputs": [
    {
     "name": "stdout",
     "output_type": "stream",
     "text": [
      "['MLCO', 'NPFD', 'TX', 'NDAQ', 'AVAC']\n"
     ]
    }
   ],
   "source": [
    "import random\n",
    "chosenStocks = random.sample(stockNames, 5)\n",
    "print(chosenStocks)"
   ]
  },
  {
   "cell_type": "code",
   "execution_count": null,
   "metadata": {},
   "outputs": [],
   "source": []
  }
 ],
 "metadata": {
  "interpreter": {
   "hash": "b0fa6594d8f4cbf19f97940f81e996739fb7646882a419484c72d19e05852a7e"
  },
  "kernelspec": {
   "display_name": "Python 3.9.6 64-bit",
   "language": "python",
   "name": "python3"
  },
  "language_info": {
   "codemirror_mode": {
    "name": "ipython",
    "version": 3
   },
   "file_extension": ".py",
   "mimetype": "text/x-python",
   "name": "python",
   "nbconvert_exporter": "python",
   "pygments_lexer": "ipython3",
   "version": "3.9.6"
  },
  "orig_nbformat": 4
 },
 "nbformat": 4,
 "nbformat_minor": 2
}
